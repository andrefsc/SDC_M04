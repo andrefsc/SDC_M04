{
  "cells": [
    {
      "cell_type": "markdown",
      "metadata": {
        "id": "view-in-github",
        "colab_type": "text"
      },
      "source": [
        "<a href=\"https://colab.research.google.com/github/andrefsc/SDC_M04/blob/main/M06_TareaIndividual_Parte1_AndreCastanho.ipynb\" target=\"_parent\"><img src=\"https://colab.research.google.com/assets/colab-badge.svg\" alt=\"Open In Colab\"/></a>"
      ]
    },
    {
      "cell_type": "markdown",
      "metadata": {
        "id": "itY3q17Uba-N"
      },
      "source": [
        "# **Master en Inteligência Artificial en el Deporte, Edición 8**\n",
        "\n",
        "![logo_SDC.webp](data:image/webp;base64,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)"
      ]
    },
    {
      "cell_type": "markdown",
      "metadata": {
        "id": "AnKCic_lp2vH"
      },
      "source": [
        "__Tarea Individual Módulo 6 - Parte 1__\n",
        "````\n",
        "Análisis de sentimiento con BERT : Reviews de Películas\n",
        "\n",
        "La primera parte de esta tarea consiste en utilizar el modelo BERT para realizar un análisis de sentimiento de reviews de películas.\n",
        "\n",
        "Utilizaremos el notebook Tarea_Modulo_6_Parte_1.ipynb cómo plantilla, donde se necesitan completar varias celdas del notebook con\n",
        "el código necesario para realizar las tareas que se piden (Instrucciones al principio del notebook).\n",
        "Además, se deben contestar un par de preguntas sobre el desarrollo al final del notebook.\n",
        "\n",
        "---\n",
        "\n",
        "André Silveira Castanho\n",
        "April, 2024\n",
        "\n",
        "`````"
      ]
    },
    {
      "cell_type": "markdown",
      "metadata": {
        "id": "97M1nisyhUtO"
      },
      "source": [
        "**Explicación del Código**\n",
        "\n",
        "````\n",
        "Este código permite acceder a los archivos almacenados en Google Drive desde un cuaderno de Colab, montando el Google Drive\n",
        "como un sistema de archivos en la ruta especificada (/content/drive).\n",
        "\n",
        "````"
      ]
    },
    {
      "cell_type": "code",
      "execution_count": 1,
      "metadata": {
        "colab": {
          "base_uri": "https://localhost:8080/"
        },
        "id": "Ai25EML7Umcm",
        "outputId": "c969fdc5-9822-411a-9b23-8fdf18916546"
      },
      "outputs": [
        {
          "output_type": "stream",
          "name": "stdout",
          "text": [
            "Mounted at /content/drive\n"
          ]
        }
      ],
      "source": [
        "from google.colab import drive\n",
        "drive.mount('/content/drive', force_remount=True)"
      ]
    },
    {
      "cell_type": "markdown",
      "metadata": {
        "id": "EDvouw8R7ch2"
      },
      "source": [
        "El ambiente virtual de Google Colab ya incluye muchas de las bibliotecas comúnmente usadas en tareas de inteligencia artificial.\n",
        "No obstante, es necesario añadir la biblioteca **transformers** de Huggingface y **tqdm**, que facilita la visualización de barras de progreso en bucles for."
      ]
    },
    {
      "cell_type": "code",
      "execution_count": 2,
      "metadata": {
        "colab": {
          "base_uri": "https://localhost:8080/"
        },
        "id": "Ts4fGFUifZ54",
        "outputId": "ad01c065-dab9-4733-dda3-2327940fd4f6"
      },
      "outputs": [
        {
          "output_type": "stream",
          "name": "stdout",
          "text": [
            "Requirement already satisfied: transformers in /usr/local/lib/python3.10/dist-packages (4.38.2)\n",
            "Requirement already satisfied: filelock in /usr/local/lib/python3.10/dist-packages (from transformers) (3.13.4)\n",
            "Requirement already satisfied: huggingface-hub<1.0,>=0.19.3 in /usr/local/lib/python3.10/dist-packages (from transformers) (0.20.3)\n",
            "Requirement already satisfied: numpy>=1.17 in /usr/local/lib/python3.10/dist-packages (from transformers) (1.25.2)\n",
            "Requirement already satisfied: packaging>=20.0 in /usr/local/lib/python3.10/dist-packages (from transformers) (24.0)\n",
            "Requirement already satisfied: pyyaml>=5.1 in /usr/local/lib/python3.10/dist-packages (from transformers) (6.0.1)\n",
            "Requirement already satisfied: regex!=2019.12.17 in /usr/local/lib/python3.10/dist-packages (from transformers) (2023.12.25)\n",
            "Requirement already satisfied: requests in /usr/local/lib/python3.10/dist-packages (from transformers) (2.31.0)\n",
            "Requirement already satisfied: tokenizers<0.19,>=0.14 in /usr/local/lib/python3.10/dist-packages (from transformers) (0.15.2)\n",
            "Requirement already satisfied: safetensors>=0.4.1 in /usr/local/lib/python3.10/dist-packages (from transformers) (0.4.2)\n",
            "Requirement already satisfied: tqdm>=4.27 in /usr/local/lib/python3.10/dist-packages (from transformers) (4.66.2)\n",
            "Requirement already satisfied: fsspec>=2023.5.0 in /usr/local/lib/python3.10/dist-packages (from huggingface-hub<1.0,>=0.19.3->transformers) (2023.6.0)\n",
            "Requirement already satisfied: typing-extensions>=3.7.4.3 in /usr/local/lib/python3.10/dist-packages (from huggingface-hub<1.0,>=0.19.3->transformers) (4.11.0)\n",
            "Requirement already satisfied: charset-normalizer<4,>=2 in /usr/local/lib/python3.10/dist-packages (from requests->transformers) (3.3.2)\n",
            "Requirement already satisfied: idna<4,>=2.5 in /usr/local/lib/python3.10/dist-packages (from requests->transformers) (3.6)\n",
            "Requirement already satisfied: urllib3<3,>=1.21.1 in /usr/local/lib/python3.10/dist-packages (from requests->transformers) (2.0.7)\n",
            "Requirement already satisfied: certifi>=2017.4.17 in /usr/local/lib/python3.10/dist-packages (from requests->transformers) (2024.2.2)\n",
            "Requirement already satisfied: tqdm in /usr/local/lib/python3.10/dist-packages (4.66.2)\n"
          ]
        }
      ],
      "source": [
        "!pip install transformers\n",
        "!pip install tqdm"
      ]
    },
    {
      "cell_type": "markdown",
      "metadata": {
        "id": "BCzcGoUEf1ks"
      },
      "source": [
        "# 0. Imports\n",
        "\n",
        "En la sección **Imports** agrupamos todas las librerías y clases que debemos importar en esta tarea."
      ]
    },
    {
      "cell_type": "code",
      "execution_count": 3,
      "metadata": {
        "id": "sF09g3M6fsNO"
      },
      "outputs": [],
      "source": [
        "# import basic libraries for data science\n",
        "import pandas as pd # para manipulación y análisis de datos\n",
        "import numpy as np # para operaciones matemáticas de alto nivel\n",
        "import matplotlib.pyplot as plt # para la visualización de datos\n",
        "\n",
        "# import torch and transformers\n",
        "import torch # el framework principal para operaciones con tensores y redes neuronales\n",
        "from torch import cuda # de PyTorch, para operaciones en GPUs\n",
        "from torch.utils.data import Dataset, DataLoader # para manejar y cargar datos en formato adecuado para entrenar modelos con PyTorch\n",
        "from transformers import AutoModelForSequenceClassification, AutoTokenizer # de la biblioteca transformers, para cargar modelos preentrenados\n",
        "                                                                           # y tokenizadores que se ajustan automáticamente al modelo\n",
        "\n",
        "# import different metrics for evaluation\n",
        "# Para evaluar el rendimiento de modelos de clasificación\n",
        "from sklearn.metrics import precision_score, recall_score, confusion_matrix, classification_report\n",
        "from sklearn.metrics import classification_report, accuracy_score, f1_score\n",
        "\n",
        "# import tqdm to track progress\n",
        "# para mostrar barras de progreso en bucles, facilitando el seguimiento de largas ejecuciones\n",
        "from tqdm import tqdm\n",
        "from tqdm.notebook import tqdm\n",
        "\n",
        "# import some python modules required for some of the utility functions\n",
        "import itertools # ofrece construcciones eficientes de bucles\n",
        "import re # para operaciones de expresiones regulares\n",
        "import os # para interactuar con el sistema operativo, como manejo de archivos y directorios"
      ]
    },
    {
      "cell_type": "markdown",
      "metadata": {
        "id": "nET1o0yR9d1E"
      },
      "source": [
        "# 1. Functions Utils\n",
        "\n",
        "En la sección **Functions Utils** se encuentran varias funciones de utilidad con sus docstrings que se utilizarán a largo de la implementación para preprocesar y limpiar datos y también evaluar los resultados."
      ]
    },
    {
      "cell_type": "markdown",
      "metadata": {
        "id": "ulg3BZ0muznr"
      },
      "source": [
        "**1.1. Text Processing and Cleaning Functions**"
      ]
    },
    {
      "cell_type": "markdown",
      "metadata": {
        "id": "JOX0Tua6vELy"
      },
      "source": [
        "**Función: encode_sentiment**\n",
        "\n",
        "````\n",
        "Función que codifica etiquetas de sentimiento textual a formato numérico.\n",
        "Recibe un argumento sentiment, que es una cadena de texto que puede ser \"positive\" o cualquier otro valor que se considerará negativo.\n",
        "Retorna 1 si el sentimiento es \"positive\" y 0 en cualquier otro caso.\n",
        "Esto es útil para convertir datos categóricos de texto en formatos numéricos que pueden ser procesados por algoritmos de aprendizaje automático.\n",
        "\n",
        "````"
      ]
    },
    {
      "cell_type": "code",
      "execution_count": 4,
      "metadata": {
        "id": "qpLQYX91u7fB"
      },
      "outputs": [],
      "source": [
        "def encode_sentiment(sentiment):\n",
        "  \"\"\"\n",
        "  Label encode sentiment.\n",
        "\n",
        "  Parameters\n",
        "  ----------\n",
        "  sentiment: str, sentiment {\"positive\", \"sentiment\"}\n",
        "\n",
        "  Returns\n",
        "  -------\n",
        "  int, 1's for positive and 0's for negative\n",
        "\n",
        "  \"\"\"\n",
        "  if sentiment == \"positive\":\n",
        "    return 1\n",
        "  else:\n",
        "    return 0"
      ]
    },
    {
      "cell_type": "markdown",
      "metadata": {
        "id": "bEDTestnvgpE"
      },
      "source": [
        "**Función: is_ascii**\n",
        "\n",
        "````\n",
        "Función que determina si un carácter es de tipo ASCII.\n",
        "Recibe como parámetro w, que es un carácter en forma de cadena de texto.\n",
        "Retorna True si el carácter puede ser codificado en ASCII, y False si no puede, lo cual indicaría que el carácter incluye símbolos o letras especiales que no están incluidos en la tabla ASCII estándar.\n",
        "Este tipo de función es útil para filtrar o validar textos que deben cumplir con ciertos estándares de codificación.\n",
        "````"
      ]
    },
    {
      "cell_type": "code",
      "execution_count": 5,
      "metadata": {
        "id": "5hoZOAu7u91r"
      },
      "outputs": [],
      "source": [
        "def is_ascii(w):\n",
        "  \"\"\"\n",
        "  Check if character is ascii type.\n",
        "\n",
        "  Parameters\n",
        "  ----------\n",
        "  w: str, character\n",
        "\n",
        "  Returns\n",
        "  -------\n",
        "  bool, True if character is ascii. False otherwise.\n",
        "  \"\"\"\n",
        "  try:\n",
        "    w.encode(\"ascii\")\n",
        "    return True\n",
        "  except UnicodeEncodeError:\n",
        "    return False"
      ]
    },
    {
      "cell_type": "markdown",
      "metadata": {
        "id": "WofP2NKowL3O"
      },
      "source": [
        "**Función: text_cleaning**\n",
        "````\n",
        "Función que utiliza para limpiar un texto de símbolos, puntuación y otros elementos no deseados, facilitando su procesamiento posterior en tareas de análisis de texto. La función text_cleaning realiza las siguientes operaciones sobre el texto que recibe como parámetro text:\n",
        "\n",
        "1. Eliminar formatos de cadena como saltos de línea (\\n) y tabulaciones (\\t),reemplazándolos por un punto y espacio para mantener la separación de las sentencias.\n",
        "2. Excluir palabras con caracteres no-ASCII, es decir, filtrar palabras que contengan caracteres especiales o acentuados que no se encuentren en la codificación ASCII estándar.\n",
        "3. Eliminar direcciones de correo electrónico que comienzan con \"@\", y URLs completas que comiencen con \"http\" o \"www\".\n",
        "4. Remover puntuación, manteniendo únicamente puntos y comas para no alterar el fin de las sentencias ni los elementos decimales, y convertir todo el texto a minúsculas para homogeneizar la capitalización.\n",
        "\n",
        "El resultado es un texto limpio (cleaned_text) que solamente contiene palabras en letras minúsculas y caracteres ASCII, con puntos y comas como única puntuación, lo cual simplifica análisis posteriores como la tokenización o el modelado de lenguaje natural.\n",
        "````\n"
      ]
    },
    {
      "cell_type": "code",
      "execution_count": 6,
      "metadata": {
        "id": "FaVkWnBKvBgT"
      },
      "outputs": [],
      "source": [
        "def text_cleaning(text):\n",
        "  \"\"\"\n",
        "  Clean text from symbols, punctuation, etc.\n",
        "\n",
        "  Parameters\n",
        "  ----------\n",
        "  text: string, text data\n",
        "\n",
        "  Returns\n",
        "  -------\n",
        "  cleaned_text: string, cleaned text data\n",
        "  \"\"\"\n",
        "  # remove string formatting '\\n' or '\\t'\n",
        "  tmp_text = re.sub(r'\\n+', '. ', text)\n",
        "  tmp_text = re.sub(r'\\t+', '. ', text)\n",
        "  # remove words with non-ascii characters\n",
        "  tmp_text = \" \".join([word for word in tmp_text.split() if is_ascii(word)])\n",
        "  # remove email address\n",
        "  tmp_text = \" \".join([word for word in tmp_text.split() if not word.startswith(\"@\")])\n",
        "  # remove urls\n",
        "  tmp_text = re.sub(r'http\\S+', '', tmp_text, flags=re.MULTILINE)\n",
        "  tmp_text = re.sub(r'www\\S+', '', tmp_text, flags=re.MULTILINE)\n",
        "  # remove punctuation but . (to split sentences)\n",
        "  cleaned_text = re.sub('[^A-Za-z.,]+', ' ', tmp_text)\n",
        "  # lowercase\n",
        "  cleaned_text = cleaned_text.lower()\n",
        "\n",
        "  return cleaned_text"
      ]
    },
    {
      "cell_type": "markdown",
      "metadata": {
        "id": "o-xCHmgkx_HV"
      },
      "source": [
        "**1.2. Evaluation Functions**"
      ]
    },
    {
      "cell_type": "markdown",
      "metadata": {
        "id": "7sRZ0fNryQds"
      },
      "source": [
        "**Función: plot_confusion_matrix**\n",
        "\n",
        "````\n",
        "Función que permite visualizar la matriz de confusión de un modelo de clasificación, que ayuda a evaluar su precisión.\n",
        "Puede normalizar la matriz para comparar proporciones y utiliza un mapa de colores para representar los valores.\n",
        "Los elementos de la matriz se anotan con valores numéricos, ajustando el color del texto para mejorar la legibilidad según el fondo.\n",
        "\n",
        "Nota:\n",
        "interpolation='nearest': Este argumento especifica el método de interpolación para renderizar la imagen.\n",
        "La opción 'nearest' utiliza el valor del píxel más cercano para colorear cada píxel visualizado, lo que ayuda a mantener\n",
        "la fidelidad de los valores originales sin suavizarlos. Esto es ideal para visualizar claramente cada valor de la matriz sin efectos de interpolación entre píxeles.\n",
        "\n",
        "````"
      ]
    },
    {
      "cell_type": "code",
      "execution_count": 7,
      "metadata": {
        "id": "fWcw4HR9zBrf"
      },
      "outputs": [],
      "source": [
        "def plot_confusion_matrix(cm, classes,\n",
        "                          normalize=False,\n",
        "                          title='Confusion Matrix',\n",
        "                          cmap=plt.cm.Blues):\n",
        "    \"\"\"\n",
        "    This function prints and plots the confusion matrix.\n",
        "    Normalization can be applied by setting `normalize=True`.\n",
        "    \"\"\"\n",
        "    if normalize:\n",
        "        cm = cm.astype('float') / cm.sum(axis=1)[:, np.newaxis]\n",
        "\n",
        "    plt.imshow(cm, interpolation='nearest', cmap=cmap)\n",
        "    plt.title(title)\n",
        "    plt.colorbar()\n",
        "    tick_marks = np.arange(len(classes))\n",
        "    plt.xticks(tick_marks, classes, rotation=45)\n",
        "    plt.yticks(tick_marks, classes)\n",
        "\n",
        "    fmt = '.2f' if normalize else 'd'\n",
        "    thresh = cm.max() / 2.\n",
        "    for i, j in itertools.product(range(cm.shape[0]), range(cm.shape[1])):\n",
        "        plt.text(j, i, format(cm[i, j], fmt),\n",
        "                 horizontalalignment=\"center\",\n",
        "                 color=\"white\" if cm[i, j] > thresh else \"black\")\n",
        "\n",
        "    plt.tight_layout()\n",
        "    plt.ylabel('True label',fontsize=15)\n",
        "    plt.xlabel('Predicted label',fontsize=15)"
      ]
    },
    {
      "cell_type": "markdown",
      "metadata": {
        "id": "VosJQ0fegIjW"
      },
      "source": [
        "# 2. Settings\n",
        "\n",
        "En la sección **Settings** definimos variables y objetos que utilizaremos en el desarrollo y queremos tener agrupados en el mismo lugar."
      ]
    },
    {
      "cell_type": "markdown",
      "metadata": {
        "id": "0QR85w-Z0eZw"
      },
      "source": [
        "**Definición de Variables Clave:**\n",
        "\n",
        "````\n",
        "MAX_LEN = 512: Establece el número máximo de tokens a 512 para los textos que se procesarán, lo cual es importante para definir la longitud de entrada que el modelo puede manejar.\n",
        "BATCH_SIZE = 64: Define el tamaño del lote para el entrenamiento del modelo, lo que afecta directamente la memoria que se consumirá y la velocidad de entrenamiento.\n",
        "SEED = 42: Fija una semilla para el generador de números aleatorios para garantizar resultados reproducibles.\n",
        "\n",
        "````"
      ]
    },
    {
      "cell_type": "code",
      "execution_count": 8,
      "metadata": {
        "id": "CfmCG2tm0u11"
      },
      "outputs": [],
      "source": [
        "# Defining some key variables that will be used later on\n",
        "MAX_LEN = 512 # max number of tokens\n",
        "BATCH_SIZE = 64\n",
        "SEED = 42 # for reprodudible results"
      ]
    },
    {
      "cell_type": "markdown",
      "metadata": {
        "id": "Xqncqhi10zx_"
      },
      "source": [
        "**Inicialización del Tokenizador:**\n",
        "\n",
        "````\n",
        "Carga un tokenizador preentrenado del modelo 'distilbert-base-uncased-finetuned-sst-2-english', que es útil para convertir texto\n",
        "en tokens que el modelo de Transformers puede procesar`\n",
        "````"
      ]
    },
    {
      "cell_type": "code",
      "execution_count": 9,
      "metadata": {
        "colab": {
          "base_uri": "https://localhost:8080/",
          "height": 215,
          "referenced_widgets": [
            "35e1b5d79bf64038959cbdf1fdf14ac1",
            "4e1fb57c4f5644d785b8fc9f260a6f90",
            "0b3fdbe8469a45e1baffb0c1f13b3da0",
            "62ac985745b049ec80407dd0a0d52b1d",
            "57bdad5df7424f39a2fd185b755d2d57",
            "42ebb8d1ff3e44139b0fde938b5a80ca",
            "7a3049968726410e93d12733184a4d9a",
            "41973d0e712f40db9c83190ea78a2c34",
            "3803912ee9cf474da1714370b509c1b6",
            "0bd2f435b1434799b08270fe374b7f7f",
            "5a98b79d7f6d4026af6032171b9fd809",
            "3effa0b499da45bbaf096b67dbd79739",
            "e2825baf1fed4ffabfec5c76f4f07447",
            "479cd0ff50064ffeb528bbd75ce0bb9b",
            "11aee80f45b34bfbba2d8787a8a6e61d",
            "98df5d6d2cd344e18e145a02c257a288",
            "11d8d1975d124bb7a8c70d4ac415b9dc",
            "c3a8b867bdd64a7ea6f059ed9067e4de",
            "98afa32f483641688edab2572998d0ba",
            "6445e340231c461db1c3c2cce8236f7c",
            "c4de2b0edfd443c884a2ae40c8aa404e",
            "4acaaefc9a7c47e3a5b9da33c739eec8",
            "049bbf5c1570455299fd76dc8a8fc704",
            "859901b8afe14e11b20daf565c354d3b",
            "8e99ae47634b4eb9adadcfe39e74402c",
            "98e3e3225e674aa0bd784b9e41fa9cb2",
            "f80f495f702547f3a8838190368d8ccb",
            "2dff365587534a9aa9cdcabd030e5595",
            "e73ac25afd3e44e88083c27bfa022a85",
            "cda636af8bac45b3b0ff37b87ac931d8",
            "28220f5330b14c0d82dfdce174e02b81",
            "f83bbeeabdfc43f4adfd7fed33744979",
            "73aae65051604c3aac7d9fad1b6ae2b0"
          ]
        },
        "id": "6hxMGRXx1HDn",
        "outputId": "e6823947-41a0-4fa3-d87b-ca0cb7f82d71"
      },
      "outputs": [
        {
          "output_type": "stream",
          "name": "stderr",
          "text": [
            "/usr/local/lib/python3.10/dist-packages/huggingface_hub/utils/_token.py:88: UserWarning: \n",
            "The secret `HF_TOKEN` does not exist in your Colab secrets.\n",
            "To authenticate with the Hugging Face Hub, create a token in your settings tab (https://huggingface.co/settings/tokens), set it as secret in your Google Colab and restart your session.\n",
            "You will be able to reuse this secret in all of your notebooks.\n",
            "Please note that authentication is recommended but still optional to access public models or datasets.\n",
            "  warnings.warn(\n"
          ]
        },
        {
          "output_type": "display_data",
          "data": {
            "text/plain": [
              "tokenizer_config.json:   0%|          | 0.00/48.0 [00:00<?, ?B/s]"
            ],
            "application/vnd.jupyter.widget-view+json": {
              "version_major": 2,
              "version_minor": 0,
              "model_id": "35e1b5d79bf64038959cbdf1fdf14ac1"
            }
          },
          "metadata": {}
        },
        {
          "output_type": "display_data",
          "data": {
            "text/plain": [
              "config.json:   0%|          | 0.00/629 [00:00<?, ?B/s]"
            ],
            "application/vnd.jupyter.widget-view+json": {
              "version_major": 2,
              "version_minor": 0,
              "model_id": "3effa0b499da45bbaf096b67dbd79739"
            }
          },
          "metadata": {}
        },
        {
          "output_type": "display_data",
          "data": {
            "text/plain": [
              "vocab.txt:   0%|          | 0.00/232k [00:00<?, ?B/s]"
            ],
            "application/vnd.jupyter.widget-view+json": {
              "version_major": 2,
              "version_minor": 0,
              "model_id": "049bbf5c1570455299fd76dc8a8fc704"
            }
          },
          "metadata": {}
        }
      ],
      "source": [
        "# Initialiaze model tokenizer\n",
        "TOKENIZER = AutoTokenizer.from_pretrained('distilbert-base-uncased-finetuned-sst-2-english')"
      ]
    },
    {
      "cell_type": "markdown",
      "metadata": {
        "id": "KVpAaNHF1NaX"
      },
      "source": [
        "**Configuración del Dispositivo:**\n",
        "\n",
        "````\n",
        "Determina si se utilizará una GPU (con CUDA) o una CPU para el entrenamiento, dependiendo de la disponibilidad.\n",
        "Esto es crucial para la eficiencia en el entrenamiento, ya que las GPUs permiten una computación más rápida.\n",
        "\n",
        "````"
      ]
    },
    {
      "cell_type": "code",
      "execution_count": 10,
      "metadata": {
        "colab": {
          "base_uri": "https://localhost:8080/"
        },
        "id": "W5g9opJQ1dnU",
        "outputId": "a16bc571-60f3-4d40-8dfc-8428afc2f122"
      },
      "outputs": [
        {
          "output_type": "stream",
          "name": "stdout",
          "text": [
            "cuda\n"
          ]
        }
      ],
      "source": [
        "# Setting up the device for GPU usage if available\n",
        "DEVICE = 'cuda' if cuda.is_available() else 'cpu'\n",
        "print(DEVICE)"
      ]
    },
    {
      "cell_type": "markdown",
      "metadata": {
        "id": "oNb4a1Gn9vGj"
      },
      "source": [
        "# 3. Data\n",
        "\n",
        "En la sección **Data** necesitamos cargar los datos en un dataframe de pandas, codificar el sentimiento y limpiar el texto.\n",
        "\n",
        "Podeis hacer uso de las funciones de utilidad **encode_sentiment()** y **text_cleaning()**."
      ]
    },
    {
      "cell_type": "markdown",
      "metadata": {
        "id": "lRXGoHNt4wjK"
      },
      "source": [
        "**Explicación del Código**\n",
        "\n",
        "````\n",
        "Carga un conjunto de datos desde un archivo CSV llamado '01_dataset.csv' ubicado en el directorio 'sample_data'.\n",
        "\n",
        "Luego aplica una función de codificación a la columna 'sentiment' de los datos cargados. La función encode_sentiment se utiliza\n",
        "para convertir los valores textuales de la columna 'sentiment' en valores numéricos, específicamente transformando los\n",
        "sentimientos \"positive\" en 1 y cualquier otro sentimiento en 0. Esta codificación es útil para procesos de análisis de\n",
        "datos y modelos de aprendizaje automático que requieren entradas numéricas.\n",
        "\n",
        "Cargar Datos: Se leen los datos del archivo CSV utilizando pd.read_csv() de la biblioteca Pandas y se almacenan en el DataFrame raw_data.\n",
        "\n",
        "Codificar Sentimientos: Se modifica la columna 'sentiment' del DataFrame aplicando la función encode_sentiment a cada elemento.\n",
        "Esto convierte los sentimientos textuales en valores binarios numéricos, facilitando su uso en análisis estadísticos y modelos predictivos.\n",
        "\n",
        "````"
      ]
    },
    {
      "cell_type": "code",
      "execution_count": 11,
      "metadata": {
        "id": "sfEF5fxD9ubi"
      },
      "outputs": [],
      "source": [
        "### 1. Escribir código para cargar los datos y codificar la columna sentiment.###\n",
        "\n",
        "# Carregar os dados do arquivo CSV no diretório de GoogleDrive\n",
        "file_path = '/content/drive/MyDrive/Colab_notebooks/Files/01_dataset.csv'\n",
        "raw_data = pd.read_csv(file_path)\n",
        "\n",
        "# Aplicar a função de codificação na coluna 'sentiment'\n",
        "raw_data['sentiment'] = raw_data['sentiment'].apply(encode_sentiment)"
      ]
    },
    {
      "cell_type": "markdown",
      "metadata": {
        "id": "EGXNDAIx6dpw"
      },
      "source": [
        "**Explicación del Código**\n",
        "\n",
        "````\n",
        "El método raw_data.info(), se emplea para obtener un resumen conciso del DataFrame raw_data.\n",
        "Este método es extremadamente útil para obtener información fundamental sobre la estructura y las características del DataFrame,\n",
        "especialmente antes de proceder con análisis más detallados o la limpieza de datos.\n",
        "\n",
        "````"
      ]
    },
    {
      "cell_type": "code",
      "execution_count": 12,
      "metadata": {
        "colab": {
          "base_uri": "https://localhost:8080/"
        },
        "id": "-afGARNy5iAi",
        "outputId": "4f82fa93-cf86-4a34-da09-779c6a87a449"
      },
      "outputs": [
        {
          "output_type": "stream",
          "name": "stdout",
          "text": [
            "<class 'pandas.core.frame.DataFrame'>\n",
            "RangeIndex: 50000 entries, 0 to 49999\n",
            "Data columns (total 2 columns):\n",
            " #   Column     Non-Null Count  Dtype \n",
            "---  ------     --------------  ----- \n",
            " 0   review     50000 non-null  object\n",
            " 1   sentiment  50000 non-null  int64 \n",
            "dtypes: int64(1), object(1)\n",
            "memory usage: 781.4+ KB\n"
          ]
        }
      ],
      "source": [
        "raw_data.info()"
      ]
    },
    {
      "cell_type": "markdown",
      "metadata": {
        "id": "vQZZ_LBN6lb7"
      },
      "source": [
        "**Explicación del Código**\n",
        "\n",
        "````\n",
        "El método raw_data.head(10), se emplea para visualizar las primeras 10 filas del DataFrame raw_data.\n",
        "Se pretende obtener una rápida visión general de los datos, especialmente para verificar la estructura inicial del DataFrame,\n",
        "los tipos de datos y las primeras entradas.\n",
        "\n",
        "````"
      ]
    },
    {
      "cell_type": "code",
      "execution_count": 13,
      "metadata": {
        "colab": {
          "base_uri": "https://localhost:8080/",
          "height": 359
        },
        "id": "XzINJUisgVSI",
        "outputId": "3fa600b2-e1be-4ab4-8678-11cd77a236c8"
      },
      "outputs": [
        {
          "output_type": "execute_result",
          "data": {
            "text/plain": [
              "                                              review  sentiment\n",
              "0  One of the other reviewers has mentioned that ...          1\n",
              "1  A wonderful little production. <br /><br />The...          1\n",
              "2  I thought this was a wonderful way to spend ti...          1\n",
              "3  Basically there's a family where a little boy ...          0\n",
              "4  Petter Mattei's \"Love in the Time of Money\" is...          1\n",
              "5  Probably my all-time favorite movie, a story o...          1\n",
              "6  I sure would like to see a resurrection of a u...          1\n",
              "7  This show was an amazing, fresh & innovative i...          0\n",
              "8  Encouraged by the positive comments about this...          0\n",
              "9  If you like original gut wrenching laughter yo...          1"
            ],
            "text/html": [
              "\n",
              "  <div id=\"df-bde6dfbb-a25b-4c98-b3a2-71806f0c8810\" class=\"colab-df-container\">\n",
              "    <div>\n",
              "<style scoped>\n",
              "    .dataframe tbody tr th:only-of-type {\n",
              "        vertical-align: middle;\n",
              "    }\n",
              "\n",
              "    .dataframe tbody tr th {\n",
              "        vertical-align: top;\n",
              "    }\n",
              "\n",
              "    .dataframe thead th {\n",
              "        text-align: right;\n",
              "    }\n",
              "</style>\n",
              "<table border=\"1\" class=\"dataframe\">\n",
              "  <thead>\n",
              "    <tr style=\"text-align: right;\">\n",
              "      <th></th>\n",
              "      <th>review</th>\n",
              "      <th>sentiment</th>\n",
              "    </tr>\n",
              "  </thead>\n",
              "  <tbody>\n",
              "    <tr>\n",
              "      <th>0</th>\n",
              "      <td>One of the other reviewers has mentioned that ...</td>\n",
              "      <td>1</td>\n",
              "    </tr>\n",
              "    <tr>\n",
              "      <th>1</th>\n",
              "      <td>A wonderful little production. &lt;br /&gt;&lt;br /&gt;The...</td>\n",
              "      <td>1</td>\n",
              "    </tr>\n",
              "    <tr>\n",
              "      <th>2</th>\n",
              "      <td>I thought this was a wonderful way to spend ti...</td>\n",
              "      <td>1</td>\n",
              "    </tr>\n",
              "    <tr>\n",
              "      <th>3</th>\n",
              "      <td>Basically there's a family where a little boy ...</td>\n",
              "      <td>0</td>\n",
              "    </tr>\n",
              "    <tr>\n",
              "      <th>4</th>\n",
              "      <td>Petter Mattei's \"Love in the Time of Money\" is...</td>\n",
              "      <td>1</td>\n",
              "    </tr>\n",
              "    <tr>\n",
              "      <th>5</th>\n",
              "      <td>Probably my all-time favorite movie, a story o...</td>\n",
              "      <td>1</td>\n",
              "    </tr>\n",
              "    <tr>\n",
              "      <th>6</th>\n",
              "      <td>I sure would like to see a resurrection of a u...</td>\n",
              "      <td>1</td>\n",
              "    </tr>\n",
              "    <tr>\n",
              "      <th>7</th>\n",
              "      <td>This show was an amazing, fresh &amp; innovative i...</td>\n",
              "      <td>0</td>\n",
              "    </tr>\n",
              "    <tr>\n",
              "      <th>8</th>\n",
              "      <td>Encouraged by the positive comments about this...</td>\n",
              "      <td>0</td>\n",
              "    </tr>\n",
              "    <tr>\n",
              "      <th>9</th>\n",
              "      <td>If you like original gut wrenching laughter yo...</td>\n",
              "      <td>1</td>\n",
              "    </tr>\n",
              "  </tbody>\n",
              "</table>\n",
              "</div>\n",
              "    <div class=\"colab-df-buttons\">\n",
              "\n",
              "  <div class=\"colab-df-container\">\n",
              "    <button class=\"colab-df-convert\" onclick=\"convertToInteractive('df-bde6dfbb-a25b-4c98-b3a2-71806f0c8810')\"\n",
              "            title=\"Convert this dataframe to an interactive table.\"\n",
              "            style=\"display:none;\">\n",
              "\n",
              "  <svg xmlns=\"http://www.w3.org/2000/svg\" height=\"24px\" viewBox=\"0 -960 960 960\">\n",
              "    <path d=\"M120-120v-720h720v720H120Zm60-500h600v-160H180v160Zm220 220h160v-160H400v160Zm0 220h160v-160H400v160ZM180-400h160v-160H180v160Zm440 0h160v-160H620v160ZM180-180h160v-160H180v160Zm440 0h160v-160H620v160Z\"/>\n",
              "  </svg>\n",
              "    </button>\n",
              "\n",
              "  <style>\n",
              "    .colab-df-container {\n",
              "      display:flex;\n",
              "      gap: 12px;\n",
              "    }\n",
              "\n",
              "    .colab-df-convert {\n",
              "      background-color: #E8F0FE;\n",
              "      border: none;\n",
              "      border-radius: 50%;\n",
              "      cursor: pointer;\n",
              "      display: none;\n",
              "      fill: #1967D2;\n",
              "      height: 32px;\n",
              "      padding: 0 0 0 0;\n",
              "      width: 32px;\n",
              "    }\n",
              "\n",
              "    .colab-df-convert:hover {\n",
              "      background-color: #E2EBFA;\n",
              "      box-shadow: 0px 1px 2px rgba(60, 64, 67, 0.3), 0px 1px 3px 1px rgba(60, 64, 67, 0.15);\n",
              "      fill: #174EA6;\n",
              "    }\n",
              "\n",
              "    .colab-df-buttons div {\n",
              "      margin-bottom: 4px;\n",
              "    }\n",
              "\n",
              "    [theme=dark] .colab-df-convert {\n",
              "      background-color: #3B4455;\n",
              "      fill: #D2E3FC;\n",
              "    }\n",
              "\n",
              "    [theme=dark] .colab-df-convert:hover {\n",
              "      background-color: #434B5C;\n",
              "      box-shadow: 0px 1px 3px 1px rgba(0, 0, 0, 0.15);\n",
              "      filter: drop-shadow(0px 1px 2px rgba(0, 0, 0, 0.3));\n",
              "      fill: #FFFFFF;\n",
              "    }\n",
              "  </style>\n",
              "\n",
              "    <script>\n",
              "      const buttonEl =\n",
              "        document.querySelector('#df-bde6dfbb-a25b-4c98-b3a2-71806f0c8810 button.colab-df-convert');\n",
              "      buttonEl.style.display =\n",
              "        google.colab.kernel.accessAllowed ? 'block' : 'none';\n",
              "\n",
              "      async function convertToInteractive(key) {\n",
              "        const element = document.querySelector('#df-bde6dfbb-a25b-4c98-b3a2-71806f0c8810');\n",
              "        const dataTable =\n",
              "          await google.colab.kernel.invokeFunction('convertToInteractive',\n",
              "                                                    [key], {});\n",
              "        if (!dataTable) return;\n",
              "\n",
              "        const docLinkHtml = 'Like what you see? Visit the ' +\n",
              "          '<a target=\"_blank\" href=https://colab.research.google.com/notebooks/data_table.ipynb>data table notebook</a>'\n",
              "          + ' to learn more about interactive tables.';\n",
              "        element.innerHTML = '';\n",
              "        dataTable['output_type'] = 'display_data';\n",
              "        await google.colab.output.renderOutput(dataTable, element);\n",
              "        const docLink = document.createElement('div');\n",
              "        docLink.innerHTML = docLinkHtml;\n",
              "        element.appendChild(docLink);\n",
              "      }\n",
              "    </script>\n",
              "  </div>\n",
              "\n",
              "\n",
              "<div id=\"df-ddf62193-b793-4e73-9e8a-12d05579f6f5\">\n",
              "  <button class=\"colab-df-quickchart\" onclick=\"quickchart('df-ddf62193-b793-4e73-9e8a-12d05579f6f5')\"\n",
              "            title=\"Suggest charts\"\n",
              "            style=\"display:none;\">\n",
              "\n",
              "<svg xmlns=\"http://www.w3.org/2000/svg\" height=\"24px\"viewBox=\"0 0 24 24\"\n",
              "     width=\"24px\">\n",
              "    <g>\n",
              "        <path d=\"M19 3H5c-1.1 0-2 .9-2 2v14c0 1.1.9 2 2 2h14c1.1 0 2-.9 2-2V5c0-1.1-.9-2-2-2zM9 17H7v-7h2v7zm4 0h-2V7h2v10zm4 0h-2v-4h2v4z\"/>\n",
              "    </g>\n",
              "</svg>\n",
              "  </button>\n",
              "\n",
              "<style>\n",
              "  .colab-df-quickchart {\n",
              "      --bg-color: #E8F0FE;\n",
              "      --fill-color: #1967D2;\n",
              "      --hover-bg-color: #E2EBFA;\n",
              "      --hover-fill-color: #174EA6;\n",
              "      --disabled-fill-color: #AAA;\n",
              "      --disabled-bg-color: #DDD;\n",
              "  }\n",
              "\n",
              "  [theme=dark] .colab-df-quickchart {\n",
              "      --bg-color: #3B4455;\n",
              "      --fill-color: #D2E3FC;\n",
              "      --hover-bg-color: #434B5C;\n",
              "      --hover-fill-color: #FFFFFF;\n",
              "      --disabled-bg-color: #3B4455;\n",
              "      --disabled-fill-color: #666;\n",
              "  }\n",
              "\n",
              "  .colab-df-quickchart {\n",
              "    background-color: var(--bg-color);\n",
              "    border: none;\n",
              "    border-radius: 50%;\n",
              "    cursor: pointer;\n",
              "    display: none;\n",
              "    fill: var(--fill-color);\n",
              "    height: 32px;\n",
              "    padding: 0;\n",
              "    width: 32px;\n",
              "  }\n",
              "\n",
              "  .colab-df-quickchart:hover {\n",
              "    background-color: var(--hover-bg-color);\n",
              "    box-shadow: 0 1px 2px rgba(60, 64, 67, 0.3), 0 1px 3px 1px rgba(60, 64, 67, 0.15);\n",
              "    fill: var(--button-hover-fill-color);\n",
              "  }\n",
              "\n",
              "  .colab-df-quickchart-complete:disabled,\n",
              "  .colab-df-quickchart-complete:disabled:hover {\n",
              "    background-color: var(--disabled-bg-color);\n",
              "    fill: var(--disabled-fill-color);\n",
              "    box-shadow: none;\n",
              "  }\n",
              "\n",
              "  .colab-df-spinner {\n",
              "    border: 2px solid var(--fill-color);\n",
              "    border-color: transparent;\n",
              "    border-bottom-color: var(--fill-color);\n",
              "    animation:\n",
              "      spin 1s steps(1) infinite;\n",
              "  }\n",
              "\n",
              "  @keyframes spin {\n",
              "    0% {\n",
              "      border-color: transparent;\n",
              "      border-bottom-color: var(--fill-color);\n",
              "      border-left-color: var(--fill-color);\n",
              "    }\n",
              "    20% {\n",
              "      border-color: transparent;\n",
              "      border-left-color: var(--fill-color);\n",
              "      border-top-color: var(--fill-color);\n",
              "    }\n",
              "    30% {\n",
              "      border-color: transparent;\n",
              "      border-left-color: var(--fill-color);\n",
              "      border-top-color: var(--fill-color);\n",
              "      border-right-color: var(--fill-color);\n",
              "    }\n",
              "    40% {\n",
              "      border-color: transparent;\n",
              "      border-right-color: var(--fill-color);\n",
              "      border-top-color: var(--fill-color);\n",
              "    }\n",
              "    60% {\n",
              "      border-color: transparent;\n",
              "      border-right-color: var(--fill-color);\n",
              "    }\n",
              "    80% {\n",
              "      border-color: transparent;\n",
              "      border-right-color: var(--fill-color);\n",
              "      border-bottom-color: var(--fill-color);\n",
              "    }\n",
              "    90% {\n",
              "      border-color: transparent;\n",
              "      border-bottom-color: var(--fill-color);\n",
              "    }\n",
              "  }\n",
              "</style>\n",
              "\n",
              "  <script>\n",
              "    async function quickchart(key) {\n",
              "      const quickchartButtonEl =\n",
              "        document.querySelector('#' + key + ' button');\n",
              "      quickchartButtonEl.disabled = true;  // To prevent multiple clicks.\n",
              "      quickchartButtonEl.classList.add('colab-df-spinner');\n",
              "      try {\n",
              "        const charts = await google.colab.kernel.invokeFunction(\n",
              "            'suggestCharts', [key], {});\n",
              "      } catch (error) {\n",
              "        console.error('Error during call to suggestCharts:', error);\n",
              "      }\n",
              "      quickchartButtonEl.classList.remove('colab-df-spinner');\n",
              "      quickchartButtonEl.classList.add('colab-df-quickchart-complete');\n",
              "    }\n",
              "    (() => {\n",
              "      let quickchartButtonEl =\n",
              "        document.querySelector('#df-ddf62193-b793-4e73-9e8a-12d05579f6f5 button');\n",
              "      quickchartButtonEl.style.display =\n",
              "        google.colab.kernel.accessAllowed ? 'block' : 'none';\n",
              "    })();\n",
              "  </script>\n",
              "</div>\n",
              "    </div>\n",
              "  </div>\n"
            ],
            "application/vnd.google.colaboratory.intrinsic+json": {
              "type": "dataframe",
              "variable_name": "raw_data",
              "summary": "{\n  \"name\": \"raw_data\",\n  \"rows\": 50000,\n  \"fields\": [\n    {\n      \"column\": \"review\",\n      \"properties\": {\n        \"dtype\": \"string\",\n        \"num_unique_values\": 49582,\n        \"samples\": [\n          \"\\\"Soul Plane\\\" is a horrible attempt at comedy that only should appeal people with thick skulls, bloodshot eyes and furry pawns. <br /><br />The plot is not only incoherent but also non-existent, acting is mostly sub sub-par with a gang of highly moronic and dreadful characters thrown in for bad measure, jokes are often spotted miles ahead and almost never even a bit amusing. This movie lacks any structure and is full of racial stereotypes that must have seemed old even in the fifties, the only thing it really has going for it is some pretty ladies, but really, if you want that you can rent something from the \\\"Adult\\\" section. OK?<br /><br />I can hardly see anything here to recommend since you'll probably have a lot a better and productive time chasing rats with a sledgehammer or inventing waterproof teabags or whatever.<br /><br />2/10\",\n          \"Guest from the Future tells a fascinating story of time travel, friendship, battle of good and evil -- all with a small budget, child actors, and few special effects. Something for Spielberg and Lucas to learn from. ;) A sixth-grader Kolya \\\"Nick\\\" Gerasimov finds a time machine in the basement of a decrepit building and travels 100 years into the future. He discovers a near-perfect, utopian society where robots play guitars and write poetry, everyone is kind to each other and people enjoy everything technology has to offer. Alice is the daughter of a prominent scientist who invented a device called Mielophone that allows to read minds of humans and animals. The device can be put to both good and bad use, depending on whose hands it falls into. When two evil space pirates from Saturn who want to rule the universe attempt to steal Mielophone, it falls into the hands of 20th century school boy Nick. With the pirates hot on his tracks, he travels back to his time, followed by the pirates, and Alice. Chaos, confusion and funny situations follow as the luckless pirates try to blend in with the earthlings. Alice enrolls in the same school Nick goes to and demonstrates superhuman abilities in PE class. The catch is, Alice doesn't know what Nick looks like, while the pirates do. Also, the pirates are able to change their appearance and turn literally into anyone. (Hmm, I wonder if this is where James Cameron got the idea for Terminator...) Who gets to Nick -- and Mielophone -- first? Excellent plot, non-stop adventures, and great soundtrack. I wish Hollywood made kid movies like this one...\",\n          \"\\\"National Treasure\\\" (2004) is a thoroughly misguided hodge-podge of plot entanglements that borrow from nearly every cloak and dagger government conspiracy clich\\u00e9 that has ever been written. The film stars Nicholas Cage as Benjamin Franklin Gates (how precious is that, I ask you?); a seemingly normal fellow who, for no other reason than being of a lineage of like-minded misguided fortune hunters, decides to steal a 'national treasure' that has been hidden by the United States founding fathers. After a bit of subtext and background that plays laughably (unintentionally) like Indiana Jones meets The Patriot, the film degenerates into one misguided whimsy after another \\u0096 attempting to create a 'Stanley Goodspeed' regurgitation of Nicholas Cage and launch the whole convoluted mess forward with a series of high octane, but disconnected misadventures.<br /><br />The relevancy and logic to having George Washington and his motley crew of patriots burying a king's ransom someplace on native soil, and then, going through the meticulous plan of leaving clues scattered throughout U.S. currency art work, is something that director Jon Turteltaub never quite gets around to explaining. Couldn't Washington found better usage for such wealth during the start up of the country? Hence, we are left with a mystery built on top of an enigma that is already on shaky ground by the time Ben appoints himself the new custodian of this untold wealth. Ben's intentions are noble \\u0096 if confusing. He's set on protecting the treasure. For who and when?\\u0085your guess is as good as mine.<br /><br />But there are a few problems with Ben's crusade. First up, his friend, Ian Holmes (Sean Bean) decides that he can't wait for Ben to make up his mind about stealing the Declaration of Independence from the National Archives (oh, yeah \\u0096 brilliant idea!). Presumably, the back of that famous document holds the secret answer to the ultimate fortune. So Ian tries to kill Ben. The assassination attempt is, of course, unsuccessful, if overly melodramatic. It also affords Ben the opportunity to pick up, and pick on, the very sultry curator of the archives, Abigail Chase (Diane Kruger). She thinks Ben is clearly a nut \\u0096 at least at the beginning. But true to action/romance form, Abby's resolve melts quicker than you can say, \\\"is that the Hope Diamond?\\\" The film moves into full X-File-ish mode, as the FBI, mistakenly believing that Ben is behind the theft, retaliate in various benign ways that lead to a multi-layering of action sequences reminiscent of Mission Impossible meets The Fugitive. Honestly, don't those guys ever get 'intelligence' information that is correct? In the final analysis, \\\"National Treasure\\\" isn't great film making, so much as it's a patchwork rehash of tired old bits from other movies, woven together from scraps, the likes of which would make IL' Betsy Ross blush.<br /><br />The Buena Vista DVD delivers a far more generous treatment than this film is deserving of. The anamorphic widescreen picture exhibits a very smooth and finely detailed image with very rich colors, natural flesh tones, solid blacks and clean whites. The stylized image is also free of blemishes and digital enhancements. The audio is 5.1 and delivers a nice sonic boom to your side and rear speakers with intensity and realism. Extras include a host of promotional junket material that is rather deep and over the top in its explanation of how and why this film was made. If only, as an audience, we had had more clarification as to why Ben and co. were chasing after an illusive treasure, this might have been one good flick. Extras conclude with the theatrical trailer, audio commentary and deleted scenes. Not for the faint-hearted \\u0096 just the thick-headed.\"\n        ],\n        \"semantic_type\": \"\",\n        \"description\": \"\"\n      }\n    },\n    {\n      \"column\": \"sentiment\",\n      \"properties\": {\n        \"dtype\": \"number\",\n        \"std\": 0,\n        \"min\": 0,\n        \"max\": 1,\n        \"num_unique_values\": 2,\n        \"samples\": [\n          0,\n          1\n        ],\n        \"semantic_type\": \"\",\n        \"description\": \"\"\n      }\n    }\n  ]\n}"
            }
          },
          "metadata": {},
          "execution_count": 13
        }
      ],
      "source": [
        "raw_data.head(10)"
      ]
    },
    {
      "cell_type": "markdown",
      "metadata": {
        "id": "mxVu99Id6nMc"
      },
      "source": [
        "**Explicación del Código**\n",
        "\n",
        "````\n",
        "Para contar cuántos sentimientos son representados por 0 (negativos) y cuántos por 1 (positivos) en un DataFrame de pandas,\n",
        "se utiliza el método value_counts() aplicado a la columna correspondiente, que en tu caso es 'sentiment'.\n",
        "\n",
        "````"
      ]
    },
    {
      "cell_type": "code",
      "execution_count": 14,
      "metadata": {
        "colab": {
          "base_uri": "https://localhost:8080/"
        },
        "id": "5nfHA3Yz59LZ",
        "outputId": "d405df3f-6943-4f8c-a9d9-e91627397631"
      },
      "outputs": [
        {
          "output_type": "stream",
          "name": "stdout",
          "text": [
            "sentiment\n",
            "1    25000\n",
            "0    25000\n",
            "Name: count, dtype: int64\n"
          ]
        }
      ],
      "source": [
        "df = pd.DataFrame(raw_data)\n",
        "\n",
        "# Aplicando value_counts() na coluna 'sentiment'\n",
        "sentiment_counts = df['sentiment'].value_counts()\n",
        "\n",
        "# Imprimindo o resultado\n",
        "print(sentiment_counts)"
      ]
    },
    {
      "cell_type": "markdown",
      "metadata": {
        "id": "YITEhyJo9_rh"
      },
      "source": [
        "**Explicación del Código**\n",
        "\n",
        "````\n",
        "Copia un DataFrame, limpia la columna 'review' usando la función text_cleaning() para eliminar caracteres indeseados\n",
        "y normalizar el texto, y muestra las primeras 10 filas del resultado para verificar la limpieza aplicada.\n",
        "\n",
        "````"
      ]
    },
    {
      "cell_type": "code",
      "execution_count": 15,
      "metadata": {
        "colab": {
          "base_uri": "https://localhost:8080/",
          "height": 359
        },
        "id": "bf70PkZF_ikL",
        "outputId": "65c103ea-fd75-4ce1-ff9e-8b77e606a8ed"
      },
      "outputs": [
        {
          "output_type": "execute_result",
          "data": {
            "text/plain": [
              "                                              review  sentiment\n",
              "0  one of the other reviewers has mentioned that ...          1\n",
              "1  a wonderful little production. br br the filmi...          1\n",
              "2  i thought this was a wonderful way to spend ti...          1\n",
              "3  basically there s a family where a little boy ...          0\n",
              "4  petter mattei s love in the time of money is a...          1\n",
              "5  probably my all time favorite movie, a story o...          1\n",
              "6  i sure would like to see a resurrection of a u...          1\n",
              "7  this show was an amazing, fresh innovative ide...          0\n",
              "8  encouraged by the positive comments about this...          0\n",
              "9  if you like original gut wrenching laughter yo...          1"
            ],
            "text/html": [
              "\n",
              "  <div id=\"df-b83868bb-48cc-4d50-a97a-4c617b4c3b7e\" class=\"colab-df-container\">\n",
              "    <div>\n",
              "<style scoped>\n",
              "    .dataframe tbody tr th:only-of-type {\n",
              "        vertical-align: middle;\n",
              "    }\n",
              "\n",
              "    .dataframe tbody tr th {\n",
              "        vertical-align: top;\n",
              "    }\n",
              "\n",
              "    .dataframe thead th {\n",
              "        text-align: right;\n",
              "    }\n",
              "</style>\n",
              "<table border=\"1\" class=\"dataframe\">\n",
              "  <thead>\n",
              "    <tr style=\"text-align: right;\">\n",
              "      <th></th>\n",
              "      <th>review</th>\n",
              "      <th>sentiment</th>\n",
              "    </tr>\n",
              "  </thead>\n",
              "  <tbody>\n",
              "    <tr>\n",
              "      <th>0</th>\n",
              "      <td>one of the other reviewers has mentioned that ...</td>\n",
              "      <td>1</td>\n",
              "    </tr>\n",
              "    <tr>\n",
              "      <th>1</th>\n",
              "      <td>a wonderful little production. br br the filmi...</td>\n",
              "      <td>1</td>\n",
              "    </tr>\n",
              "    <tr>\n",
              "      <th>2</th>\n",
              "      <td>i thought this was a wonderful way to spend ti...</td>\n",
              "      <td>1</td>\n",
              "    </tr>\n",
              "    <tr>\n",
              "      <th>3</th>\n",
              "      <td>basically there s a family where a little boy ...</td>\n",
              "      <td>0</td>\n",
              "    </tr>\n",
              "    <tr>\n",
              "      <th>4</th>\n",
              "      <td>petter mattei s love in the time of money is a...</td>\n",
              "      <td>1</td>\n",
              "    </tr>\n",
              "    <tr>\n",
              "      <th>5</th>\n",
              "      <td>probably my all time favorite movie, a story o...</td>\n",
              "      <td>1</td>\n",
              "    </tr>\n",
              "    <tr>\n",
              "      <th>6</th>\n",
              "      <td>i sure would like to see a resurrection of a u...</td>\n",
              "      <td>1</td>\n",
              "    </tr>\n",
              "    <tr>\n",
              "      <th>7</th>\n",
              "      <td>this show was an amazing, fresh innovative ide...</td>\n",
              "      <td>0</td>\n",
              "    </tr>\n",
              "    <tr>\n",
              "      <th>8</th>\n",
              "      <td>encouraged by the positive comments about this...</td>\n",
              "      <td>0</td>\n",
              "    </tr>\n",
              "    <tr>\n",
              "      <th>9</th>\n",
              "      <td>if you like original gut wrenching laughter yo...</td>\n",
              "      <td>1</td>\n",
              "    </tr>\n",
              "  </tbody>\n",
              "</table>\n",
              "</div>\n",
              "    <div class=\"colab-df-buttons\">\n",
              "\n",
              "  <div class=\"colab-df-container\">\n",
              "    <button class=\"colab-df-convert\" onclick=\"convertToInteractive('df-b83868bb-48cc-4d50-a97a-4c617b4c3b7e')\"\n",
              "            title=\"Convert this dataframe to an interactive table.\"\n",
              "            style=\"display:none;\">\n",
              "\n",
              "  <svg xmlns=\"http://www.w3.org/2000/svg\" height=\"24px\" viewBox=\"0 -960 960 960\">\n",
              "    <path d=\"M120-120v-720h720v720H120Zm60-500h600v-160H180v160Zm220 220h160v-160H400v160Zm0 220h160v-160H400v160ZM180-400h160v-160H180v160Zm440 0h160v-160H620v160ZM180-180h160v-160H180v160Zm440 0h160v-160H620v160Z\"/>\n",
              "  </svg>\n",
              "    </button>\n",
              "\n",
              "  <style>\n",
              "    .colab-df-container {\n",
              "      display:flex;\n",
              "      gap: 12px;\n",
              "    }\n",
              "\n",
              "    .colab-df-convert {\n",
              "      background-color: #E8F0FE;\n",
              "      border: none;\n",
              "      border-radius: 50%;\n",
              "      cursor: pointer;\n",
              "      display: none;\n",
              "      fill: #1967D2;\n",
              "      height: 32px;\n",
              "      padding: 0 0 0 0;\n",
              "      width: 32px;\n",
              "    }\n",
              "\n",
              "    .colab-df-convert:hover {\n",
              "      background-color: #E2EBFA;\n",
              "      box-shadow: 0px 1px 2px rgba(60, 64, 67, 0.3), 0px 1px 3px 1px rgba(60, 64, 67, 0.15);\n",
              "      fill: #174EA6;\n",
              "    }\n",
              "\n",
              "    .colab-df-buttons div {\n",
              "      margin-bottom: 4px;\n",
              "    }\n",
              "\n",
              "    [theme=dark] .colab-df-convert {\n",
              "      background-color: #3B4455;\n",
              "      fill: #D2E3FC;\n",
              "    }\n",
              "\n",
              "    [theme=dark] .colab-df-convert:hover {\n",
              "      background-color: #434B5C;\n",
              "      box-shadow: 0px 1px 3px 1px rgba(0, 0, 0, 0.15);\n",
              "      filter: drop-shadow(0px 1px 2px rgba(0, 0, 0, 0.3));\n",
              "      fill: #FFFFFF;\n",
              "    }\n",
              "  </style>\n",
              "\n",
              "    <script>\n",
              "      const buttonEl =\n",
              "        document.querySelector('#df-b83868bb-48cc-4d50-a97a-4c617b4c3b7e button.colab-df-convert');\n",
              "      buttonEl.style.display =\n",
              "        google.colab.kernel.accessAllowed ? 'block' : 'none';\n",
              "\n",
              "      async function convertToInteractive(key) {\n",
              "        const element = document.querySelector('#df-b83868bb-48cc-4d50-a97a-4c617b4c3b7e');\n",
              "        const dataTable =\n",
              "          await google.colab.kernel.invokeFunction('convertToInteractive',\n",
              "                                                    [key], {});\n",
              "        if (!dataTable) return;\n",
              "\n",
              "        const docLinkHtml = 'Like what you see? Visit the ' +\n",
              "          '<a target=\"_blank\" href=https://colab.research.google.com/notebooks/data_table.ipynb>data table notebook</a>'\n",
              "          + ' to learn more about interactive tables.';\n",
              "        element.innerHTML = '';\n",
              "        dataTable['output_type'] = 'display_data';\n",
              "        await google.colab.output.renderOutput(dataTable, element);\n",
              "        const docLink = document.createElement('div');\n",
              "        docLink.innerHTML = docLinkHtml;\n",
              "        element.appendChild(docLink);\n",
              "      }\n",
              "    </script>\n",
              "  </div>\n",
              "\n",
              "\n",
              "<div id=\"df-c9231d60-acb0-4736-abb0-d5f085694f45\">\n",
              "  <button class=\"colab-df-quickchart\" onclick=\"quickchart('df-c9231d60-acb0-4736-abb0-d5f085694f45')\"\n",
              "            title=\"Suggest charts\"\n",
              "            style=\"display:none;\">\n",
              "\n",
              "<svg xmlns=\"http://www.w3.org/2000/svg\" height=\"24px\"viewBox=\"0 0 24 24\"\n",
              "     width=\"24px\">\n",
              "    <g>\n",
              "        <path d=\"M19 3H5c-1.1 0-2 .9-2 2v14c0 1.1.9 2 2 2h14c1.1 0 2-.9 2-2V5c0-1.1-.9-2-2-2zM9 17H7v-7h2v7zm4 0h-2V7h2v10zm4 0h-2v-4h2v4z\"/>\n",
              "    </g>\n",
              "</svg>\n",
              "  </button>\n",
              "\n",
              "<style>\n",
              "  .colab-df-quickchart {\n",
              "      --bg-color: #E8F0FE;\n",
              "      --fill-color: #1967D2;\n",
              "      --hover-bg-color: #E2EBFA;\n",
              "      --hover-fill-color: #174EA6;\n",
              "      --disabled-fill-color: #AAA;\n",
              "      --disabled-bg-color: #DDD;\n",
              "  }\n",
              "\n",
              "  [theme=dark] .colab-df-quickchart {\n",
              "      --bg-color: #3B4455;\n",
              "      --fill-color: #D2E3FC;\n",
              "      --hover-bg-color: #434B5C;\n",
              "      --hover-fill-color: #FFFFFF;\n",
              "      --disabled-bg-color: #3B4455;\n",
              "      --disabled-fill-color: #666;\n",
              "  }\n",
              "\n",
              "  .colab-df-quickchart {\n",
              "    background-color: var(--bg-color);\n",
              "    border: none;\n",
              "    border-radius: 50%;\n",
              "    cursor: pointer;\n",
              "    display: none;\n",
              "    fill: var(--fill-color);\n",
              "    height: 32px;\n",
              "    padding: 0;\n",
              "    width: 32px;\n",
              "  }\n",
              "\n",
              "  .colab-df-quickchart:hover {\n",
              "    background-color: var(--hover-bg-color);\n",
              "    box-shadow: 0 1px 2px rgba(60, 64, 67, 0.3), 0 1px 3px 1px rgba(60, 64, 67, 0.15);\n",
              "    fill: var(--button-hover-fill-color);\n",
              "  }\n",
              "\n",
              "  .colab-df-quickchart-complete:disabled,\n",
              "  .colab-df-quickchart-complete:disabled:hover {\n",
              "    background-color: var(--disabled-bg-color);\n",
              "    fill: var(--disabled-fill-color);\n",
              "    box-shadow: none;\n",
              "  }\n",
              "\n",
              "  .colab-df-spinner {\n",
              "    border: 2px solid var(--fill-color);\n",
              "    border-color: transparent;\n",
              "    border-bottom-color: var(--fill-color);\n",
              "    animation:\n",
              "      spin 1s steps(1) infinite;\n",
              "  }\n",
              "\n",
              "  @keyframes spin {\n",
              "    0% {\n",
              "      border-color: transparent;\n",
              "      border-bottom-color: var(--fill-color);\n",
              "      border-left-color: var(--fill-color);\n",
              "    }\n",
              "    20% {\n",
              "      border-color: transparent;\n",
              "      border-left-color: var(--fill-color);\n",
              "      border-top-color: var(--fill-color);\n",
              "    }\n",
              "    30% {\n",
              "      border-color: transparent;\n",
              "      border-left-color: var(--fill-color);\n",
              "      border-top-color: var(--fill-color);\n",
              "      border-right-color: var(--fill-color);\n",
              "    }\n",
              "    40% {\n",
              "      border-color: transparent;\n",
              "      border-right-color: var(--fill-color);\n",
              "      border-top-color: var(--fill-color);\n",
              "    }\n",
              "    60% {\n",
              "      border-color: transparent;\n",
              "      border-right-color: var(--fill-color);\n",
              "    }\n",
              "    80% {\n",
              "      border-color: transparent;\n",
              "      border-right-color: var(--fill-color);\n",
              "      border-bottom-color: var(--fill-color);\n",
              "    }\n",
              "    90% {\n",
              "      border-color: transparent;\n",
              "      border-bottom-color: var(--fill-color);\n",
              "    }\n",
              "  }\n",
              "</style>\n",
              "\n",
              "  <script>\n",
              "    async function quickchart(key) {\n",
              "      const quickchartButtonEl =\n",
              "        document.querySelector('#' + key + ' button');\n",
              "      quickchartButtonEl.disabled = true;  // To prevent multiple clicks.\n",
              "      quickchartButtonEl.classList.add('colab-df-spinner');\n",
              "      try {\n",
              "        const charts = await google.colab.kernel.invokeFunction(\n",
              "            'suggestCharts', [key], {});\n",
              "      } catch (error) {\n",
              "        console.error('Error during call to suggestCharts:', error);\n",
              "      }\n",
              "      quickchartButtonEl.classList.remove('colab-df-spinner');\n",
              "      quickchartButtonEl.classList.add('colab-df-quickchart-complete');\n",
              "    }\n",
              "    (() => {\n",
              "      let quickchartButtonEl =\n",
              "        document.querySelector('#df-c9231d60-acb0-4736-abb0-d5f085694f45 button');\n",
              "      quickchartButtonEl.style.display =\n",
              "        google.colab.kernel.accessAllowed ? 'block' : 'none';\n",
              "    })();\n",
              "  </script>\n",
              "</div>\n",
              "    </div>\n",
              "  </div>\n"
            ],
            "application/vnd.google.colaboratory.intrinsic+json": {
              "type": "dataframe",
              "variable_name": "cleaned_data",
              "summary": "{\n  \"name\": \"cleaned_data\",\n  \"rows\": 50000,\n  \"fields\": [\n    {\n      \"column\": \"review\",\n      \"properties\": {\n        \"dtype\": \"string\",\n        \"num_unique_values\": 49580,\n        \"samples\": [\n          \"this movie was a modern day scarface.it had me on my toes.this movie is one of those rare epic films that makes you want a sequel.i especially liked damian chapa his performance deserved an academy award,which he deserved for his performance in blood in blood out.the only thing i didn t like was the behind the scenes because it didn t show the intensity that the movie had,and i would have like to have seen less narrated scenes.but the movie was great and it is in my top ten movies of all time.plus the acting was great there wasn t a bad scene in the movie,i loved it ,jennifer tilly was perfect as well as all of the cast.i can t see how anyone wouldn t like this movie it was a great.definitely a must see.\",\n          \" extreme makeover home edition is yet another feel goody , so called heart warming , and out for ratings show that abc has had the time to put together. br br i understand the troubles that these families go through. for that, i am sorry. but wouldn t you think that putting four wide screen plasma televisions, three flat screen desktop computers, an inground pool taking up half of a backyard, and closets full of expensive designer clothing is a bit too excessive for any family sure, these families have been through a lot. sure, they deserve nicer things that what they had previously had. br br but honestly, the things that ty pennington and his crew put into these houses are enough to suit an entire neighborhood. br br another thing that really irks me about this show is how ty and his crew always have something good to say about every little thing that relates to the family, or the family s condition. telling a wheelchair bound person that he or she is so strong , or very brave really does get old after a while. that may sound rude, but believe me watch this show, and you ll see what i mean. br br all in all, this show is overrated. if you want to watch it, go ahead. this comment is just a heads up for what you d be watching.\",\n          \"whale hunters pick on the wrong freaking whale. br br a group of yahoo whale exploitists capture a female and string her up by her tail fin. the whale s mate sees the whole thing including the moment the female s unborn baby slips out and slops onto the deck. captain nolan richard harris could tell that the big male is really mad by the way it stared him down as if to say, get out of town before high tide. br br this story of revenge has harris presence and bo s beauty, but not much else. this was bo s first released film, though her first acting job was four years previous in and once upon a love released in as fantasies directed by john derek . br br p.s. today, the date of this review november , is bo derek s birthday. i hope bo has a whale of a good time..... get it ..... whale ..... hee hee.\"\n        ],\n        \"semantic_type\": \"\",\n        \"description\": \"\"\n      }\n    },\n    {\n      \"column\": \"sentiment\",\n      \"properties\": {\n        \"dtype\": \"number\",\n        \"std\": 0,\n        \"min\": 0,\n        \"max\": 1,\n        \"num_unique_values\": 2,\n        \"samples\": [\n          0,\n          1\n        ],\n        \"semantic_type\": \"\",\n        \"description\": \"\"\n      }\n    }\n  ]\n}"
            }
          },
          "metadata": {},
          "execution_count": 15
        }
      ],
      "source": [
        "### 2. Escribir código para limpiar el texto utilizando la función text_cleaning() ###\n",
        "### Sustituir None por el código necesario ###\n",
        "\n",
        "# Crear una copia del DataFrame original para aplicar la limpieza\n",
        "cleaned_data = raw_data.copy()\n",
        "\n",
        "# Aplicar la función 'text_cleaning' en la columna 'review'\n",
        "cleaned_data[\"review\"] = cleaned_data[\"review\"].apply(text_cleaning)\n",
        "\n",
        "cleaned_data.head(10)"
      ]
    },
    {
      "cell_type": "markdown",
      "source": [
        "**Explicación del Código**\n",
        "\n",
        "````\n",
        "Genera y muestra un resumen estadístico de la columna 'sentiment' del DataFrame cleaned_data, incluyendo conteo, media,\n",
        "desviación estándar, mínimos, máximos y percentiles. Esta información ayuda a entender la distribución de los datos de polaridad.\n",
        "````"
      ],
      "metadata": {
        "id": "elMmSn9DrIQz"
      }
    },
    {
      "cell_type": "code",
      "execution_count": 16,
      "metadata": {
        "colab": {
          "base_uri": "https://localhost:8080/"
        },
        "id": "9druxdG7aNhp",
        "outputId": "c7693021-e097-483c-b02d-dda8c6b77e70"
      },
      "outputs": [
        {
          "output_type": "stream",
          "name": "stdout",
          "text": [
            "count    50000.000000\n",
            "mean         0.500000\n",
            "std          0.500005\n",
            "min          0.000000\n",
            "25%          0.000000\n",
            "50%          0.500000\n",
            "75%          1.000000\n",
            "max          1.000000\n",
            "Name: sentiment, dtype: float64\n"
          ]
        }
      ],
      "source": [
        "# Descripción estadística de la polaridad (sentiment)\n",
        "print(cleaned_data['sentiment'].describe())"
      ]
    },
    {
      "cell_type": "markdown",
      "source": [
        "**Explicación del Código**\n",
        "\n",
        "````\n",
        "Se genera un gráfico de barras que representa la distribución de frecuencias de los diferentes sentimientos\n",
        "en la columna 'sentiment' del DataFrame cleaned_data.\n",
        "````"
      ],
      "metadata": {
        "id": "CJbYAOt7rQPp"
      }
    },
    {
      "cell_type": "code",
      "execution_count": 17,
      "metadata": {
        "colab": {
          "base_uri": "https://localhost:8080/",
          "height": 467
        },
        "id": "Mom0SSDeZ1M5",
        "outputId": "588cbfb6-a15c-46cc-d64c-2600840131d4"
      },
      "outputs": [
        {
          "output_type": "display_data",
          "data": {
            "text/plain": [
              "<Figure size 640x480 with 1 Axes>"
            ],
            "image/png": "[encoded data removed]"
          },
          "metadata": {}
        }
      ],
      "source": [
        "# Distribución de sentimientos\n",
        "cleaned_data['sentiment'].value_counts().plot(kind='bar')\n",
        "plt.title('Distribución de Sentimientos')\n",
        "plt.xlabel('Sentimiento')\n",
        "plt.ylabel('Frecuencia')\n",
        "plt.show()\n"
      ]
    },
    {
      "cell_type": "markdown",
      "source": [
        "**Explicación del Código**\n",
        "\n",
        "````\n",
        "Se utiliza las librerías matplotlib.pyplot y WordCloud para generar y visualizar una nube de palabras a partir de las reseñas contenidas\n",
        "en la columna review del DataFrame cleaned_data. Primero, concatena todos los textos de esta columna en una sola cadena.\n",
        "Luego, crea una nube de palabras que visualiza la frecuencia de cada término.  \n",
        "La visualización resultante muestra claramente cuáles términos son más comunes en las reseñas, ayudando a identificar rápidamente\n",
        "los temas más destacados discutidos por los usuarios.\n",
        "````"
      ],
      "metadata": {
        "id": "ht9olemGsEB1"
      }
    },
    {
      "cell_type": "code",
      "execution_count": 18,
      "metadata": {
        "colab": {
          "base_uri": "https://localhost:8080/",
          "height": 446
        },
        "id": "kzWRRE9BabvW",
        "outputId": "bb616187-51da-4d42-a7e7-63b56098d872"
      },
      "outputs": [
        {
          "output_type": "display_data",
          "data": {
            "text/plain": [
              "<Figure size 1000x700 with 1 Axes>"
            ],
            "image/png": "[encoded data removed]"
          },
          "metadata": {}
        }
      ],
      "source": [
        "import matplotlib.pyplot as plt\n",
        "from wordcloud import WordCloud\n",
        "\n",
        "# Asumiendo que 'cleaned_data' es tu DataFrame y ya está cargado\n",
        "# y que la columna 'review' ya está limpia para el procesamiento de texto.\n",
        "\n",
        "# Generación de la nube de palabras\n",
        "text = ' '.join(review for review in cleaned_data['review'])  # Utilizando la columna correcta\n",
        "word_cloud = WordCloud(colormap='viridis', max_font_size=100, background_color='white').generate(text)\n",
        "\n",
        "# Visualización de la nube de palabras\n",
        "plt.figure(figsize=(10,7))\n",
        "plt.imshow(word_cloud, interpolation='bilinear')\n",
        "plt.axis('off')\n",
        "plt.title('Nube de Palabras de las Reseñas')\n",
        "plt.show()"
      ]
    },
    {
      "cell_type": "markdown",
      "source": [
        "**Explicación del Código**\n",
        "\n",
        "````\n",
        "Aqui se utiliza la biblioteca TextBlob para analizar el sentimiento de las reseñas en el DataFrame cleaned_data.\n",
        "Define y aplica una función, detailed_sentiment, que clasifica cada reseña en categorías de sentimiento desde \"Muy positivo\" a \"Muy negativo\" basado en la polaridad calculada.\n",
        "Esta función se aplica a las primeras 5000 reseñas y los resultados se visualizan en un gráfico de barras, mostrando la distribución de estos sentimientos detallados.\n",
        "Esto permite una evaluación rápida y visual del tono general de las reseñas en el conjunto de datos.\n",
        "\n",
        "````"
      ],
      "metadata": {
        "id": "PaUgZ2BitA5P"
      }
    },
    {
      "cell_type": "code",
      "execution_count": 19,
      "metadata": {
        "colab": {
          "base_uri": "https://localhost:8080/",
          "height": 611
        },
        "id": "90fZkQE6ffaD",
        "outputId": "d117c3e0-6f90-4421-fe7b-9568c4ba4d1b"
      },
      "outputs": [
        {
          "output_type": "display_data",
          "data": {
            "text/plain": [
              "<Figure size 640x480 with 1 Axes>"
            ],
            "image/png": "[encoded data removed]"
          },
          "metadata": {}
        }
      ],
      "source": [
        "from textblob import TextBlob\n",
        "\n",
        "def detailed_sentiment(text):\n",
        "    polarity = TextBlob(text).sentiment.polarity\n",
        "    if polarity > 0.5:\n",
        "        return 'Muy positivo'\n",
        "    elif polarity > 0.1:\n",
        "        return 'Ligeramente positivo'\n",
        "    elif polarity > -0.1:\n",
        "        return 'Neutro'\n",
        "    elif polarity > -0.5:\n",
        "        return 'Ligeramente negativo'\n",
        "    else:\n",
        "        return 'Muy negativo'\n",
        "\n",
        "cleaned_data['detailed_sentiment'] = cleaned_data['review'][:5000].apply(detailed_sentiment)\n",
        "cleaned_data['detailed_sentiment'].value_counts().plot(kind='bar')\n",
        "plt.title('Distribución de Sentimientos Detallados')\n",
        "plt.xlabel('Sentimiento')\n",
        "plt.ylabel('Frecuencia')\n",
        "plt.show()"
      ]
    },
    {
      "cell_type": "markdown",
      "source": [
        "**Explicación del Código**\n",
        "\n",
        "````\n",
        "Se utiliza técnicas de procesamiento de texto para analizar reseñas mediante CountVectorizer y Latent Dirichlet Allocation (LDA) de la librería sklearn.\n",
        "Primero, convierte las reseñas a una matriz numérica de términos-frecuencia, ignorando las palabras más comunes y ajustando la matriz por frecuencias de aparición.\n",
        "Luego, aplica LDA para identificar cinco tópicos principales en los textos, y visualiza las palabras clave de cada tópico, facilitando la comprensión de los temas predominantes en las reseñas.\n",
        "El objetivo es descubrir y presentar los temas recurrentes para su análisis y toma de decisiones basadas en datos.\n",
        "````"
      ],
      "metadata": {
        "id": "F5Vh291WuFlw"
      }
    },
    {
      "cell_type": "code",
      "execution_count": 20,
      "metadata": {
        "colab": {
          "base_uri": "https://localhost:8080/"
        },
        "id": "RNwZzGMQgGCm",
        "outputId": "e67ff584-2542-4a96-e4af-8ac339be390d"
      },
      "outputs": [
        {
          "output_type": "stream",
          "name": "stdout",
          "text": [
            "Tema 0:\n",
            "movie film like just good really movies don time bad\n",
            "Tema 1:\n",
            "movie like great good love funny just comedy old little\n",
            "Tema 2:\n",
            "film movie just like horror bad plot br good really\n",
            "Tema 3:\n",
            "br movie like just good really don time film bad\n",
            "Tema 4:\n",
            "film br story life films time man character best great\n"
          ]
        }
      ],
      "source": [
        "from sklearn.feature_extraction.text import CountVectorizer\n",
        "from sklearn.decomposition import LatentDirichletAllocation\n",
        "\n",
        "# Vectorización de texto\n",
        "tf_vectorizer = CountVectorizer(max_df=0.95, min_df=2, max_features=1000, stop_words='english')\n",
        "tf = tf_vectorizer.fit_transform(cleaned_data['review'])\n",
        "\n",
        "# LDA\n",
        "lda = LatentDirichletAllocation(n_components=5, random_state=0)\n",
        "lda.fit(tf)\n",
        "\n",
        "def display_topics(model, feature_names, no_top_words):\n",
        "    for topic_idx, topic in enumerate(model.components_):\n",
        "        print(\"Tema %d:\" % (topic_idx))\n",
        "        print(\" \".join([feature_names[i] for i in topic.argsort()[:-no_top_words - 1:-1]]))\n",
        "\n",
        "display_topics(lda, tf_vectorizer.get_feature_names_out(), 10)"
      ]
    },
    {
      "cell_type": "markdown",
      "source": [
        "**Explicación del Código**\n",
        "\n",
        "````\n",
        "Aqui se añade dos nuevas columnas al DataFrame cleaned_data: sentence_length y word_length, que contienen, respectivamente, la longitud de las sentencias en palabras y la longitud promedio de las palabras de cada reseña.\n",
        "Para visualizar la distribución de estas métricas, se generan dos histogramas con curvas de estimación de densidad de kernel (KDE), uno para la longitud de las sentencias y otro para la longitud de las palabras, utilizando la función sns.histplot de Seaborn.\n",
        "El objetivo principal de este código es explorar la estructura textual de las reseñas, proporcionando una visión general sobre la complejidad y diversidad del texto analizado, lo cual puede ser útil para tareas como la optimización de modelos de procesamiento de lenguaje natural o para mejoras en sistemas de análisis de texto.\n",
        "````"
      ],
      "metadata": {
        "id": "bb-kte_2wEHy"
      }
    },
    {
      "cell_type": "code",
      "execution_count": 21,
      "metadata": {
        "id": "BqI7uVSSgkHf",
        "colab": {
          "base_uri": "https://localhost:8080/",
          "height": 928
        },
        "outputId": "fdc536f5-25d8-46e0-9add-0ddaf8c8273f"
      },
      "outputs": [
        {
          "output_type": "display_data",
          "data": {
            "text/plain": [
              "<Figure size 640x480 with 1 Axes>"
            ],
            "image/png": "[encoded data removed]"
          },
          "metadata": {}
        },
        {
          "output_type": "display_data",
          "data": {
            "text/plain": [
              "<Figure size 640x480 with 1 Axes>"
            ],
            "image/png": "[encoded data removed]"
          },
          "metadata": {}
        }
      ],
      "source": [
        "import seaborn as sns\n",
        "\n",
        "cleaned_data['sentence_length'] = cleaned_data['review'].apply(lambda x: len(x.split()))\n",
        "cleaned_data['word_length'] = cleaned_data['review'].apply(lambda x: np.mean([len(word) for word in x.split()]))\n",
        "\n",
        "sns.histplot(cleaned_data['sentence_length'], bins=30, kde=True)\n",
        "plt.title('Distribución del Largo de las Oraciones')\n",
        "plt.xlabel('Largo de la Oración')\n",
        "plt.ylabel('Frecuencia')\n",
        "plt.show()\n",
        "\n",
        "sns.histplot(cleaned_data['word_length'], bins=30, kde=True)\n",
        "plt.title('Distribución del Largo de las Palabras')\n",
        "plt.xlabel('Largo de la Palabra')\n",
        "plt.ylabel('Frecuencia')\n",
        "plt.show()"
      ]
    },
    {
      "cell_type": "markdown",
      "source": [
        "**Explicación del Código**\n",
        "\n",
        "````\n",
        "Se utiliza la biblioteca spaCy para procesar datos de texto y extraer información lingüística específica de reseñas almacenadas en un DataFrame.\n",
        "Inicialmente, carga un modelo de lenguaje en inglés y define una función count_pos para contar y devolver las 50 palabras más comunes que corresponden a categorías gramaticales específicas (verbos, adjetivos y sustantivos) y que no son palabras vacías.\n",
        "Utiliza esta función para analizar tres conjuntos de datos: el total de reseñas, las reseñas positivas y las reseñas negativas, identificando los verbos, adjetivos y sustantivos más frecuentes en cada contexto.\n",
        "Para ello, selecciona una muestra aleatoria de 100 reseñas del DataFrame, garantizando la reproducibilidad con un estado aleatorio fijo.\n",
        "Finalmente, imprime las listas de las palabras más comunes encontradas en cada análisis.\n",
        "````"
      ],
      "metadata": {
        "id": "lyOJQ3lzxhFu"
      }
    },
    {
      "cell_type": "code",
      "execution_count": 22,
      "metadata": {
        "colab": {
          "base_uri": "https://localhost:8080/"
        },
        "id": "PKcLDHrNdY_o",
        "outputId": "a5dc0a0a-530f-4517-a8f2-03045dec35ab"
      },
      "outputs": [
        {
          "output_type": "stream",
          "name": "stdout",
          "text": [
            "50 verbos más comunes: [('watch', 46), ('know', 44), ('see', 44), ('think', 42), ('go', 40), ('get', 38), ('look', 37), ('play', 36), ('come', 35), ('find', 32), ('try', 29), ('feel', 27), ('want', 27), ('like', 25), ('let', 22), ('take', 21), ('give', 21), ('make', 21), ('tell', 20), ('show', 19), ('leave', 18), ('don', 18), ('love', 18), ('start', 17), ('work', 17), ('involve', 17), ('run', 16), ('turn', 15), ('save', 14), ('say', 14), ('call', 14), ('cry', 14), ('doesn', 13), ('act', 13), ('happen', 12), ('suppose', 12), ('read', 12), ('live', 12), ('write', 12), ('end', 11), ('enjoy', 11), ('talk', 11), ('believe', 11), ('lead', 11), ('bring', 11), ('recommend', 10), ('laugh', 10), ('consider', 10), ('fall', 10), ('wonder', 10)]\n",
            "50 adjetivos y sustantivos más comunes en evaluaciones positivas: [('film', 123), ('movie', 67), ('good', 49), ('character', 44), ('time', 32), ('story', 32), ('great', 26), ('man', 24), ('people', 20), ('life', 17), ('scene', 17), ('bit', 17), ('funny', 16), ('little', 16), ('year', 15), ('way', 15), ('big', 14), ('guy', 14), ('young', 14), ('thing', 13), ('actor', 13), ('bad', 13), ('moment', 13), ('series', 13), ('main', 12), ('fan', 12), ('real', 12), ('comedy', 12), ('director', 12), ('lot', 12), ('wonderful', 12), ('black', 12), ('freedom', 12), ('interesting', 11), ('role', 10), ('place', 10), ('minute', 10), ('family', 10), ('different', 9), ('true', 9), ('audience', 9), ('excellent', 9), ('american', 9), ('friend', 9), ('cast', 9), ('white', 9), ('reason', 8), ('kid', 8), ('stuff', 8), ('world', 8)]\n",
            "50 adjetivos y sustantivos más comunes en evaluaciones negativas: [('movie', 123), ('film', 99), ('bad', 57), ('character', 30), ('good', 30), ('story', 30), ('time', 29), ('actor', 20), ('scene', 19), ('plot', 19), ('lot', 18), ('book', 18), ('man', 17), ('people', 16), ('well', 16), ('thing', 15), ('acting', 15), ('guy', 14), ('point', 14), ('funny', 13), ('fact', 13), ('family', 12), ('script', 12), ('chess', 12), ('world', 12), ('little', 11), ('way', 11), ('interesting', 11), ('work', 11), ('hour', 11), ('excrement', 11), ('great', 10), ('series', 10), ('bit', 10), ('credit', 10), ('director', 10), ('real', 10), ('worth', 10), ('effect', 10), ('big', 9), ('reason', 9), ('game', 9), ('sense', 8), ('example', 8), ('nice', 8), ('player', 8), ('deep', 8), ('computer', 8), ('second', 8), ('problem', 8)]\n"
          ]
        }
      ],
      "source": [
        "import spacy\n",
        "from collections import Counter\n",
        "from spacy.lang.en.examples import sentences\n",
        "\n",
        "# Cargar el modelo de lenguaje\n",
        "nlp = spacy.load(\"en_core_web_sm\")\n",
        "\n",
        "# Función para contar palabras por categoría gramatical que tengan más de una letra\n",
        "def count_pos(reviews, pos_list):\n",
        "    pos_counts = Counter()\n",
        "    for doc in nlp.pipe(reviews):\n",
        "        pos_counts.update([token.lemma_ for token in doc if token.pos_ in pos_list and len(token.lemma_) > 1 and not token.is_stop and token.is_alpha])\n",
        "    return pos_counts.most_common(50)\n",
        "\n",
        "# Seleccionar una muestra aleatoria de 100 registros del DataFrame\n",
        "sampled_data = cleaned_data.sample(n=100, random_state=42)  # 'random_state' para reproducibilidad\n",
        "\n",
        "# Extraer los 50 verbos más usados en las reseñas de la muestra, asegurando que cada verbo tenga más de una letra\n",
        "verbs = count_pos(sampled_data['review'], ['VERB'])\n",
        "print(\"50 verbos más comunes:\", verbs)\n",
        "\n",
        "# Extraer los 50 adjetivos y sustantivos más usados en las reseñas positivas de la muestra\n",
        "adjs_nouns_positive = count_pos(sampled_data[sampled_data['sentiment'] == 1]['review'], ['ADJ', 'NOUN'])\n",
        "print(\"50 adjetivos y sustantivos más comunes en evaluaciones positivas:\", adjs_nouns_positive)\n",
        "\n",
        "# Extraer los 50 adjetivos y sustantivos más usados en las reseñas negativas de la muestra\n",
        "adjs_nouns_negative = count_pos(sampled_data[sampled_data['sentiment'] == 0]['review'], ['ADJ', 'NOUN'])\n",
        "print(\"50 adjetivos y sustantivos más comunes en evaluaciones negativas:\", adjs_nouns_negative)"
      ]
    },
    {
      "cell_type": "markdown",
      "metadata": {
        "id": "fYFL3kpfhGfY"
      },
      "source": [
        "# 4. Dataset and Dataloader\n",
        "\n",
        "En la sección **Dataset and Dataloader** vamos a crear un dataset de Pytorch del tipo map-iterable que utilizaremos para almacenar los datos y procesarlos de acuerdo a los requirimientos del modelo.\n",
        "\n",
        "Después creamos un objeto **DataLoader** de Pytorch que toma el dataset para poder pasar ejemplos al modelo en lotes o batches.\n",
        "\n",
        "---\n",
        "\n",
        "__Clase DistilBertDataset__\n",
        "\n",
        "La clase **DistilBertDataset** toma como argumentos un dataframe con los datos, el tokenizador del modelo y el número de máximo de tokens que definimos en la sección **Config**.\n",
        "\n",
        "El método **__getitem__()** toma como parámetro un índice de los datos en el dataset, extrae el ejemplo correspondiente del dataframe y utiliza la función **encode_plus()** del tokenizador para procesar los inputs de acuerdo a los requerimientos de DistilBERT ( special tokens [CLS] y [SEP], truncation, padding, etc.). Este método devuelve un diccionario de python con los tensores que continen los inputs ids, los attention masks y el sentimiento codificado.\n",
        "\n",
        "El método **__len__()** simplemente devuelve el número de ejemplos en el dataset.\n",
        "\n",
        "---\n",
        "\n",
        "__DataLoader__\n",
        "\n",
        "El **DataLoader** viene a ser un generador que devulve lotes de tamaño `BATCH_SIZE` para alimentar el modelo.\n",
        "\n",
        "En sus parámetros podemos definir el tamaño de lote o batch size, si seleccionar de forma aleatoria los ejemplos a incluir en el batch o no (recomendable al realizar un entrenamiento) y también el número de workers a utilizar (2 para Google Colab).\n",
        "\n",
        "---"
      ]
    },
    {
      "cell_type": "code",
      "execution_count": 23,
      "metadata": {
        "id": "QgA9BXnjhlAj"
      },
      "outputs": [],
      "source": [
        "class DistilBertDataset(Dataset):\n",
        "    \"\"\"Custom pytorch map-iterable dataset for sentiment analysis with DistilBERT.\"\"\"\n",
        "\n",
        "    def __init__(self, dataframe, tokenizer, max_len):\n",
        "        # Initialize the dataset with the input dataframe, tokenizer, and maximum token length\n",
        "        self.len = len(dataframe)  # Stores the number of rows in the dataframe\n",
        "        self.data = dataframe  # Stores the dataframe passed as a parameter\n",
        "        self.tokenizer = tokenizer  # Stores the tokenizer passed as a parameter\n",
        "        self.max_len = max_len  # Stores the maximum length of tokenization allowed\n",
        "\n",
        "    def __getitem__(self, index):\n",
        "        # Return a tokenized and tensor-converted item from the dataset by index\n",
        "        text = str(self.data['review'].loc[index])  # Extract the text of the review at the specified index\n",
        "        text = \" \".join(text.split())  # Remove extra spaces from the text\n",
        "        inputs = self.tokenizer.encode_plus(\n",
        "            text,\n",
        "            None,\n",
        "            add_special_tokens=True,  # Adds special tokens for BERT (CLS, SEP)\n",
        "            max_length=self.max_len,  # Sets the maximum length for tokenization\n",
        "            padding='max_length',  # Adds padding to reach `max_len` if the text is shorter\n",
        "            return_token_type_ids=False,  # Does not return token type IDs (DistilBERT does not use them)\n",
        "            truncation=True  # Truncates the text if it exceeds the maximum length allowed\n",
        "        )\n",
        "        ids = inputs['input_ids']  # Token IDs\n",
        "        mask = inputs['attention_mask']  # Attention mask where `1` indicates real tokens and `0` indicates padding\n",
        "\n",
        "        return {\n",
        "            'ids': torch.tensor(ids, dtype=torch.long),  # Converts token IDs to PyTorch tensors\n",
        "            'mask': torch.tensor(mask, dtype=torch.long),  # Converts the attention mask to a tensor\n",
        "            'targets': torch.tensor(self.data['sentiment'].loc[index], dtype=torch.long)  # Converts the sentiment to a tensor\n",
        "        }\n",
        "\n",
        "    def __len__(self):\n",
        "        # Returns the number of items in the dataset\n",
        "        return self.len  # Returns the length stored during initialization\n"
      ]
    },
    {
      "cell_type": "markdown",
      "metadata": {
        "id": "2pqAVzoBAXgV"
      },
      "source": [
        "**Explicación del Código**\n",
        "\n",
        "````\n",
        "Se inicializa una instancia de DistilBertDataset utilizando datos preprocesados, un tokenizador y una longitud máxima\n",
        "de tokens definida. Se emplea cleaned_data como el DataFrame que contiene los textos ya limpios y normalizados.\n",
        "El TOKENIZER utilizado es específico para DistilBERT, preparando los textos adecuadamente para este modelo.\n",
        "\n",
        "La longitud máxima de tokens, MAX_LEN, asegura que todos los inputs tengan el mismo tamaño, aplicando truncamiento o padding\n",
        "según sea necesario. Este objeto dataset es ahora adecuado para usar en entrenamientos de modelos o evaluaciones,\n",
        "manteniendo la consistencia y la calidad de los datos para el procesamiento de lenguaje natural con DistilBERT.\n",
        "````"
      ]
    },
    {
      "cell_type": "code",
      "execution_count": 24,
      "metadata": {
        "id": "maPFdrm-RStd"
      },
      "outputs": [],
      "source": [
        "### 3. Escribir código para crear un objeto DistilBertDataset con los inputs ###\n",
        "### limpios, el tokenizador del modelo y el máximo número de tokens ###\n",
        "\n",
        "# Crea una instancia de DistilBertDataset con los datos limpios, el tokenizador y el número máximo de tokens\n",
        "dataset = DistilBertDataset(dataframe=cleaned_data, tokenizer=TOKENIZER, max_len=MAX_LEN)"
      ]
    },
    {
      "cell_type": "markdown",
      "metadata": {
        "id": "zj3tV-QUA-Zq"
      },
      "source": [
        "**Explicación del Código**\n",
        "\n",
        "````\n",
        "Imprime información sobre el sexto elemento del conjunto de datos dataset. Muestra los IDs de entrada, las máscaras\n",
        "de atención y el objetivo (sentimiento) para ese elemento en particular. Esto permite una rápida verificación de cómo están\n",
        "estructurados y almacenados los datos en el conjunto de datos personalizado para el análisis de sentimientos con DistilBERT.\n",
        "````"
      ]
    },
    {
      "cell_type": "code",
      "execution_count": 25,
      "metadata": {
        "colab": {
          "base_uri": "https://localhost:8080/"
        },
        "id": "lXjuKL1AGYCS",
        "outputId": "d80d0076-0709-4796-9c21-dd883db39c77"
      },
      "outputs": [
        {
          "output_type": "stream",
          "name": "stdout",
          "text": [
            "---- Visually inspecting 5th element ----\n",
            "\n",
            "\n",
            "Input ids: tensor([  101,  9004,  3334,  4717,  7416,  1055,  2293,  1999,  1996,  2051,\n",
            "         1997,  2769,  2003,  1037, 17453, 14726,  2143,  2000,  3422,  1012,\n",
            "         2720,  1012,  4717,  7416,  4107,  2149,  1037, 14954,  6533,  2055,\n",
            "         2529,  4262,  1012,  2023,  2003,  1037,  3185,  2008,  3849,  2000,\n",
            "         2022,  4129,  2149,  2054,  2769,  1010,  2373,  1998,  3112,  2079,\n",
            "         2000,  2111,  1999,  1996,  2367,  8146,  2057,  8087,  1012,  7987,\n",
            "         7987,  2023,  2108,  1037,  8386,  2006,  1996,  4300,  8040,  7295,\n",
            "         8838,  3917,  1055,  2377,  2055,  1996,  2168,  4323,  1010,  1996,\n",
            "         2472, 15210,  1996,  2895,  2000,  1996,  2556,  2051,  2047,  2259,\n",
            "         2073,  2035,  2122,  2367,  3494,  3113,  1998,  7532,  1012,  2169,\n",
            "         2028,  2003,  4198,  1999,  2028,  2126,  1010,  2030,  2178,  2000,\n",
            "         1996,  2279,  2711,  1010,  2021,  2053,  2028,  3849,  2000,  2113,\n",
            "         1996,  3025,  2391,  1997,  3967,  1012,  2358,  8516, 19983,  1010,\n",
            "         1996,  2143,  2038,  1037, 12138, 20783,  2298,  1012,  2057,  2024,\n",
            "         2579,  2000,  2156,  2129,  2122,  2111,  2444,  1998,  1996,  2088,\n",
            "         2027,  2444,  1999,  2037,  2219,  6552,  1012,  7987,  7987,  1996,\n",
            "         2069,  2518,  2028,  4152,  2041,  1997,  2035,  2122,  9293,  1999,\n",
            "         1996,  3861,  2003,  1996,  2367,  5711,  1997, 20334,  2169,  2028,\n",
            "        21490,  2015,  1012,  1037,  2502,  2103,  2003,  2025,  3599,  1996,\n",
            "         2190,  2173,  1999,  2029,  2529,  4262,  2424, 18006, 29362,  1010,\n",
            "         2004,  2028,  5860, 11795,  2015,  2003,  1996,  2553,  2007,  2087,\n",
            "         1997,  1996,  2111,  2057,  8087,  1012,  7987,  7987,  1996,  3772,\n",
            "         2003,  2204,  2104,  2720,  1012,  4717,  7416,  1055,  3257,  1012,\n",
            "         3889,  3902,  3401,  4328,  1010, 17496, 11026,  1010,  8594,  8472,\n",
            "         1010,  2745, 17727, 11124, 10893,  1010,  7918, 24665, 18595,  2121,\n",
            "         1010,  1998,  1996,  2717,  1997,  1996, 10904,  3459,  1010,  2191,\n",
            "         2122,  3494,  2272,  4142,  1012,  7987,  7987,  2057,  4299,  2720,\n",
            "         1012,  4717,  7416,  2204,  6735,  1998, 26751, 23403,  2005,  2010,\n",
            "         2279,  2147,  1012,   102,     0,     0,     0,     0,     0,     0,\n",
            "            0,     0,     0,     0,     0,     0,     0,     0,     0,     0,\n",
            "            0,     0,     0,     0,     0,     0,     0,     0,     0,     0,\n",
            "            0,     0,     0,     0,     0,     0,     0,     0,     0,     0,\n",
            "            0,     0,     0,     0,     0,     0,     0,     0,     0,     0,\n",
            "            0,     0,     0,     0,     0,     0,     0,     0,     0,     0,\n",
            "            0,     0,     0,     0,     0,     0,     0,     0,     0,     0,\n",
            "            0,     0,     0,     0,     0,     0,     0,     0,     0,     0,\n",
            "            0,     0,     0,     0,     0,     0,     0,     0,     0,     0,\n",
            "            0,     0,     0,     0,     0,     0,     0,     0,     0,     0,\n",
            "            0,     0,     0,     0,     0,     0,     0,     0,     0,     0,\n",
            "            0,     0,     0,     0,     0,     0,     0,     0,     0,     0,\n",
            "            0,     0,     0,     0,     0,     0,     0,     0,     0,     0,\n",
            "            0,     0,     0,     0,     0,     0,     0,     0,     0,     0,\n",
            "            0,     0,     0,     0,     0,     0,     0,     0,     0,     0,\n",
            "            0,     0,     0,     0,     0,     0,     0,     0,     0,     0,\n",
            "            0,     0,     0,     0,     0,     0,     0,     0,     0,     0,\n",
            "            0,     0,     0,     0,     0,     0,     0,     0,     0,     0,\n",
            "            0,     0,     0,     0,     0,     0,     0,     0,     0,     0,\n",
            "            0,     0,     0,     0,     0,     0,     0,     0,     0,     0,\n",
            "            0,     0,     0,     0,     0,     0,     0,     0,     0,     0,\n",
            "            0,     0,     0,     0,     0,     0,     0,     0,     0,     0,\n",
            "            0,     0,     0,     0,     0,     0,     0,     0,     0,     0,\n",
            "            0,     0])\n",
            "\n",
            "\n",
            "Attention masks: tensor([1, 1, 1, 1, 1, 1, 1, 1, 1, 1, 1, 1, 1, 1, 1, 1, 1, 1, 1, 1, 1, 1, 1, 1,\n",
            "        1, 1, 1, 1, 1, 1, 1, 1, 1, 1, 1, 1, 1, 1, 1, 1, 1, 1, 1, 1, 1, 1, 1, 1,\n",
            "        1, 1, 1, 1, 1, 1, 1, 1, 1, 1, 1, 1, 1, 1, 1, 1, 1, 1, 1, 1, 1, 1, 1, 1,\n",
            "        1, 1, 1, 1, 1, 1, 1, 1, 1, 1, 1, 1, 1, 1, 1, 1, 1, 1, 1, 1, 1, 1, 1, 1,\n",
            "        1, 1, 1, 1, 1, 1, 1, 1, 1, 1, 1, 1, 1, 1, 1, 1, 1, 1, 1, 1, 1, 1, 1, 1,\n",
            "        1, 1, 1, 1, 1, 1, 1, 1, 1, 1, 1, 1, 1, 1, 1, 1, 1, 1, 1, 1, 1, 1, 1, 1,\n",
            "        1, 1, 1, 1, 1, 1, 1, 1, 1, 1, 1, 1, 1, 1, 1, 1, 1, 1, 1, 1, 1, 1, 1, 1,\n",
            "        1, 1, 1, 1, 1, 1, 1, 1, 1, 1, 1, 1, 1, 1, 1, 1, 1, 1, 1, 1, 1, 1, 1, 1,\n",
            "        1, 1, 1, 1, 1, 1, 1, 1, 1, 1, 1, 1, 1, 1, 1, 1, 1, 1, 1, 1, 1, 1, 1, 1,\n",
            "        1, 1, 1, 1, 1, 1, 1, 1, 1, 1, 1, 1, 1, 1, 1, 1, 1, 1, 1, 1, 1, 1, 1, 1,\n",
            "        1, 1, 1, 1, 1, 1, 1, 1, 1, 1, 1, 1, 1, 1, 1, 1, 1, 1, 1, 1, 1, 1, 1, 1,\n",
            "        1, 1, 1, 1, 1, 1, 1, 1, 1, 1, 1, 1, 1, 1, 1, 1, 1, 1, 1, 1, 0, 0, 0, 0,\n",
            "        0, 0, 0, 0, 0, 0, 0, 0, 0, 0, 0, 0, 0, 0, 0, 0, 0, 0, 0, 0, 0, 0, 0, 0,\n",
            "        0, 0, 0, 0, 0, 0, 0, 0, 0, 0, 0, 0, 0, 0, 0, 0, 0, 0, 0, 0, 0, 0, 0, 0,\n",
            "        0, 0, 0, 0, 0, 0, 0, 0, 0, 0, 0, 0, 0, 0, 0, 0, 0, 0, 0, 0, 0, 0, 0, 0,\n",
            "        0, 0, 0, 0, 0, 0, 0, 0, 0, 0, 0, 0, 0, 0, 0, 0, 0, 0, 0, 0, 0, 0, 0, 0,\n",
            "        0, 0, 0, 0, 0, 0, 0, 0, 0, 0, 0, 0, 0, 0, 0, 0, 0, 0, 0, 0, 0, 0, 0, 0,\n",
            "        0, 0, 0, 0, 0, 0, 0, 0, 0, 0, 0, 0, 0, 0, 0, 0, 0, 0, 0, 0, 0, 0, 0, 0,\n",
            "        0, 0, 0, 0, 0, 0, 0, 0, 0, 0, 0, 0, 0, 0, 0, 0, 0, 0, 0, 0, 0, 0, 0, 0,\n",
            "        0, 0, 0, 0, 0, 0, 0, 0, 0, 0, 0, 0, 0, 0, 0, 0, 0, 0, 0, 0, 0, 0, 0, 0,\n",
            "        0, 0, 0, 0, 0, 0, 0, 0, 0, 0, 0, 0, 0, 0, 0, 0, 0, 0, 0, 0, 0, 0, 0, 0,\n",
            "        0, 0, 0, 0, 0, 0, 0, 0])\n",
            "\n",
            "\n",
            "Target: 1\n",
            "------------------------------------------\n"
          ]
        }
      ],
      "source": [
        "print(\"---- Visually inspecting 5th element ----\")\n",
        "print(\"\\n\")\n",
        "print(f\"Input ids: {dataset[4]['ids']}\")\n",
        "print(\"\\n\")\n",
        "print(f\"Attention masks: {dataset[4]['mask']}\")\n",
        "print(\"\\n\")\n",
        "print(f\"Target: {dataset[4]['targets']}\")\n",
        "print(\"------------------------------------------\")"
      ]
    },
    {
      "cell_type": "markdown",
      "metadata": {
        "id": "8qaIPaL2B8Mp"
      },
      "source": [
        "**Explicación del Código**\n",
        "\n",
        "````\n",
        "Establece los parámetros para el DataLoader, que se utiliza para cargar datos en lotes durante el entrenamiento\n",
        "de un modelo de aprendizaje automático.\n",
        "\n",
        "Se definen tres parámetros principales: el tamaño del lote (batch_size), si se deben mezclar los datos (shuffle),\n",
        "y el número de subprocesos (num_workers) que se utilizarán para cargar los datos en paralelo.\n",
        "\n",
        "Luego, se crea el DataLoader usando estos parámetros junto con el conjunto de datos previamente creado dataset.\n",
        "Esto facilita la carga eficiente y escalable de datos para el entrenamiento del modelo.\n",
        "````"
      ]
    },
    {
      "cell_type": "code",
      "execution_count": 26,
      "metadata": {
        "id": "DF9X4qSqiXzK"
      },
      "outputs": [],
      "source": [
        "# define dataloader params\n",
        "dataloader_params = {'batch_size': BATCH_SIZE,\n",
        "                'shuffle': False,\n",
        "                'num_workers': 2\n",
        "                }\n",
        "\n",
        "# create dataloader\n",
        "data_loader = DataLoader(dataset, **dataloader_params)"
      ]
    },
    {
      "cell_type": "markdown",
      "metadata": {
        "id": "VYipI3FDigJZ"
      },
      "source": [
        "# 5. Model\n",
        "\n",
        "En la sección **Model** creamos la **clase DistilBERTClass()** con el modelo ya ajustado que se encuentra en el hub de modelos de Huggingface.\n",
        "\n",
        "El método **forward()** de la clase toma los inputs ids y attention mask que devuelve el método **__getitem__()** de la clase **DistilBertDataset**.\n",
        "\n",
        "\n",
        "````\n",
        "Se define una clase personalizada en PyTorch llamada DistilBERTClass para un modelo de clasificación de secuencias\n",
        "utilizando DistilBERT pre-entrenado. En el método __init__, se carga el modelo DistilBERT pre-entrenado utilizando\n",
        "la biblioteca Hugging Face Transformers. En el método forward, se pasan los IDs de entrada y la máscara de atención al modelo,\n",
        "y las salidas del modelo son las probabilidades de clasificación para cada clase en la tarea de clasificación de secuencias.\n",
        "Este modelo puede ser utilizado para realizar tareas de clasificación de texto de manera eficiente, aprovechando el poder\n",
        "del modelo DistilBERT pre-entrenado\n",
        "````"
      ]
    },
    {
      "cell_type": "code",
      "execution_count": 27,
      "metadata": {
        "id": "yY14bx9Cie9Z"
      },
      "outputs": [],
      "source": [
        "class DistilBERTClass(torch.nn.Module):\n",
        "  \"\"\"Custom class for DilstilBERT model for Sequence Classification.\"\"\"\n",
        "\n",
        "  def __init__(self):\n",
        "      super(DistilBERTClass, self).__init__()\n",
        "      # Inicializa el modelo DistilBERT pre-entrenado para clasificación de secuencias\n",
        "      self.model = AutoModelForSequenceClassification \\\n",
        "        .from_pretrained(\"distilbert-base-uncased-finetuned-sst-2-english\")\n",
        "\n",
        "  def forward(self, input_ids, attention_mask):\n",
        "      # Pasa los IDs de entrada y la máscara de atención al modelo\n",
        "      output = self.model(input_ids=input_ids, attention_mask=attention_mask)\n",
        "      # Extrae las predicciones del modelo\n",
        "      logits = output.logits\n",
        "\n",
        "      return logits"
      ]
    },
    {
      "cell_type": "markdown",
      "metadata": {
        "id": "iv-5Vd4b98iH"
      },
      "source": [
        "# 6. Inference\n",
        "\n",
        "En la sección **Inference** vamos a utilizar el modelo para realizar inferencia y obtener los sentimientos de las reviews.\n",
        "\n",
        "Después utilizamos la función **inference()** para obtener las predicciones.\n"
      ]
    },
    {
      "cell_type": "markdown",
      "metadata": {
        "id": "HBMi81guDojz"
      },
      "source": [
        "**Explicación del Código**\n",
        "\n",
        "````\n",
        "Se descarga y carga un modelo DistilBERT pre-entrenado utilizando la clase DistilBERTClass,\n",
        "y luego mueve el modelo a la GPU si está disponible (DEVICE).\n",
        "\n",
        "Se presenta una representación de la arquitectura del modelo DistilBERT para clasificación de secuencias,\n",
        "presentada en formato de árbol, mostrando las capas y subcapas del modelo.\n",
        "\n",
        "> DistilBERTClass: Es la clase definida que envuelve al modelo DistilBERT.\n",
        "> DistilBertForSequenceClassification: Es la arquitectura específica de DistilBERT utilizada para tareas de clasificación de secuencias.\n",
        "> distilbert: Representa la parte principal del modelo, que incluye la capa de embeddings, el transformador y las capas de clasificación.\n",
        "> embeddings: Contiene las capas de embeddings, como embeddings de palabras y embeddings de posición.\n",
        "> transformer: Es la parte del modelo que ejecuta la transformación de los embeddings.\n",
        "> layer: Contiene las capas del transformador, cada una consistiendo en un bloque de transformador.\n",
        "> attention: Representa la capa de atención multi-cabeza dentro de cada bloque de transformador.\n",
        "> sa_layer_norm: Capa de normalización después de la atención.\n",
        "> ffn: Capa de feedforward dentro de cada bloque de transformador.\n",
        "> pre_classifier: Capa lineal antes de la capa de clasificación final.\n",
        "> classifier: Capa lineal de clasificación final.\n",
        "> dropout: Capa de dropout utilizada para regularización.\n",
        "````"
      ]
    },
    {
      "cell_type": "code",
      "execution_count": 28,
      "metadata": {
        "colab": {
          "base_uri": "https://localhost:8080/",
          "height": 661,
          "referenced_widgets": [
            "8a59df8b8eb6485b8388fc82556012c7",
            "d84c52654c2349bd871e516a9d532095",
            "e5ef6d2d65e144b39d1149f8ef1b3212",
            "03aead243bf74163b32501c8a41e5085",
            "91c56418e947484cb2aa502ed2641bdf",
            "f391c9d8fd434888becfe4572c05267b",
            "be664d2c79c44543adff57854c25149f",
            "260e60f6b2c448f2a03ede02e2694d4f",
            "3b41348476e44bf9896d8aa8a4b0e56e",
            "73f32f054a9e422db15bb21f1f5d7158",
            "1106d5550c0d4ae1ab8e690df9711680"
          ]
        },
        "id": "yM-4udy2D8Jx",
        "outputId": "90310fe4-424e-47e0-9448-89417bd6cf68"
      },
      "outputs": [
        {
          "output_type": "display_data",
          "data": {
            "text/plain": [
              "model.safetensors:   0%|          | 0.00/268M [00:00<?, ?B/s]"
            ],
            "application/vnd.jupyter.widget-view+json": {
              "version_major": 2,
              "version_minor": 0,
              "model_id": "8a59df8b8eb6485b8388fc82556012c7"
            }
          },
          "metadata": {}
        },
        {
          "output_type": "execute_result",
          "data": {
            "text/plain": [
              "DistilBERTClass(\n",
              "  (model): DistilBertForSequenceClassification(\n",
              "    (distilbert): DistilBertModel(\n",
              "      (embeddings): Embeddings(\n",
              "        (word_embeddings): Embedding(30522, 768, padding_idx=0)\n",
              "        (position_embeddings): Embedding(512, 768)\n",
              "        (LayerNorm): LayerNorm((768,), eps=1e-12, elementwise_affine=True)\n",
              "        (dropout): Dropout(p=0.1, inplace=False)\n",
              "      )\n",
              "      (transformer): Transformer(\n",
              "        (layer): ModuleList(\n",
              "          (0-5): 6 x TransformerBlock(\n",
              "            (attention): MultiHeadSelfAttention(\n",
              "              (dropout): Dropout(p=0.1, inplace=False)\n",
              "              (q_lin): Linear(in_features=768, out_features=768, bias=True)\n",
              "              (k_lin): Linear(in_features=768, out_features=768, bias=True)\n",
              "              (v_lin): Linear(in_features=768, out_features=768, bias=True)\n",
              "              (out_lin): Linear(in_features=768, out_features=768, bias=True)\n",
              "            )\n",
              "            (sa_layer_norm): LayerNorm((768,), eps=1e-12, elementwise_affine=True)\n",
              "            (ffn): FFN(\n",
              "              (dropout): Dropout(p=0.1, inplace=False)\n",
              "              (lin1): Linear(in_features=768, out_features=3072, bias=True)\n",
              "              (lin2): Linear(in_features=3072, out_features=768, bias=True)\n",
              "              (activation): GELUActivation()\n",
              "            )\n",
              "            (output_layer_norm): LayerNorm((768,), eps=1e-12, elementwise_affine=True)\n",
              "          )\n",
              "        )\n",
              "      )\n",
              "    )\n",
              "    (pre_classifier): Linear(in_features=768, out_features=768, bias=True)\n",
              "    (classifier): Linear(in_features=768, out_features=2, bias=True)\n",
              "    (dropout): Dropout(p=0.2, inplace=False)\n",
              "  )\n",
              ")"
            ]
          },
          "metadata": {},
          "execution_count": 28
        }
      ],
      "source": [
        "# Download and load trained DistilBERT model\n",
        "model = DistilBERTClass()\n",
        "model.to(DEVICE)"
      ]
    },
    {
      "cell_type": "markdown",
      "metadata": {
        "id": "bdGujGxKFG5L"
      },
      "source": [
        "**Explicación del Código**\n",
        "\n",
        "````\n",
        "Define una función llamada inference que realiza la inferencia (predicción) utilizando un modelo DistilBERT para clasificación binaria.\n",
        "El modelo se coloca en modo de evaluación y luego se itera sobre los lotes de datos de entrada.\n",
        "Para cada lote, se envían los IDs de entrada y la máscara de atención al dispositivo de computación (CPU o GPU), y se obtienen las predicciones del modelo.\n",
        "Los resultados y los objetivos se almacenan en listas y se devuelven al final de la función.\n",
        "````"
      ]
    },
    {
      "cell_type": "code",
      "execution_count": 29,
      "metadata": {
        "id": "dWsImXd8aJVH"
      },
      "outputs": [],
      "source": [
        "def inference(data_loader, model, device):\n",
        "    \"\"\"\n",
        "    Clasificación binaria utilizando el modelo DistilBERT.\n",
        "\n",
        "    Parámetros\n",
        "    ----------\n",
        "    data_loader: objeto DataLoader de Pytorch\n",
        "    model: Objeto DistilBERTClass\n",
        "    device: str, dispositivo\n",
        "\n",
        "    Devoluciones\n",
        "    -------\n",
        "    listas, logits de las salidas y objetivos\n",
        "    \"\"\"\n",
        "    # poner el modelo en modo de evaluación\n",
        "    model.eval()\n",
        "    # crear listas para ser pobladas con predicciones y objetivos correspondientes\n",
        "    fin_targets = []\n",
        "    fin_outputs = []\n",
        "    # no calcular gradientes ya que no son necesarios para inferencia\n",
        "    with torch.no_grad():\n",
        "        # iterar sobre lotes y obtener predicciones\n",
        "        for bi, d in tqdm(enumerate(data_loader), total=len(data_loader)):\n",
        "            ids = d['ids']\n",
        "            mask = d['mask']\n",
        "            targets = d['targets']\n",
        "\n",
        "            # enviarlos al dispositivo cuda que estamos usando\n",
        "            ids = ids.to(device, dtype=torch.long)\n",
        "            mask = mask.to(device, dtype=torch.long)\n",
        "            targets = targets.to(device, dtype=torch.long)\n",
        "            # obtener los logits de las salidas\n",
        "            outputs = model(\n",
        "                input_ids=ids,\n",
        "                attention_mask=mask\n",
        "            )\n",
        "            # Normalizar logits y almacenar resultados y objetivos en listas\n",
        "            fin_targets.extend(targets.cpu().detach().numpy().tolist())\n",
        "            fin_outputs.extend(torch.sigmoid(outputs).cpu().detach().numpy().tolist())\n",
        "\n",
        "    return fin_outputs, fin_targets\n"
      ]
    },
    {
      "cell_type": "markdown",
      "metadata": {
        "id": "vYSJFFm7FjBr"
      },
      "source": [
        "**Explicación del Código**\n",
        "\n",
        "````\n",
        "Se realiza la inferencia para análisis de sentimiento.\n",
        "Utiliza la función inference para obtener las salidas (predicciones) y los objetivos (etiquetas reales) del modelo\n",
        "para un conjunto de datos de entrada, utilizando un DataLoader y un modelo previamente definidos.\n",
        "\n",
        "Los resultados de la inferencia se almacenan en las variables outputs y targets.\n",
        "````"
      ]
    },
    {
      "cell_type": "code",
      "execution_count": 30,
      "metadata": {
        "colab": {
          "base_uri": "https://localhost:8080/",
          "height": 103,
          "referenced_widgets": [
            "d09aa7f93ab24b17b2200f2e4ed8d682",
            "19bbb9b79de746bfa290fd4a16eee338",
            "95096456285a460291a8c2f1a1c5a74a",
            "eaff8e5dfb10424d89ba5c3bd9ef8448",
            "59f848539baa4b0492a4cbdc55663cd3",
            "ab491fc6d8ce4ec5b7a33d27f6d060fd",
            "153727f1854644d1b73b88619dd03cda",
            "0c330a6da7e7439999edb0540362089c",
            "cdddd76fa72d40feb5b30e43fcc158a8",
            "d910ffb8708649c292312feaa8797bac",
            "5baff5417e7f4b68b2c2af9bd715e500"
          ]
        },
        "id": "n_h3497nHqNV",
        "outputId": "f30eb746-e40e-47dd-f6d5-0e73d94b1907"
      },
      "outputs": [
        {
          "output_type": "stream",
          "name": "stderr",
          "text": [
            "/usr/lib/python3.10/multiprocessing/popen_fork.py:66: RuntimeWarning: os.fork() was called. os.fork() is incompatible with multithreaded code, and JAX is multithreaded, so this will likely lead to a deadlock.\n",
            "  self.pid = os.fork()\n"
          ]
        },
        {
          "output_type": "display_data",
          "data": {
            "text/plain": [
              "  0%|          | 0/782 [00:00<?, ?it/s]"
            ],
            "application/vnd.jupyter.widget-view+json": {
              "version_major": 2,
              "version_minor": 0,
              "model_id": "d09aa7f93ab24b17b2200f2e4ed8d682"
            }
          },
          "metadata": {}
        }
      ],
      "source": [
        "# run inference -> sentiment analysis\n",
        "\n",
        "# Realiza la inferencia en los datos de entrada utilizando la función 'inference'\n",
        "# Se espera que 'inference' devuelva las salidas (predicciones) y los objetivos (etiquetas reales) del modelo\n",
        "\n",
        "outputs, targets = inference(\n",
        "    data_loader=data_loader,  # DataLoader que contiene los datos de entrada\n",
        "    model=model,              # Modelo utilizado para la inferencia\n",
        "    device=DEVICE             # Dispositivo en el que se realizará la inferencia (CPU o GPU)\n",
        ")\n"
      ]
    },
    {
      "cell_type": "markdown",
      "source": [
        "**Explicación del Código**\n",
        "\n",
        "````\n",
        "Aqui se procesa y visualiza los resultados de una inferencia de modelo en PyTorch.\n",
        "Inicialmente, transforma los outputs y targets, que son tensores de PyTorch, en arrays de NumPy.\n",
        "Esta conversión es necesaria para facilitar la manipulación y visualización de los datos, y se realiza verificando si el cálculo se efectuó en una CPU o GPU; en caso de haberse usado GPU, los datos se transfieren primero al CPU.\n",
        "Luego, el script imprime los primeros cinco outputs y sus targets correspondientes.\n",
        "Este paso es crucial para verificar rápidamente la precisión de las inferencias del modelo, permitiendo observar de forma inmediata si los resultados son los esperados según los valores reales.\n",
        "````"
      ],
      "metadata": {
        "id": "nU3q2m3q-rAb"
      }
    },
    {
      "cell_type": "code",
      "source": [
        "# Suponiendo que 'outputs' y 'targets' sean listas, necesitas convertirlos a tensores de PyTorch.\n",
        "outputs = torch.tensor(outputs, device='cuda')  # crear el tensor en la GPU\n",
        "targets = torch.tensor(targets, device='cuda')  # crear el tensor en la GPU\n",
        "\n",
        "# Verificar si el dispositivo predeterminado debe ser CUDA y si los tensores están en la GPU\n",
        "if torch.cuda.is_available() and DEVICE == 'cuda':\n",
        "    outputs = outputs.cpu().numpy()  # Mueve el tensor a la CPU y luego convierte a array de NumPy\n",
        "    targets = targets.cpu().numpy()  # Mueve el tensor a la CPU y luego convierte a array de NumPy\n",
        "else:\n",
        "    outputs = outputs.numpy()  # Convierte directamente a array de NumPy si ya está en la CPU\n",
        "    targets = targets.numpy()  # Convierte directamente a array de NumPy si ya está en la CPU\n",
        "\n",
        "# Imprimir las primeras 5 líneas de 'outputs' y 'targets' para verificar los resultados\n",
        "print(\"Primeros 5 outputs:\")\n",
        "for i in range(5):\n",
        "    print(f\"Output {i+1}: {outputs[i]}\")\n",
        "\n",
        "print(\"\\nPrimeros 5 targets (valores reales esperados):\")\n",
        "for i in range(5):\n",
        "    print(f\"Target {i+1}: {targets[i]}\")"
      ],
      "metadata": {
        "colab": {
          "base_uri": "https://localhost:8080/"
        },
        "id": "y-FQ9aWz-2A4",
        "outputId": "0bd9e91a-2cda-4c95-d85c-9a1c630bbd64"
      },
      "execution_count": 33,
      "outputs": [
        {
          "output_type": "stream",
          "name": "stdout",
          "text": [
            "Primeros 5 outputs:\n",
            "Output 1: [0.78473234 0.25906625]\n",
            "Output 2: [0.03092587 0.97576797]\n",
            "Output 3: [0.02827958 0.97626036]\n",
            "Output 4: [0.9842179  0.03259172]\n",
            "Output 5: [0.04347434 0.96239936]\n",
            "\n",
            "Primeros 5 targets (valores reales esperados):\n",
            "Target 1: 1\n",
            "Target 2: 1\n",
            "Target 3: 1\n",
            "Target 4: 0\n",
            "Target 5: 1\n"
          ]
        }
      ]
    },
    {
      "cell_type": "markdown",
      "metadata": {
        "id": "Mq40iZygNpbw"
      },
      "source": [
        "**Explicación del Código**\n",
        "\n",
        "````\n",
        "Utiliza np.argmax() para obtener las predicciones a partir de las logits normalizadas.\n",
        "La función np.argmax() devuelve el índice del valor máximo a lo largo del eje especificado.\n",
        "En este caso, especificamos axis=1 para obtener el índice de la clase más probable para cada ejemplo..\n",
        "````"
      ]
    },
    {
      "cell_type": "code",
      "execution_count": 34,
      "metadata": {
        "id": "lFdIcfRsHt4S",
        "colab": {
          "base_uri": "https://localhost:8080/"
        },
        "outputId": "5a11c0a6-2c3b-4a56-8411-5945b82ecb30"
      },
      "outputs": [
        {
          "output_type": "stream",
          "name": "stdout",
          "text": [
            "Clases predichas para los primeros 5 ejemplos:\n",
            "Ejemplo 1: Clase predicha = 0\n",
            "Ejemplo 2: Clase predicha = 1\n",
            "Ejemplo 3: Clase predicha = 1\n",
            "Ejemplo 4: Clase predicha = 0\n",
            "Ejemplo 5: Clase predicha = 1\n"
          ]
        }
      ],
      "source": [
        "### 4. Escribir código obtener las predicciónes a partir de las logits normalizadas ###\n",
        "### Criterio: Elegir la clase más probable ###\n",
        "### La función de numpy np.argmax() puede ser de gran ayuda ;) ###\n",
        "### Sustituir None por el código necesario ###\n",
        "\n",
        "predicted_classes = np.argmax(outputs, axis=1)\n",
        "\n",
        "### Imprimir las clases predichas para verificar los resultados\n",
        "print(\"Clases predichas para los primeros 5 ejemplos:\")\n",
        "for i in range(5):\n",
        "    print(f\"Ejemplo {i+1}: Clase predicha = {predicted_classes[i]}\")"
      ]
    },
    {
      "cell_type": "markdown",
      "metadata": {
        "id": "7mBJtMTWEdq8"
      },
      "source": [
        "# 7. Evaluation\n",
        "\n",
        "En la sección **Evaluation** calculamos métricas típicas de un poblema de clasificación binario: Accuracy y F1 Score.\n",
        "\n",
        "También graficamos la matriz de confusión utlizando la función de utilidad **plot_confusion_matrix()**.\n",
        "\n",
        "Finalmente, hacemos una pequeña evaluación visual de los inputs, los targets y las predicciones."
      ]
    },
    {
      "cell_type": "markdown",
      "metadata": {
        "id": "7eroxlSWPjch"
      },
      "source": [
        "**Explicación del Código**\n",
        "\n",
        "````\n",
        "Se calcula y presenta diversas métricas para evaluar el rendimiento de un modelo de clasificación binaria, usando los valores reales (targets) y las predicciones (predicted_classes).\n",
        "Calcula la precisión (accuracy), la puntuación F1 (f_score), precisión y recall individuales, y genera una matriz de confusión.\n",
        "Estas métricas son cruciales para entender cuán bien el modelo predice las clases correctas, balanceando entre la exactitud de las predicciones positivas (precisión) y la proporción de positivos reales correctamente identificados (recall).\n",
        "La matriz de confusión proporciona una vista detallada del rendimiento del modelo al mostrar los verdaderos y falsos positivos y negativos.\n",
        "````"
      ]
    },
    {
      "cell_type": "code",
      "execution_count": 37,
      "metadata": {
        "colab": {
          "base_uri": "https://localhost:8080/"
        },
        "id": "ejQLUp8UHt2G",
        "outputId": "80e9f4a8-1709-49da-b552-e3d651056838"
      },
      "outputs": [
        {
          "output_type": "stream",
          "name": "stdout",
          "text": [
            "Precisión del entrenamiento = 0.88854\n",
            "Puntuación F1 del entrenamiento = 0.885024034989994\n",
            "\n",
            "\n",
            "Precisión individual del entrenamiento = 0.9138511354437391\n",
            "Recall del entrenamiento = 0.85796\n",
            "\n",
            "\n",
            "Matriz de Confusión del entrenamiento:\n",
            "[[22978  2022]\n",
            " [ 3551 21449]]\n"
          ]
        }
      ],
      "source": [
        "### 5. Calcular accuracy y f1_score ###\n",
        "\n",
        "# Calcula la precisión (accuracy) y la puntuación F1 (f_score) utilizando los valores reales (targets) y las clases predichas (predicted_classes).\n",
        "# Utiliza accuracy_score() para calcular la precisión y f1_score() para calcular la puntuación F1.\n",
        "\n",
        "accuracy = accuracy_score(targets, predicted_classes)\n",
        "f_score = f1_score(targets, predicted_classes)\n",
        "\n",
        "# Calculando precisão, recall y matriz de confusión\n",
        "precision = precision_score(targets, predicted_classes, average='binary')\n",
        "recall = recall_score(targets, predicted_classes, average='binary')\n",
        "conf_mat = confusion_matrix(targets, predicted_classes)\n",
        "\n",
        "print(f\"Precisión del entrenamiento = {accuracy}\")\n",
        "print(f\"Puntuación F1 del entrenamiento = {f_score}\")\n",
        "print(\"\\n\")\n",
        "print(f\"Precisión individual del entrenamiento = {precision}\")\n",
        "print(f\"Recall del entrenamiento = {recall}\")\n",
        "print(\"\\n\")\n",
        "print(\"Matriz de Confusión del entrenamiento:\")\n",
        "print(conf_mat)\n"
      ]
    },
    {
      "cell_type": "markdown",
      "metadata": {
        "id": "ALceIGxYP-LF"
      },
      "source": [
        "**Explicación del Código**\n",
        "\n",
        "````\n",
        "Se genera un informe de clasificación utilizando las etiquetas reales (targets) y las clases predichas (outputs).\n",
        "Utiliza la función classification_report() de la biblioteca scikit-learn para calcular y mostrar métricas como precisión, recall, puntuación F1 y soporte para cada clase (en este caso, \"Negative\" y \"Positive\").\n",
        "El informe proporciona una evaluación detallada del rendimiento del modelo para cada clase en los datos de prueba.\n",
        "````"
      ]
    },
    {
      "cell_type": "code",
      "execution_count": 40,
      "metadata": {
        "colab": {
          "base_uri": "https://localhost:8080/"
        },
        "id": "JGYALx53QSPO",
        "outputId": "3a7a7eec-5405-4faa-94ac-daec7c891eab"
      },
      "outputs": [
        {
          "output_type": "stream",
          "name": "stdout",
          "text": [
            "              precision    recall  f1-score   support\n",
            "\n",
            "    Negative       0.87      0.92      0.89     25000\n",
            "    Positive       0.91      0.86      0.89     25000\n",
            "\n",
            "    accuracy                           0.89     50000\n",
            "   macro avg       0.89      0.89      0.89     50000\n",
            "weighted avg       0.89      0.89      0.89     50000\n",
            "\n"
          ]
        }
      ],
      "source": [
        "# classification report\n",
        "print(classification_report(targets, predicted_classes, target_names=[\"Negative\", \"Positive\"]))"
      ]
    },
    {
      "cell_type": "code",
      "source": [
        "report = classification_report(targets, predicted_classes, target_names=[\"Negative\", \"Positive\"], output_dict=True)\n",
        "df = pd.DataFrame(report).transpose()\n",
        "sns.heatmap(df.iloc[:-1, :].drop(columns=\"support\"), annot=True, cmap=\"Blues\", fmt=\".2f\")\n",
        "plt.title(\"Mapa de Calor del Informe de Clasificación\")\n",
        "plt.show()"
      ],
      "metadata": {
        "colab": {
          "base_uri": "https://localhost:8080/",
          "height": 453
        },
        "id": "zsnLISCaL16B",
        "outputId": "f82a21e8-cb13-4864-9503-a2bbe9943f25"
      },
      "execution_count": 47,
      "outputs": [
        {
          "output_type": "display_data",
          "data": {
            "text/plain": [
              "<Figure size 640x480 with 2 Axes>"
            ],
            "image/png": "[encoded data removed]"
          },
          "metadata": {}
        }
      ]
    },
    {
      "cell_type": "markdown",
      "metadata": {
        "id": "UF-9W-NJP_hr"
      },
      "source": [
        "**Explicación del Código**\n",
        "\n",
        "````\n",
        "Se calcula y muestra la matriz de confusión, que es una representación visual de las predicciones del modelo en comparación con las etiquetas reales.\n",
        "Utiliza las funciones confusion_matrix() y plot_confusion_matrix() para generar y mostrar la matriz respectivamente.\n",
        "La matriz se normaliza para resaltar las proporciones y mejorar la interpretación.\n",
        "````"
      ]
    },
    {
      "cell_type": "code",
      "execution_count": 41,
      "metadata": {
        "colab": {
          "base_uri": "https://localhost:8080/",
          "height": 632
        },
        "id": "DfHfKlYFHtzv",
        "outputId": "71efd439-80c5-4273-c472-15dcf7bb8689"
      },
      "outputs": [
        {
          "output_type": "display_data",
          "data": {
            "text/plain": [
              "<Figure size 800x600 with 2 Axes>"
            ],
            "image/png": "[encoded data removed]"
          },
          "metadata": {}
        }
      ],
      "source": [
        "# print the confusion matrix\n",
        "cnf_matrix = confusion_matrix(targets, predicted_classes, labels=[0, 1])\n",
        "plt.figure(figsize=(8,6))\n",
        "plot_confusion_matrix(\n",
        "    cnf_matrix,classes=['Negative','Positive'],\n",
        "    normalize=True,\n",
        "    title='Confusion matrix'\n",
        ")"
      ]
    },
    {
      "cell_type": "markdown",
      "metadata": {
        "id": "HCiZk1n7QA7g"
      },
      "source": [
        "**Explicación del Código**\n",
        "\n",
        "````\n",
        "En final, se realiza una evaluación visual mostrando una muestra de las primeras 20 revisiones limpiadas junto con sus etiquetas reales y las salidas del modelo.\n",
        "Utiliza un bucle for para iterar sobre las revisiones, las etiquetas reales (targets) y las salidas del modelo (outputs).\n",
        "Para cada iteración, imprime el texto de la revisión, su etiqueta real y la salida predicha por el modelo.\n",
        "Esto proporciona una forma rápida de inspeccionar visualmente cómo el modelo está clasificando las revisiones en comparación con las etiquetas reales.\n",
        "````"
      ]
    },
    {
      "cell_type": "code",
      "execution_count": 49,
      "metadata": {
        "colab": {
          "base_uri": "https://localhost:8080/"
        },
        "id": "wlwlH4rdQt5w",
        "outputId": "cae8d792-17f3-42e0-a81a-d5053c7a2ace"
      },
      "outputs": [
        {
          "output_type": "stream",
          "name": "stdout",
          "text": [
            "Text: one of the other reviewers has mentioned that after watching just oz episode you ll be hooked. they are right, as this is exactly what happened with me. br br the first thing that struck me about oz was its brutality and unflinching scenes of violence, which set in right from the word go. trust me, this is not a show for the faint hearted or timid. this show pulls no punches with regards to drugs, sex or violence. its is hardcore, in the classic use of the word. br br it is called oz as that is the nickname given to the oswald maximum security state penitentary. it focuses mainly on emerald city, an experimental section of the prison where all the cells have glass fronts and face inwards, so privacy is not high on the agenda. em city is home to many..aryans, muslims, gangstas, latinos, christians, italians, irish and more....so scuffles, death stares, dodgy dealings and shady agreements are never far away. br br i would say the main appeal of the show is due to the fact that it goes where other shows wouldn t dare. forget pretty pictures painted for mainstream audiences, forget charm, forget romance...oz doesn t mess around. the first episode i ever saw struck me as so nasty it was surreal, i couldn t say i was ready for it, but as i watched more, i developed a taste for oz, and got accustomed to the high levels of graphic violence. not just violence, but injustice crooked guards who ll be sold out for a nickel, inmates who ll kill on order and get away with it, well mannered, middle class inmates being turned into prison bitches due to their lack of street skills or prison experience watching oz, you may become comfortable with what is uncomfortable viewing....thats if you can get in touch with your darker side.\n",
            "Target: 1\tOutput: 0\n",
            "\n",
            "Text: a wonderful little production. br br the filming technique is very unassuming very old time bbc fashion and gives a comforting, and sometimes discomforting, sense of realism to the entire piece. br br the actors are extremely well chosen michael sheen not only has got all the polari but he has all the voices down pat too you can truly see the seamless editing guided by the references to williams diary entries, not only is it well worth the watching but it is a terrificly written and performed piece. a masterful production about one of the great master s of comedy and his life. br br the realism really comes home with the little things the fantasy of the guard which, rather than use the traditional dream techniques remains solid then disappears. it plays on our knowledge and our senses, particularly with the scenes concerning orton and halliwell and the sets particularly of their flat with halliwell s murals decorating every surface are terribly well done.\n",
            "Target: 1\tOutput: 1\n",
            "\n",
            "Text: i thought this was a wonderful way to spend time on a too hot summer weekend, sitting in the air conditioned theater and watching a light hearted comedy. the plot is simplistic, but the dialogue is witty and the characters are likable even the well bread suspected serial killer . while some may be disappointed when they realize this is not match point risk addiction, i thought it was proof that woody allen is still fully in control of the style many of us have grown to love. br br this was the most i d laughed at one of woody s comedies in years dare i say a decade . while i ve never been impressed with scarlet johanson, in this she managed to tone down her sexy image and jumped right into a average, but spirited young woman. br br this may not be the crown jewel of his career, but it was wittier than devil wears prada and more interesting than superman a great comedy to go see with friends.\n",
            "Target: 1\tOutput: 1\n",
            "\n",
            "Text: basically there s a family where a little boy jake thinks there s a zombie in his closet his parents are fighting all the time. br br this movie is slower than a soap opera... and suddenly, jake decides to become rambo and kill the zombie. br br ok, first of all when you re going to make a film you must decide if its a thriller or a drama as a drama the movie is watchable. parents are divorcing arguing like in real life. and then we have jake with his closet which totally ruins all the film i expected to see a boogeyman similar movie, and instead i watched a drama with some meaningless thriller spots. br br out of just for the well playing parents descent dialogs. as for the shots with jake just ignore them.\n",
            "Target: 0\tOutput: 0\n",
            "\n",
            "Text: petter mattei s love in the time of money is a visually stunning film to watch. mr. mattei offers us a vivid portrait about human relations. this is a movie that seems to be telling us what money, power and success do to people in the different situations we encounter. br br this being a variation on the arthur schnitzler s play about the same theme, the director transfers the action to the present time new york where all these different characters meet and connect. each one is connected in one way, or another to the next person, but no one seems to know the previous point of contact. stylishly, the film has a sophisticated luxurious look. we are taken to see how these people live and the world they live in their own habitat. br br the only thing one gets out of all these souls in the picture is the different stages of loneliness each one inhabits. a big city is not exactly the best place in which human relations find sincere fulfillment, as one discerns is the case with most of the people we encounter. br br the acting is good under mr. mattei s direction. steve buscemi, rosario dawson, carol kane, michael imperioli, adrian grenier, and the rest of the talented cast, make these characters come alive. br br we wish mr. mattei good luck and await anxiously for his next work.\n",
            "Target: 1\tOutput: 1\n",
            "\n",
            "Text: probably my all time favorite movie, a story of selflessness, sacrifice and dedication to a noble cause, but it s not preachy or boring. it just never gets old, despite my having seen it some or more times in the last years. paul lukas performance brings tears to my eyes, and bette davis, in one of her very few truly sympathetic roles, is a delight. the kids are, as grandma says, more like dressed up midgets than children, but that only makes them more fun to watch. and the mother s slow awakening to what s happening in the world and under her own roof is believable and startling. if i had a dozen thumbs, they d all be up for this movie.\n",
            "Target: 1\tOutput: 1\n",
            "\n",
            "Text: i sure would like to see a resurrection of a up dated seahunt series with the tech they have today it would bring back the kid excitement in me.i grew up on black and white tv and seahunt with gunsmoke were my hero s every week.you have my vote for a comeback of a new sea hunt.we need a change of pace in tv and this would work for a world of under water adventure.oh by the way thank you for an outlet like this to view many viewpoints about tv and the many movies.so any ole way i believe i ve got what i wanna say.would be nice to read some more plus points about sea hunt.if my rhymes would be lines would you let me submit,or leave me out to be in doubt and have me to quit,if this is so then i must go so lets do it.\n",
            "Target: 1\tOutput: 1\n",
            "\n",
            "Text: this show was an amazing, fresh innovative idea in the s when it first aired. the first or years were brilliant, but things dropped off after that. by , the show was not really funny anymore, and it s continued its decline further to the complete waste of time it is today. br br it s truly disgraceful how far this show has fallen. the writing is painfully bad, the performances are almost as bad if not for the mildly entertaining respite of the guest hosts, this show probably wouldn t still be on the air. i find it so hard to believe that the same creator that hand selected the original cast also chose the band of hacks that followed. how can one recognize such brilliance and then see fit to replace it with such mediocrity i felt i must give stars out of respect for the original cast that made this show such a huge success. as it is now, the show is just awful. i can t believe it s still on the air.\n",
            "Target: 0\tOutput: 0\n",
            "\n",
            "Text: encouraged by the positive comments about this film on here i was looking forward to watching this film. bad mistake. i ve seen films and this is truly one of the worst of them it s awful in almost every way editing, pacing, storyline, acting, soundtrack the film s only song a lame country tune is played no less than four times . the film looks cheap and nasty and is boring in the extreme. rarely have i been so happy to see the end credits of a film. br br the only thing that prevents me giving this a score is harvey keitel while this is far from his best performance he at least seems to be making a bit of an effort. one for keitel obsessives only.\n",
            "Target: 0\tOutput: 0\n",
            "\n",
            "Text: if you like original gut wrenching laughter you will like this movie. if you are young or old then you will love this movie, hell even my mom liked it. br br great camp \n",
            "Target: 1\tOutput: 1\n",
            "\n",
            "Text: phil the alien is one of those quirky films where the humour is based around the oddness of everything rather than actual punchlines. br br at first it was very odd and pretty funny but as the movie progressed i didn t find the jokes or oddness funny anymore. br br its a low budget film thats never a problem in itself , there were some pretty interesting characters, but eventually i just lost interest. br br i imagine this film would appeal to a stoner who is currently partaking. br br for something similar but better try brother from another planet \n",
            "Target: 0\tOutput: 0\n",
            "\n",
            "Text: i saw this movie when i was about when it came out. i recall the scariest scene was the big bird eating men dangling helplessly from parachutes right out of the air. the horror. the horror. br br as a young kid going to these cheesy b films on saturday afternoons, i still was tired of the formula for these monster type movies that usually included the hero, a beautiful woman who might be the daughter of a professor and a happy resolution when the monster died in the end. i didn t care much for the romantic angle as a year old and the predictable plots. i love them now for the unintentional humor. br br but, about a year or so later, i saw psycho when it came out and i loved that the star, janet leigh, was bumped off early in the film. i sat up and took notice at that point. since screenwriters are making up the story, make it up to be as scary as possible and not from a well worn formula. there are no rules.\n",
            "Target: 0\tOutput: 1\n",
            "\n",
            "Text: so im not a big fan of boll s work but then again not many are. i enjoyed his movie postal maybe im the only one . boll apparently bought the rights to use far cry long ago even before the game itself was even finsished. br br people who have enjoyed killing mercs and infiltrating secret research labs located on a tropical island should be warned, that this is not far cry... this is something mr boll have schemed together along with his legion of schmucks.. feeling loneley on the set mr boll invites three of his countrymen to play with. these players go by the names of til schweiger, udo kier and ralf moeller. br br three names that actually have made them selfs pretty big in the movie biz. so the tale goes like this, jack carver played by til schweiger yes carver is german all hail the bratwurst eating dudes however i find that tils acting in this movie is pretty badass.. people have complained about how he s not really staying true to the whole carver agenda but we only saw carver in a first person perspective so we don t really know what he looked like when he was kicking a .. br br however, the storyline in this film is beyond demented. we see the evil mad scientist dr. krieger played by udo kier, making genetically mutated soldiers or gms as they are called. performing his top secret research on an island that reminds me of spoiler vancouver for some reason. thats right no palm trees here. instead we got some nice rich lumberjack woods. we haven t even gone far before i started to cry mehehe i cannot go on any more.. if you wanna stay true to bolls shenanigans then go and see this movie you will not be disappointed it delivers the true boll experience, meaning most of it will suck. br br there are some things worth mentioning that would imply that boll did a good work on some areas of the film such as some nice boat and fighting scenes. until the whole cromed albino gms squad enters the scene and everything just makes me laugh.. the movie far cry reeks of scheisse that s poop for you simpletons from a fa,r if you wanna take a wiff go ahead.. btw carver gets a very annoying sidekick who makes you wanna shoot him the first three minutes he s on screen.\n",
            "Target: 0\tOutput: 0\n",
            "\n",
            "Text: the cast played shakespeare. br br shakespeare lost. br br i appreciate that this is trying to bring shakespeare to the masses, but why ruin something so good. br br is it because the scottish play is my favorite shakespeare i do not know. what i do know is that a certain rev bowdler hence bowdlerization tried to do something similar in the victorian era. br br in other words, you cannot improve perfection. br br i have no more to write but as i have to write at least ten lines of text and english composition was never my forte i will just have to keep going and say that this movie, as the saying goes, just does not cut it.\n",
            "Target: 0\tOutput: 0\n",
            "\n",
            "Text: this a fantastic movie of three prisoners who become famous. one of the actors is george clooney and i m not a fan but this roll is not bad. another good thing about the movie is the soundtrack the man of constant sorrow . i recommand this movie to everybody. greetings bart\n",
            "Target: 1\tOutput: 1\n",
            "\n",
            "Text: kind of drawn in by the erotic scenes, only to realize this was one of the most amateurish and unbelievable bits of film i ve ever seen. sort of like a high school film project. what was rosanna arquette thinking and what was with all those stock characters in that bizarre supposed midwest town pretty hard to get involved with this one. no lessons to be learned from it, no brilliant insights, just stilted and quite ridiculous but lots of skin, if that intrigues you videotaped nonsense....what was with the bisexual relationship, out of nowhere, after all the heterosexual encounters. and what was with that absurd dance, with everybody playing their stereotyped roles give this one a pass, it s like a million other miles of bad, wasted film, money that could have been spent on starving children or aids in africa.....\n",
            "Target: 0\tOutput: 0\n",
            "\n",
            "Text: some films just simply should not be remade. this is one of them. in and of itself it is not a bad film. but it fails to capture the flavor and the terror of the film of the same title. liam neeson was excellent as he always is, and most of the cast holds up, with the exception of owen wilson, who just did not bring the right feel to the character of luke. but the major fault with this version is that it strayed too far from the shirley jackson story in it s attempts to be grandiose and lost some of the thrill of the earlier film in a trade off for snazzier special effects. again i will say that in and of itself it is not a bad film. but you will enjoy the friction of terror in the older version much more.\n",
            "Target: 1\tOutput: 0\n",
            "\n",
            "Text: this movie made it into one of my top most awful movies. horrible. br br there wasn t a continuous minute where there wasn t a fight with one monster or another. there was no chance for any character development, they were too busy running from one sword fight to another. i had no emotional attachment except to the big bad machine that wanted to destroy them br br scenes were blatantly stolen from other movies, lotr, star wars and matrix. br br examples br br the ghost scene at the end was stolen from the final scene of the old star wars with yoda, obee one and vader. br br the spider machine in the beginning was exactly like frodo being attacked by the spider in return of the kings. elijah wood is the victim in both films and wait......it hypnotizes stings its victim and wraps them up.....uh hello br br and the whole machine vs. humans theme was the matrix..or terminator..... br br there are more examples but why waste the time and will someone tell me what was with the nazi s nazi s br br there was a juvenile story line rushed to a juvenile conclusion. the movie could not decide if it was a children s movie or an adult movie and wasn t much of either. br br just awful. a real disappointment to say the least. save your money.\n",
            "Target: 0\tOutput: 0\n",
            "\n",
            "Text: i remember this film,it was the first film i had watched at the cinema the picture was dark in places i was very nervous it was back in my dad took me my brother sister to newbury cinema in newbury berkshire england. i recall the tigers and the lots of snow in the film also the appearance of grizzly adams actor dan haggery i think one of the tigers gets shot and dies. if anyone knows where to find this on dvd etc please let me know.the cinema now has been turned in a fitness club which is a very big shame as the nearest cinema now is miles away, would love to hear from others who have seen this film or any other like it.\n",
            "Target: 1\tOutput: 0\n",
            "\n",
            "Text: an awful film it must have been up against some real stinkers to be nominated for the golden globe. they ve taken the story of the first famous female renaissance painter and mangled it beyond recognition. my complaint is not that they ve taken liberties with the facts if the story were good, that would perfectly fine. but it s simply bizarre by all accounts the true story of this artist would have made for a far better film, so why did they come up with this dishwater dull script i suppose there weren t enough naked people in the factual version. it s hurriedly capped off in the end with a summary of the artist s life we could have saved ourselves a couple of hours if they d favored the rest of the film with same brevity.\n",
            "Target: 0\tOutput: 0\n",
            "\n"
          ]
        }
      ],
      "source": [
        "#visual evalution\n",
        "for review, target, output in zip(cleaned_data.review.values[:20], targets, predicted_classes):\n",
        "  print(f\"Text: {review}\")\n",
        "  print(f\"Target: {target}\\tOutput: {output}\\n\")"
      ]
    },
    {
      "cell_type": "markdown",
      "metadata": {
        "id": "PiCLHHuxw07M"
      },
      "source": [
        "# 8. Preguntas\n",
        "\n",
        "8.1. La función **text_cleaning** se utiliza para limpiar el texto de caracteres, puntuación, etc. que añaden ruido a los datos y dificultan el aprendizaje. ¿Cuál crees que ha sido el proceso para identificar los requerimientos de limpieza de los datos y que se ven reflejados es esta función?\n",
        "¿Crees que se podría mejorar esta función?"
      ]
    },
    {
      "cell_type": "markdown",
      "metadata": {
        "id": "f3yuLBnlw75T"
      },
      "source": [
        "**< Respuesta >**\n",
        "\n",
        "````\n",
        "....\n",
        "````"
      ]
    },
    {
      "cell_type": "markdown",
      "metadata": {
        "id": "e2J6wcluw-Fn"
      },
      "source": [
        "8.2. En la plantilla, ¿Cuál es el propósito de la siguiente línea de código?\n",
        "\n",
        "**model.to(DEVICE)**"
      ]
    },
    {
      "cell_type": "markdown",
      "metadata": {
        "id": "NZJD9rtdw_Ns"
      },
      "source": [
        "**< Respuesta >**\n",
        "\n",
        "````\n",
        "...\n",
        "````"
      ]
    }
  ],
  "metadata": {
    "accelerator": "GPU",
    "colab": {
      "gpuType": "T4",
      "provenance": [],
      "include_colab_link": true
    },
    "kernelspec": {
      "display_name": "Python 3",
      "name": "python3"
    },
    "language_info": {
      "name": "python"
    },
    "widgets": {
      "application/vnd.jupyter.widget-state+json": {
        "35e1b5d79bf64038959cbdf1fdf14ac1": {
          "model_module": "@jupyter-widgets/controls",
          "model_name": "HBoxModel",
          "model_module_version": "1.5.0",
          "state": {
            "_dom_classes": [],
            "_model_module": "@jupyter-widgets/controls",
            "_model_module_version": "1.5.0",
            "_model_name": "HBoxModel",
            "_view_count": null,
            "_view_module": "@jupyter-widgets/controls",
            "_view_module_version": "1.5.0",
            "_view_name": "HBoxView",
            "box_style": "",
            "children": [
              "IPY_MODEL_4e1fb57c4f5644d785b8fc9f260a6f90",
              "IPY_MODEL_0b3fdbe8469a45e1baffb0c1f13b3da0",
              "IPY_MODEL_62ac985745b049ec80407dd0a0d52b1d"
            ],
            "layout": "IPY_MODEL_57bdad5df7424f39a2fd185b755d2d57"
          }
        },
        "4e1fb57c4f5644d785b8fc9f260a6f90": {
          "model_module": "@jupyter-widgets/controls",
          "model_name": "HTMLModel",
          "model_module_version": "1.5.0",
          "state": {
            "_dom_classes": [],
            "_model_module": "@jupyter-widgets/controls",
            "_model_module_version": "1.5.0",
            "_model_name": "HTMLModel",
            "_view_count": null,
            "_view_module": "@jupyter-widgets/controls",
            "_view_module_version": "1.5.0",
            "_view_name": "HTMLView",
            "description": "",
            "description_tooltip": null,
            "layout": "IPY_MODEL_42ebb8d1ff3e44139b0fde938b5a80ca",
            "placeholder": "​",
            "style": "IPY_MODEL_7a3049968726410e93d12733184a4d9a",
            "value": "tokenizer_config.json: 100%"
          }
        },
        "0b3fdbe8469a45e1baffb0c1f13b3da0": {
          "model_module": "@jupyter-widgets/controls",
          "model_name": "FloatProgressModel",
          "model_module_version": "1.5.0",
          "state": {
            "_dom_classes": [],
            "_model_module": "@jupyter-widgets/controls",
            "_model_module_version": "1.5.0",
            "_model_name": "FloatProgressModel",
            "_view_count": null,
            "_view_module": "@jupyter-widgets/controls",
            "_view_module_version": "1.5.0",
            "_view_name": "ProgressView",
            "bar_style": "success",
            "description": "",
            "description_tooltip": null,
            "layout": "IPY_MODEL_41973d0e712f40db9c83190ea78a2c34",
            "max": 48,
            "min": 0,
            "orientation": "horizontal",
            "style": "IPY_MODEL_3803912ee9cf474da1714370b509c1b6",
            "value": 48
          }
        },
        "62ac985745b049ec80407dd0a0d52b1d": {
          "model_module": "@jupyter-widgets/controls",
          "model_name": "HTMLModel",
          "model_module_version": "1.5.0",
          "state": {
            "_dom_classes": [],
            "_model_module": "@jupyter-widgets/controls",
            "_model_module_version": "1.5.0",
            "_model_name": "HTMLModel",
            "_view_count": null,
            "_view_module": "@jupyter-widgets/controls",
            "_view_module_version": "1.5.0",
            "_view_name": "HTMLView",
            "description": "",
            "description_tooltip": null,
            "layout": "IPY_MODEL_0bd2f435b1434799b08270fe374b7f7f",
            "placeholder": "​",
            "style": "IPY_MODEL_5a98b79d7f6d4026af6032171b9fd809",
            "value": " 48.0/48.0 [00:00&lt;00:00, 2.55kB/s]"
          }
        },
        "57bdad5df7424f39a2fd185b755d2d57": {
          "model_module": "@jupyter-widgets/base",
          "model_name": "LayoutModel",
          "model_module_version": "1.2.0",
          "state": {
            "_model_module": "@jupyter-widgets/base",
            "_model_module_version": "1.2.0",
            "_model_name": "LayoutModel",
            "_view_count": null,
            "_view_module": "@jupyter-widgets/base",
            "_view_module_version": "1.2.0",
            "_view_name": "LayoutView",
            "align_content": null,
            "align_items": null,
            "align_self": null,
            "border": null,
            "bottom": null,
            "display": null,
            "flex": null,
            "flex_flow": null,
            "grid_area": null,
            "grid_auto_columns": null,
            "grid_auto_flow": null,
            "grid_auto_rows": null,
            "grid_column": null,
            "grid_gap": null,
            "grid_row": null,
            "grid_template_areas": null,
            "grid_template_columns": null,
            "grid_template_rows": null,
            "height": null,
            "justify_content": null,
            "justify_items": null,
            "left": null,
            "margin": null,
            "max_height": null,
            "max_width": null,
            "min_height": null,
            "min_width": null,
            "object_fit": null,
            "object_position": null,
            "order": null,
            "overflow": null,
            "overflow_x": null,
            "overflow_y": null,
            "padding": null,
            "right": null,
            "top": null,
            "visibility": null,
            "width": null
          }
        },
        "42ebb8d1ff3e44139b0fde938b5a80ca": {
          "model_module": "@jupyter-widgets/base",
          "model_name": "LayoutModel",
          "model_module_version": "1.2.0",
          "state": {
            "_model_module": "@jupyter-widgets/base",
            "_model_module_version": "1.2.0",
            "_model_name": "LayoutModel",
            "_view_count": null,
            "_view_module": "@jupyter-widgets/base",
            "_view_module_version": "1.2.0",
            "_view_name": "LayoutView",
            "align_content": null,
            "align_items": null,
            "align_self": null,
            "border": null,
            "bottom": null,
            "display": null,
            "flex": null,
            "flex_flow": null,
            "grid_area": null,
            "grid_auto_columns": null,
            "grid_auto_flow": null,
            "grid_auto_rows": null,
            "grid_column": null,
            "grid_gap": null,
            "grid_row": null,
            "grid_template_areas": null,
            "grid_template_columns": null,
            "grid_template_rows": null,
            "height": null,
            "justify_content": null,
            "justify_items": null,
            "left": null,
            "margin": null,
            "max_height": null,
            "max_width": null,
            "min_height": null,
            "min_width": null,
            "object_fit": null,
            "object_position": null,
            "order": null,
            "overflow": null,
            "overflow_x": null,
            "overflow_y": null,
            "padding": null,
            "right": null,
            "top": null,
            "visibility": null,
            "width": null
          }
        },
        "7a3049968726410e93d12733184a4d9a": {
          "model_module": "@jupyter-widgets/controls",
          "model_name": "DescriptionStyleModel",
          "model_module_version": "1.5.0",
          "state": {
            "_model_module": "@jupyter-widgets/controls",
            "_model_module_version": "1.5.0",
            "_model_name": "DescriptionStyleModel",
            "_view_count": null,
            "_view_module": "@jupyter-widgets/base",
            "_view_module_version": "1.2.0",
            "_view_name": "StyleView",
            "description_width": ""
          }
        },
        "41973d0e712f40db9c83190ea78a2c34": {
          "model_module": "@jupyter-widgets/base",
          "model_name": "LayoutModel",
          "model_module_version": "1.2.0",
          "state": {
            "_model_module": "@jupyter-widgets/base",
            "_model_module_version": "1.2.0",
            "_model_name": "LayoutModel",
            "_view_count": null,
            "_view_module": "@jupyter-widgets/base",
            "_view_module_version": "1.2.0",
            "_view_name": "LayoutView",
            "align_content": null,
            "align_items": null,
            "align_self": null,
            "border": null,
            "bottom": null,
            "display": null,
            "flex": null,
            "flex_flow": null,
            "grid_area": null,
            "grid_auto_columns": null,
            "grid_auto_flow": null,
            "grid_auto_rows": null,
            "grid_column": null,
            "grid_gap": null,
            "grid_row": null,
            "grid_template_areas": null,
            "grid_template_columns": null,
            "grid_template_rows": null,
            "height": null,
            "justify_content": null,
            "justify_items": null,
            "left": null,
            "margin": null,
            "max_height": null,
            "max_width": null,
            "min_height": null,
            "min_width": null,
            "object_fit": null,
            "object_position": null,
            "order": null,
            "overflow": null,
            "overflow_x": null,
            "overflow_y": null,
            "padding": null,
            "right": null,
            "top": null,
            "visibility": null,
            "width": null
          }
        },
        "3803912ee9cf474da1714370b509c1b6": {
          "model_module": "@jupyter-widgets/controls",
          "model_name": "ProgressStyleModel",
          "model_module_version": "1.5.0",
          "state": {
            "_model_module": "@jupyter-widgets/controls",
            "_model_module_version": "1.5.0",
            "_model_name": "ProgressStyleModel",
            "_view_count": null,
            "_view_module": "@jupyter-widgets/base",
            "_view_module_version": "1.2.0",
            "_view_name": "StyleView",
            "bar_color": null,
            "description_width": ""
          }
        },
        "0bd2f435b1434799b08270fe374b7f7f": {
          "model_module": "@jupyter-widgets/base",
          "model_name": "LayoutModel",
          "model_module_version": "1.2.0",
          "state": {
            "_model_module": "@jupyter-widgets/base",
            "_model_module_version": "1.2.0",
            "_model_name": "LayoutModel",
            "_view_count": null,
            "_view_module": "@jupyter-widgets/base",
            "_view_module_version": "1.2.0",
            "_view_name": "LayoutView",
            "align_content": null,
            "align_items": null,
            "align_self": null,
            "border": null,
            "bottom": null,
            "display": null,
            "flex": null,
            "flex_flow": null,
            "grid_area": null,
            "grid_auto_columns": null,
            "grid_auto_flow": null,
            "grid_auto_rows": null,
            "grid_column": null,
            "grid_gap": null,
            "grid_row": null,
            "grid_template_areas": null,
            "grid_template_columns": null,
            "grid_template_rows": null,
            "height": null,
            "justify_content": null,
            "justify_items": null,
            "left": null,
            "margin": null,
            "max_height": null,
            "max_width": null,
            "min_height": null,
            "min_width": null,
            "object_fit": null,
            "object_position": null,
            "order": null,
            "overflow": null,
            "overflow_x": null,
            "overflow_y": null,
            "padding": null,
            "right": null,
            "top": null,
            "visibility": null,
            "width": null
          }
        },
        "5a98b79d7f6d4026af6032171b9fd809": {
          "model_module": "@jupyter-widgets/controls",
          "model_name": "DescriptionStyleModel",
          "model_module_version": "1.5.0",
          "state": {
            "_model_module": "@jupyter-widgets/controls",
            "_model_module_version": "1.5.0",
            "_model_name": "DescriptionStyleModel",
            "_view_count": null,
            "_view_module": "@jupyter-widgets/base",
            "_view_module_version": "1.2.0",
            "_view_name": "StyleView",
            "description_width": ""
          }
        },
        "3effa0b499da45bbaf096b67dbd79739": {
          "model_module": "@jupyter-widgets/controls",
          "model_name": "HBoxModel",
          "model_module_version": "1.5.0",
          "state": {
            "_dom_classes": [],
            "_model_module": "@jupyter-widgets/controls",
            "_model_module_version": "1.5.0",
            "_model_name": "HBoxModel",
            "_view_count": null,
            "_view_module": "@jupyter-widgets/controls",
            "_view_module_version": "1.5.0",
            "_view_name": "HBoxView",
            "box_style": "",
            "children": [
              "IPY_MODEL_e2825baf1fed4ffabfec5c76f4f07447",
              "IPY_MODEL_479cd0ff50064ffeb528bbd75ce0bb9b",
              "IPY_MODEL_11aee80f45b34bfbba2d8787a8a6e61d"
            ],
            "layout": "IPY_MODEL_98df5d6d2cd344e18e145a02c257a288"
          }
        },
        "e2825baf1fed4ffabfec5c76f4f07447": {
          "model_module": "@jupyter-widgets/controls",
          "model_name": "HTMLModel",
          "model_module_version": "1.5.0",
          "state": {
            "_dom_classes": [],
            "_model_module": "@jupyter-widgets/controls",
            "_model_module_version": "1.5.0",
            "_model_name": "HTMLModel",
            "_view_count": null,
            "_view_module": "@jupyter-widgets/controls",
            "_view_module_version": "1.5.0",
            "_view_name": "HTMLView",
            "description": "",
            "description_tooltip": null,
            "layout": "IPY_MODEL_11d8d1975d124bb7a8c70d4ac415b9dc",
            "placeholder": "​",
            "style": "IPY_MODEL_c3a8b867bdd64a7ea6f059ed9067e4de",
            "value": "config.json: 100%"
          }
        },
        "479cd0ff50064ffeb528bbd75ce0bb9b": {
          "model_module": "@jupyter-widgets/controls",
          "model_name": "FloatProgressModel",
          "model_module_version": "1.5.0",
          "state": {
            "_dom_classes": [],
            "_model_module": "@jupyter-widgets/controls",
            "_model_module_version": "1.5.0",
            "_model_name": "FloatProgressModel",
            "_view_count": null,
            "_view_module": "@jupyter-widgets/controls",
            "_view_module_version": "1.5.0",
            "_view_name": "ProgressView",
            "bar_style": "success",
            "description": "",
            "description_tooltip": null,
            "layout": "IPY_MODEL_98afa32f483641688edab2572998d0ba",
            "max": 629,
            "min": 0,
            "orientation": "horizontal",
            "style": "IPY_MODEL_6445e340231c461db1c3c2cce8236f7c",
            "value": 629
          }
        },
        "11aee80f45b34bfbba2d8787a8a6e61d": {
          "model_module": "@jupyter-widgets/controls",
          "model_name": "HTMLModel",
          "model_module_version": "1.5.0",
          "state": {
            "_dom_classes": [],
            "_model_module": "@jupyter-widgets/controls",
            "_model_module_version": "1.5.0",
            "_model_name": "HTMLModel",
            "_view_count": null,
            "_view_module": "@jupyter-widgets/controls",
            "_view_module_version": "1.5.0",
            "_view_name": "HTMLView",
            "description": "",
            "description_tooltip": null,
            "layout": "IPY_MODEL_c4de2b0edfd443c884a2ae40c8aa404e",
            "placeholder": "​",
            "style": "IPY_MODEL_4acaaefc9a7c47e3a5b9da33c739eec8",
            "value": " 629/629 [00:00&lt;00:00, 26.1kB/s]"
          }
        },
        "98df5d6d2cd344e18e145a02c257a288": {
          "model_module": "@jupyter-widgets/base",
          "model_name": "LayoutModel",
          "model_module_version": "1.2.0",
          "state": {
            "_model_module": "@jupyter-widgets/base",
            "_model_module_version": "1.2.0",
            "_model_name": "LayoutModel",
            "_view_count": null,
            "_view_module": "@jupyter-widgets/base",
            "_view_module_version": "1.2.0",
            "_view_name": "LayoutView",
            "align_content": null,
            "align_items": null,
            "align_self": null,
            "border": null,
            "bottom": null,
            "display": null,
            "flex": null,
            "flex_flow": null,
            "grid_area": null,
            "grid_auto_columns": null,
            "grid_auto_flow": null,
            "grid_auto_rows": null,
            "grid_column": null,
            "grid_gap": null,
            "grid_row": null,
            "grid_template_areas": null,
            "grid_template_columns": null,
            "grid_template_rows": null,
            "height": null,
            "justify_content": null,
            "justify_items": null,
            "left": null,
            "margin": null,
            "max_height": null,
            "max_width": null,
            "min_height": null,
            "min_width": null,
            "object_fit": null,
            "object_position": null,
            "order": null,
            "overflow": null,
            "overflow_x": null,
            "overflow_y": null,
            "padding": null,
            "right": null,
            "top": null,
            "visibility": null,
            "width": null
          }
        },
        "11d8d1975d124bb7a8c70d4ac415b9dc": {
          "model_module": "@jupyter-widgets/base",
          "model_name": "LayoutModel",
          "model_module_version": "1.2.0",
          "state": {
            "_model_module": "@jupyter-widgets/base",
            "_model_module_version": "1.2.0",
            "_model_name": "LayoutModel",
            "_view_count": null,
            "_view_module": "@jupyter-widgets/base",
            "_view_module_version": "1.2.0",
            "_view_name": "LayoutView",
            "align_content": null,
            "align_items": null,
            "align_self": null,
            "border": null,
            "bottom": null,
            "display": null,
            "flex": null,
            "flex_flow": null,
            "grid_area": null,
            "grid_auto_columns": null,
            "grid_auto_flow": null,
            "grid_auto_rows": null,
            "grid_column": null,
            "grid_gap": null,
            "grid_row": null,
            "grid_template_areas": null,
            "grid_template_columns": null,
            "grid_template_rows": null,
            "height": null,
            "justify_content": null,
            "justify_items": null,
            "left": null,
            "margin": null,
            "max_height": null,
            "max_width": null,
            "min_height": null,
            "min_width": null,
            "object_fit": null,
            "object_position": null,
            "order": null,
            "overflow": null,
            "overflow_x": null,
            "overflow_y": null,
            "padding": null,
            "right": null,
            "top": null,
            "visibility": null,
            "width": null
          }
        },
        "c3a8b867bdd64a7ea6f059ed9067e4de": {
          "model_module": "@jupyter-widgets/controls",
          "model_name": "DescriptionStyleModel",
          "model_module_version": "1.5.0",
          "state": {
            "_model_module": "@jupyter-widgets/controls",
            "_model_module_version": "1.5.0",
            "_model_name": "DescriptionStyleModel",
            "_view_count": null,
            "_view_module": "@jupyter-widgets/base",
            "_view_module_version": "1.2.0",
            "_view_name": "StyleView",
            "description_width": ""
          }
        },
        "98afa32f483641688edab2572998d0ba": {
          "model_module": "@jupyter-widgets/base",
          "model_name": "LayoutModel",
          "model_module_version": "1.2.0",
          "state": {
            "_model_module": "@jupyter-widgets/base",
            "_model_module_version": "1.2.0",
            "_model_name": "LayoutModel",
            "_view_count": null,
            "_view_module": "@jupyter-widgets/base",
            "_view_module_version": "1.2.0",
            "_view_name": "LayoutView",
            "align_content": null,
            "align_items": null,
            "align_self": null,
            "border": null,
            "bottom": null,
            "display": null,
            "flex": null,
            "flex_flow": null,
            "grid_area": null,
            "grid_auto_columns": null,
            "grid_auto_flow": null,
            "grid_auto_rows": null,
            "grid_column": null,
            "grid_gap": null,
            "grid_row": null,
            "grid_template_areas": null,
            "grid_template_columns": null,
            "grid_template_rows": null,
            "height": null,
            "justify_content": null,
            "justify_items": null,
            "left": null,
            "margin": null,
            "max_height": null,
            "max_width": null,
            "min_height": null,
            "min_width": null,
            "object_fit": null,
            "object_position": null,
            "order": null,
            "overflow": null,
            "overflow_x": null,
            "overflow_y": null,
            "padding": null,
            "right": null,
            "top": null,
            "visibility": null,
            "width": null
          }
        },
        "6445e340231c461db1c3c2cce8236f7c": {
          "model_module": "@jupyter-widgets/controls",
          "model_name": "ProgressStyleModel",
          "model_module_version": "1.5.0",
          "state": {
            "_model_module": "@jupyter-widgets/controls",
            "_model_module_version": "1.5.0",
            "_model_name": "ProgressStyleModel",
            "_view_count": null,
            "_view_module": "@jupyter-widgets/base",
            "_view_module_version": "1.2.0",
            "_view_name": "StyleView",
            "bar_color": null,
            "description_width": ""
          }
        },
        "c4de2b0edfd443c884a2ae40c8aa404e": {
          "model_module": "@jupyter-widgets/base",
          "model_name": "LayoutModel",
          "model_module_version": "1.2.0",
          "state": {
            "_model_module": "@jupyter-widgets/base",
            "_model_module_version": "1.2.0",
            "_model_name": "LayoutModel",
            "_view_count": null,
            "_view_module": "@jupyter-widgets/base",
            "_view_module_version": "1.2.0",
            "_view_name": "LayoutView",
            "align_content": null,
            "align_items": null,
            "align_self": null,
            "border": null,
            "bottom": null,
            "display": null,
            "flex": null,
            "flex_flow": null,
            "grid_area": null,
            "grid_auto_columns": null,
            "grid_auto_flow": null,
            "grid_auto_rows": null,
            "grid_column": null,
            "grid_gap": null,
            "grid_row": null,
            "grid_template_areas": null,
            "grid_template_columns": null,
            "grid_template_rows": null,
            "height": null,
            "justify_content": null,
            "justify_items": null,
            "left": null,
            "margin": null,
            "max_height": null,
            "max_width": null,
            "min_height": null,
            "min_width": null,
            "object_fit": null,
            "object_position": null,
            "order": null,
            "overflow": null,
            "overflow_x": null,
            "overflow_y": null,
            "padding": null,
            "right": null,
            "top": null,
            "visibility": null,
            "width": null
          }
        },
        "4acaaefc9a7c47e3a5b9da33c739eec8": {
          "model_module": "@jupyter-widgets/controls",
          "model_name": "DescriptionStyleModel",
          "model_module_version": "1.5.0",
          "state": {
            "_model_module": "@jupyter-widgets/controls",
            "_model_module_version": "1.5.0",
            "_model_name": "DescriptionStyleModel",
            "_view_count": null,
            "_view_module": "@jupyter-widgets/base",
            "_view_module_version": "1.2.0",
            "_view_name": "StyleView",
            "description_width": ""
          }
        },
        "049bbf5c1570455299fd76dc8a8fc704": {
          "model_module": "@jupyter-widgets/controls",
          "model_name": "HBoxModel",
          "model_module_version": "1.5.0",
          "state": {
            "_dom_classes": [],
            "_model_module": "@jupyter-widgets/controls",
            "_model_module_version": "1.5.0",
            "_model_name": "HBoxModel",
            "_view_count": null,
            "_view_module": "@jupyter-widgets/controls",
            "_view_module_version": "1.5.0",
            "_view_name": "HBoxView",
            "box_style": "",
            "children": [
              "IPY_MODEL_859901b8afe14e11b20daf565c354d3b",
              "IPY_MODEL_8e99ae47634b4eb9adadcfe39e74402c",
              "IPY_MODEL_98e3e3225e674aa0bd784b9e41fa9cb2"
            ],
            "layout": "IPY_MODEL_f80f495f702547f3a8838190368d8ccb"
          }
        },
        "859901b8afe14e11b20daf565c354d3b": {
          "model_module": "@jupyter-widgets/controls",
          "model_name": "HTMLModel",
          "model_module_version": "1.5.0",
          "state": {
            "_dom_classes": [],
            "_model_module": "@jupyter-widgets/controls",
            "_model_module_version": "1.5.0",
            "_model_name": "HTMLModel",
            "_view_count": null,
            "_view_module": "@jupyter-widgets/controls",
            "_view_module_version": "1.5.0",
            "_view_name": "HTMLView",
            "description": "",
            "description_tooltip": null,
            "layout": "IPY_MODEL_2dff365587534a9aa9cdcabd030e5595",
            "placeholder": "​",
            "style": "IPY_MODEL_e73ac25afd3e44e88083c27bfa022a85",
            "value": "vocab.txt: 100%"
          }
        },
        "8e99ae47634b4eb9adadcfe39e74402c": {
          "model_module": "@jupyter-widgets/controls",
          "model_name": "FloatProgressModel",
          "model_module_version": "1.5.0",
          "state": {
            "_dom_classes": [],
            "_model_module": "@jupyter-widgets/controls",
            "_model_module_version": "1.5.0",
            "_model_name": "FloatProgressModel",
            "_view_count": null,
            "_view_module": "@jupyter-widgets/controls",
            "_view_module_version": "1.5.0",
            "_view_name": "ProgressView",
            "bar_style": "success",
            "description": "",
            "description_tooltip": null,
            "layout": "IPY_MODEL_cda636af8bac45b3b0ff37b87ac931d8",
            "max": 231508,
            "min": 0,
            "orientation": "horizontal",
            "style": "IPY_MODEL_28220f5330b14c0d82dfdce174e02b81",
            "value": 231508
          }
        },
        "98e3e3225e674aa0bd784b9e41fa9cb2": {
          "model_module": "@jupyter-widgets/controls",
          "model_name": "HTMLModel",
          "model_module_version": "1.5.0",
          "state": {
            "_dom_classes": [],
            "_model_module": "@jupyter-widgets/controls",
            "_model_module_version": "1.5.0",
            "_model_name": "HTMLModel",
            "_view_count": null,
            "_view_module": "@jupyter-widgets/controls",
            "_view_module_version": "1.5.0",
            "_view_name": "HTMLView",
            "description": "",
            "description_tooltip": null,
            "layout": "IPY_MODEL_f83bbeeabdfc43f4adfd7fed33744979",
            "placeholder": "​",
            "style": "IPY_MODEL_73aae65051604c3aac7d9fad1b6ae2b0",
            "value": " 232k/232k [00:00&lt;00:00, 1.89MB/s]"
          }
        },
        "f80f495f702547f3a8838190368d8ccb": {
          "model_module": "@jupyter-widgets/base",
          "model_name": "LayoutModel",
          "model_module_version": "1.2.0",
          "state": {
            "_model_module": "@jupyter-widgets/base",
            "_model_module_version": "1.2.0",
            "_model_name": "LayoutModel",
            "_view_count": null,
            "_view_module": "@jupyter-widgets/base",
            "_view_module_version": "1.2.0",
            "_view_name": "LayoutView",
            "align_content": null,
            "align_items": null,
            "align_self": null,
            "border": null,
            "bottom": null,
            "display": null,
            "flex": null,
            "flex_flow": null,
            "grid_area": null,
            "grid_auto_columns": null,
            "grid_auto_flow": null,
            "grid_auto_rows": null,
            "grid_column": null,
            "grid_gap": null,
            "grid_row": null,
            "grid_template_areas": null,
            "grid_template_columns": null,
            "grid_template_rows": null,
            "height": null,
            "justify_content": null,
            "justify_items": null,
            "left": null,
            "margin": null,
            "max_height": null,
            "max_width": null,
            "min_height": null,
            "min_width": null,
            "object_fit": null,
            "object_position": null,
            "order": null,
            "overflow": null,
            "overflow_x": null,
            "overflow_y": null,
            "padding": null,
            "right": null,
            "top": null,
            "visibility": null,
            "width": null
          }
        },
        "2dff365587534a9aa9cdcabd030e5595": {
          "model_module": "@jupyter-widgets/base",
          "model_name": "LayoutModel",
          "model_module_version": "1.2.0",
          "state": {
            "_model_module": "@jupyter-widgets/base",
            "_model_module_version": "1.2.0",
            "_model_name": "LayoutModel",
            "_view_count": null,
            "_view_module": "@jupyter-widgets/base",
            "_view_module_version": "1.2.0",
            "_view_name": "LayoutView",
            "align_content": null,
            "align_items": null,
            "align_self": null,
            "border": null,
            "bottom": null,
            "display": null,
            "flex": null,
            "flex_flow": null,
            "grid_area": null,
            "grid_auto_columns": null,
            "grid_auto_flow": null,
            "grid_auto_rows": null,
            "grid_column": null,
            "grid_gap": null,
            "grid_row": null,
            "grid_template_areas": null,
            "grid_template_columns": null,
            "grid_template_rows": null,
            "height": null,
            "justify_content": null,
            "justify_items": null,
            "left": null,
            "margin": null,
            "max_height": null,
            "max_width": null,
            "min_height": null,
            "min_width": null,
            "object_fit": null,
            "object_position": null,
            "order": null,
            "overflow": null,
            "overflow_x": null,
            "overflow_y": null,
            "padding": null,
            "right": null,
            "top": null,
            "visibility": null,
            "width": null
          }
        },
        "e73ac25afd3e44e88083c27bfa022a85": {
          "model_module": "@jupyter-widgets/controls",
          "model_name": "DescriptionStyleModel",
          "model_module_version": "1.5.0",
          "state": {
            "_model_module": "@jupyter-widgets/controls",
            "_model_module_version": "1.5.0",
            "_model_name": "DescriptionStyleModel",
            "_view_count": null,
            "_view_module": "@jupyter-widgets/base",
            "_view_module_version": "1.2.0",
            "_view_name": "StyleView",
            "description_width": ""
          }
        },
        "cda636af8bac45b3b0ff37b87ac931d8": {
          "model_module": "@jupyter-widgets/base",
          "model_name": "LayoutModel",
          "model_module_version": "1.2.0",
          "state": {
            "_model_module": "@jupyter-widgets/base",
            "_model_module_version": "1.2.0",
            "_model_name": "LayoutModel",
            "_view_count": null,
            "_view_module": "@jupyter-widgets/base",
            "_view_module_version": "1.2.0",
            "_view_name": "LayoutView",
            "align_content": null,
            "align_items": null,
            "align_self": null,
            "border": null,
            "bottom": null,
            "display": null,
            "flex": null,
            "flex_flow": null,
            "grid_area": null,
            "grid_auto_columns": null,
            "grid_auto_flow": null,
            "grid_auto_rows": null,
            "grid_column": null,
            "grid_gap": null,
            "grid_row": null,
            "grid_template_areas": null,
            "grid_template_columns": null,
            "grid_template_rows": null,
            "height": null,
            "justify_content": null,
            "justify_items": null,
            "left": null,
            "margin": null,
            "max_height": null,
            "max_width": null,
            "min_height": null,
            "min_width": null,
            "object_fit": null,
            "object_position": null,
            "order": null,
            "overflow": null,
            "overflow_x": null,
            "overflow_y": null,
            "padding": null,
            "right": null,
            "top": null,
            "visibility": null,
            "width": null
          }
        },
        "28220f5330b14c0d82dfdce174e02b81": {
          "model_module": "@jupyter-widgets/controls",
          "model_name": "ProgressStyleModel",
          "model_module_version": "1.5.0",
          "state": {
            "_model_module": "@jupyter-widgets/controls",
            "_model_module_version": "1.5.0",
            "_model_name": "ProgressStyleModel",
            "_view_count": null,
            "_view_module": "@jupyter-widgets/base",
            "_view_module_version": "1.2.0",
            "_view_name": "StyleView",
            "bar_color": null,
            "description_width": ""
          }
        },
        "f83bbeeabdfc43f4adfd7fed33744979": {
          "model_module": "@jupyter-widgets/base",
          "model_name": "LayoutModel",
          "model_module_version": "1.2.0",
          "state": {
            "_model_module": "@jupyter-widgets/base",
            "_model_module_version": "1.2.0",
            "_model_name": "LayoutModel",
            "_view_count": null,
            "_view_module": "@jupyter-widgets/base",
            "_view_module_version": "1.2.0",
            "_view_name": "LayoutView",
            "align_content": null,
            "align_items": null,
            "align_self": null,
            "border": null,
            "bottom": null,
            "display": null,
            "flex": null,
            "flex_flow": null,
            "grid_area": null,
            "grid_auto_columns": null,
            "grid_auto_flow": null,
            "grid_auto_rows": null,
            "grid_column": null,
            "grid_gap": null,
            "grid_row": null,
            "grid_template_areas": null,
            "grid_template_columns": null,
            "grid_template_rows": null,
            "height": null,
            "justify_content": null,
            "justify_items": null,
            "left": null,
            "margin": null,
            "max_height": null,
            "max_width": null,
            "min_height": null,
            "min_width": null,
            "object_fit": null,
            "object_position": null,
            "order": null,
            "overflow": null,
            "overflow_x": null,
            "overflow_y": null,
            "padding": null,
            "right": null,
            "top": null,
            "visibility": null,
            "width": null
          }
        },
        "73aae65051604c3aac7d9fad1b6ae2b0": {
          "model_module": "@jupyter-widgets/controls",
          "model_name": "DescriptionStyleModel",
          "model_module_version": "1.5.0",
          "state": {
            "_model_module": "@jupyter-widgets/controls",
            "_model_module_version": "1.5.0",
            "_model_name": "DescriptionStyleModel",
            "_view_count": null,
            "_view_module": "@jupyter-widgets/base",
            "_view_module_version": "1.2.0",
            "_view_name": "StyleView",
            "description_width": ""
          }
        },
        "8a59df8b8eb6485b8388fc82556012c7": {
          "model_module": "@jupyter-widgets/controls",
          "model_name": "HBoxModel",
          "model_module_version": "1.5.0",
          "state": {
            "_dom_classes": [],
            "_model_module": "@jupyter-widgets/controls",
            "_model_module_version": "1.5.0",
            "_model_name": "HBoxModel",
            "_view_count": null,
            "_view_module": "@jupyter-widgets/controls",
            "_view_module_version": "1.5.0",
            "_view_name": "HBoxView",
            "box_style": "",
            "children": [
              "IPY_MODEL_d84c52654c2349bd871e516a9d532095",
              "IPY_MODEL_e5ef6d2d65e144b39d1149f8ef1b3212",
              "IPY_MODEL_03aead243bf74163b32501c8a41e5085"
            ],
            "layout": "IPY_MODEL_91c56418e947484cb2aa502ed2641bdf"
          }
        },
        "d84c52654c2349bd871e516a9d532095": {
          "model_module": "@jupyter-widgets/controls",
          "model_name": "HTMLModel",
          "model_module_version": "1.5.0",
          "state": {
            "_dom_classes": [],
            "_model_module": "@jupyter-widgets/controls",
            "_model_module_version": "1.5.0",
            "_model_name": "HTMLModel",
            "_view_count": null,
            "_view_module": "@jupyter-widgets/controls",
            "_view_module_version": "1.5.0",
            "_view_name": "HTMLView",
            "description": "",
            "description_tooltip": null,
            "layout": "IPY_MODEL_f391c9d8fd434888becfe4572c05267b",
            "placeholder": "​",
            "style": "IPY_MODEL_be664d2c79c44543adff57854c25149f",
            "value": "model.safetensors: 100%"
          }
        },
        "e5ef6d2d65e144b39d1149f8ef1b3212": {
          "model_module": "@jupyter-widgets/controls",
          "model_name": "FloatProgressModel",
          "model_module_version": "1.5.0",
          "state": {
            "_dom_classes": [],
            "_model_module": "@jupyter-widgets/controls",
            "_model_module_version": "1.5.0",
            "_model_name": "FloatProgressModel",
            "_view_count": null,
            "_view_module": "@jupyter-widgets/controls",
            "_view_module_version": "1.5.0",
            "_view_name": "ProgressView",
            "bar_style": "success",
            "description": "",
            "description_tooltip": null,
            "layout": "IPY_MODEL_260e60f6b2c448f2a03ede02e2694d4f",
            "max": 267832558,
            "min": 0,
            "orientation": "horizontal",
            "style": "IPY_MODEL_3b41348476e44bf9896d8aa8a4b0e56e",
            "value": 267832558
          }
        },
        "03aead243bf74163b32501c8a41e5085": {
          "model_module": "@jupyter-widgets/controls",
          "model_name": "HTMLModel",
          "model_module_version": "1.5.0",
          "state": {
            "_dom_classes": [],
            "_model_module": "@jupyter-widgets/controls",
            "_model_module_version": "1.5.0",
            "_model_name": "HTMLModel",
            "_view_count": null,
            "_view_module": "@jupyter-widgets/controls",
            "_view_module_version": "1.5.0",
            "_view_name": "HTMLView",
            "description": "",
            "description_tooltip": null,
            "layout": "IPY_MODEL_73f32f054a9e422db15bb21f1f5d7158",
            "placeholder": "​",
            "style": "IPY_MODEL_1106d5550c0d4ae1ab8e690df9711680",
            "value": " 268M/268M [00:03&lt;00:00, 60.7MB/s]"
          }
        },
        "91c56418e947484cb2aa502ed2641bdf": {
          "model_module": "@jupyter-widgets/base",
          "model_name": "LayoutModel",
          "model_module_version": "1.2.0",
          "state": {
            "_model_module": "@jupyter-widgets/base",
            "_model_module_version": "1.2.0",
            "_model_name": "LayoutModel",
            "_view_count": null,
            "_view_module": "@jupyter-widgets/base",
            "_view_module_version": "1.2.0",
            "_view_name": "LayoutView",
            "align_content": null,
            "align_items": null,
            "align_self": null,
            "border": null,
            "bottom": null,
            "display": null,
            "flex": null,
            "flex_flow": null,
            "grid_area": null,
            "grid_auto_columns": null,
            "grid_auto_flow": null,
            "grid_auto_rows": null,
            "grid_column": null,
            "grid_gap": null,
            "grid_row": null,
            "grid_template_areas": null,
            "grid_template_columns": null,
            "grid_template_rows": null,
            "height": null,
            "justify_content": null,
            "justify_items": null,
            "left": null,
            "margin": null,
            "max_height": null,
            "max_width": null,
            "min_height": null,
            "min_width": null,
            "object_fit": null,
            "object_position": null,
            "order": null,
            "overflow": null,
            "overflow_x": null,
            "overflow_y": null,
            "padding": null,
            "right": null,
            "top": null,
            "visibility": null,
            "width": null
          }
        },
        "f391c9d8fd434888becfe4572c05267b": {
          "model_module": "@jupyter-widgets/base",
          "model_name": "LayoutModel",
          "model_module_version": "1.2.0",
          "state": {
            "_model_module": "@jupyter-widgets/base",
            "_model_module_version": "1.2.0",
            "_model_name": "LayoutModel",
            "_view_count": null,
            "_view_module": "@jupyter-widgets/base",
            "_view_module_version": "1.2.0",
            "_view_name": "LayoutView",
            "align_content": null,
            "align_items": null,
            "align_self": null,
            "border": null,
            "bottom": null,
            "display": null,
            "flex": null,
            "flex_flow": null,
            "grid_area": null,
            "grid_auto_columns": null,
            "grid_auto_flow": null,
            "grid_auto_rows": null,
            "grid_column": null,
            "grid_gap": null,
            "grid_row": null,
            "grid_template_areas": null,
            "grid_template_columns": null,
            "grid_template_rows": null,
            "height": null,
            "justify_content": null,
            "justify_items": null,
            "left": null,
            "margin": null,
            "max_height": null,
            "max_width": null,
            "min_height": null,
            "min_width": null,
            "object_fit": null,
            "object_position": null,
            "order": null,
            "overflow": null,
            "overflow_x": null,
            "overflow_y": null,
            "padding": null,
            "right": null,
            "top": null,
            "visibility": null,
            "width": null
          }
        },
        "be664d2c79c44543adff57854c25149f": {
          "model_module": "@jupyter-widgets/controls",
          "model_name": "DescriptionStyleModel",
          "model_module_version": "1.5.0",
          "state": {
            "_model_module": "@jupyter-widgets/controls",
            "_model_module_version": "1.5.0",
            "_model_name": "DescriptionStyleModel",
            "_view_count": null,
            "_view_module": "@jupyter-widgets/base",
            "_view_module_version": "1.2.0",
            "_view_name": "StyleView",
            "description_width": ""
          }
        },
        "260e60f6b2c448f2a03ede02e2694d4f": {
          "model_module": "@jupyter-widgets/base",
          "model_name": "LayoutModel",
          "model_module_version": "1.2.0",
          "state": {
            "_model_module": "@jupyter-widgets/base",
            "_model_module_version": "1.2.0",
            "_model_name": "LayoutModel",
            "_view_count": null,
            "_view_module": "@jupyter-widgets/base",
            "_view_module_version": "1.2.0",
            "_view_name": "LayoutView",
            "align_content": null,
            "align_items": null,
            "align_self": null,
            "border": null,
            "bottom": null,
            "display": null,
            "flex": null,
            "flex_flow": null,
            "grid_area": null,
            "grid_auto_columns": null,
            "grid_auto_flow": null,
            "grid_auto_rows": null,
            "grid_column": null,
            "grid_gap": null,
            "grid_row": null,
            "grid_template_areas": null,
            "grid_template_columns": null,
            "grid_template_rows": null,
            "height": null,
            "justify_content": null,
            "justify_items": null,
            "left": null,
            "margin": null,
            "max_height": null,
            "max_width": null,
            "min_height": null,
            "min_width": null,
            "object_fit": null,
            "object_position": null,
            "order": null,
            "overflow": null,
            "overflow_x": null,
            "overflow_y": null,
            "padding": null,
            "right": null,
            "top": null,
            "visibility": null,
            "width": null
          }
        },
        "3b41348476e44bf9896d8aa8a4b0e56e": {
          "model_module": "@jupyter-widgets/controls",
          "model_name": "ProgressStyleModel",
          "model_module_version": "1.5.0",
          "state": {
            "_model_module": "@jupyter-widgets/controls",
            "_model_module_version": "1.5.0",
            "_model_name": "ProgressStyleModel",
            "_view_count": null,
            "_view_module": "@jupyter-widgets/base",
            "_view_module_version": "1.2.0",
            "_view_name": "StyleView",
            "bar_color": null,
            "description_width": ""
          }
        },
        "73f32f054a9e422db15bb21f1f5d7158": {
          "model_module": "@jupyter-widgets/base",
          "model_name": "LayoutModel",
          "model_module_version": "1.2.0",
          "state": {
            "_model_module": "@jupyter-widgets/base",
            "_model_module_version": "1.2.0",
            "_model_name": "LayoutModel",
            "_view_count": null,
            "_view_module": "@jupyter-widgets/base",
            "_view_module_version": "1.2.0",
            "_view_name": "LayoutView",
            "align_content": null,
            "align_items": null,
            "align_self": null,
            "border": null,
            "bottom": null,
            "display": null,
            "flex": null,
            "flex_flow": null,
            "grid_area": null,
            "grid_auto_columns": null,
            "grid_auto_flow": null,
            "grid_auto_rows": null,
            "grid_column": null,
            "grid_gap": null,
            "grid_row": null,
            "grid_template_areas": null,
            "grid_template_columns": null,
            "grid_template_rows": null,
            "height": null,
            "justify_content": null,
            "justify_items": null,
            "left": null,
            "margin": null,
            "max_height": null,
            "max_width": null,
            "min_height": null,
            "min_width": null,
            "object_fit": null,
            "object_position": null,
            "order": null,
            "overflow": null,
            "overflow_x": null,
            "overflow_y": null,
            "padding": null,
            "right": null,
            "top": null,
            "visibility": null,
            "width": null
          }
        },
        "1106d5550c0d4ae1ab8e690df9711680": {
          "model_module": "@jupyter-widgets/controls",
          "model_name": "DescriptionStyleModel",
          "model_module_version": "1.5.0",
          "state": {
            "_model_module": "@jupyter-widgets/controls",
            "_model_module_version": "1.5.0",
            "_model_name": "DescriptionStyleModel",
            "_view_count": null,
            "_view_module": "@jupyter-widgets/base",
            "_view_module_version": "1.2.0",
            "_view_name": "StyleView",
            "description_width": ""
          }
        },
        "d09aa7f93ab24b17b2200f2e4ed8d682": {
          "model_module": "@jupyter-widgets/controls",
          "model_name": "HBoxModel",
          "model_module_version": "1.5.0",
          "state": {
            "_dom_classes": [],
            "_model_module": "@jupyter-widgets/controls",
            "_model_module_version": "1.5.0",
            "_model_name": "HBoxModel",
            "_view_count": null,
            "_view_module": "@jupyter-widgets/controls",
            "_view_module_version": "1.5.0",
            "_view_name": "HBoxView",
            "box_style": "",
            "children": [
              "IPY_MODEL_19bbb9b79de746bfa290fd4a16eee338",
              "IPY_MODEL_95096456285a460291a8c2f1a1c5a74a",
              "IPY_MODEL_eaff8e5dfb10424d89ba5c3bd9ef8448"
            ],
            "layout": "IPY_MODEL_59f848539baa4b0492a4cbdc55663cd3"
          }
        },
        "19bbb9b79de746bfa290fd4a16eee338": {
          "model_module": "@jupyter-widgets/controls",
          "model_name": "HTMLModel",
          "model_module_version": "1.5.0",
          "state": {
            "_dom_classes": [],
            "_model_module": "@jupyter-widgets/controls",
            "_model_module_version": "1.5.0",
            "_model_name": "HTMLModel",
            "_view_count": null,
            "_view_module": "@jupyter-widgets/controls",
            "_view_module_version": "1.5.0",
            "_view_name": "HTMLView",
            "description": "",
            "description_tooltip": null,
            "layout": "IPY_MODEL_ab491fc6d8ce4ec5b7a33d27f6d060fd",
            "placeholder": "​",
            "style": "IPY_MODEL_153727f1854644d1b73b88619dd03cda",
            "value": "100%"
          }
        },
        "95096456285a460291a8c2f1a1c5a74a": {
          "model_module": "@jupyter-widgets/controls",
          "model_name": "FloatProgressModel",
          "model_module_version": "1.5.0",
          "state": {
            "_dom_classes": [],
            "_model_module": "@jupyter-widgets/controls",
            "_model_module_version": "1.5.0",
            "_model_name": "FloatProgressModel",
            "_view_count": null,
            "_view_module": "@jupyter-widgets/controls",
            "_view_module_version": "1.5.0",
            "_view_name": "ProgressView",
            "bar_style": "success",
            "description": "",
            "description_tooltip": null,
            "layout": "IPY_MODEL_0c330a6da7e7439999edb0540362089c",
            "max": 782,
            "min": 0,
            "orientation": "horizontal",
            "style": "IPY_MODEL_cdddd76fa72d40feb5b30e43fcc158a8",
            "value": 782
          }
        },
        "eaff8e5dfb10424d89ba5c3bd9ef8448": {
          "model_module": "@jupyter-widgets/controls",
          "model_name": "HTMLModel",
          "model_module_version": "1.5.0",
          "state": {
            "_dom_classes": [],
            "_model_module": "@jupyter-widgets/controls",
            "_model_module_version": "1.5.0",
            "_model_name": "HTMLModel",
            "_view_count": null,
            "_view_module": "@jupyter-widgets/controls",
            "_view_module_version": "1.5.0",
            "_view_name": "HTMLView",
            "description": "",
            "description_tooltip": null,
            "layout": "IPY_MODEL_d910ffb8708649c292312feaa8797bac",
            "placeholder": "​",
            "style": "IPY_MODEL_5baff5417e7f4b68b2c2af9bd715e500",
            "value": " 782/782 [13:29&lt;00:00,  1.22it/s]"
          }
        },
        "59f848539baa4b0492a4cbdc55663cd3": {
          "model_module": "@jupyter-widgets/base",
          "model_name": "LayoutModel",
          "model_module_version": "1.2.0",
          "state": {
            "_model_module": "@jupyter-widgets/base",
            "_model_module_version": "1.2.0",
            "_model_name": "LayoutModel",
            "_view_count": null,
            "_view_module": "@jupyter-widgets/base",
            "_view_module_version": "1.2.0",
            "_view_name": "LayoutView",
            "align_content": null,
            "align_items": null,
            "align_self": null,
            "border": null,
            "bottom": null,
            "display": null,
            "flex": null,
            "flex_flow": null,
            "grid_area": null,
            "grid_auto_columns": null,
            "grid_auto_flow": null,
            "grid_auto_rows": null,
            "grid_column": null,
            "grid_gap": null,
            "grid_row": null,
            "grid_template_areas": null,
            "grid_template_columns": null,
            "grid_template_rows": null,
            "height": null,
            "justify_content": null,
            "justify_items": null,
            "left": null,
            "margin": null,
            "max_height": null,
            "max_width": null,
            "min_height": null,
            "min_width": null,
            "object_fit": null,
            "object_position": null,
            "order": null,
            "overflow": null,
            "overflow_x": null,
            "overflow_y": null,
            "padding": null,
            "right": null,
            "top": null,
            "visibility": null,
            "width": null
          }
        },
        "ab491fc6d8ce4ec5b7a33d27f6d060fd": {
          "model_module": "@jupyter-widgets/base",
          "model_name": "LayoutModel",
          "model_module_version": "1.2.0",
          "state": {
            "_model_module": "@jupyter-widgets/base",
            "_model_module_version": "1.2.0",
            "_model_name": "LayoutModel",
            "_view_count": null,
            "_view_module": "@jupyter-widgets/base",
            "_view_module_version": "1.2.0",
            "_view_name": "LayoutView",
            "align_content": null,
            "align_items": null,
            "align_self": null,
            "border": null,
            "bottom": null,
            "display": null,
            "flex": null,
            "flex_flow": null,
            "grid_area": null,
            "grid_auto_columns": null,
            "grid_auto_flow": null,
            "grid_auto_rows": null,
            "grid_column": null,
            "grid_gap": null,
            "grid_row": null,
            "grid_template_areas": null,
            "grid_template_columns": null,
            "grid_template_rows": null,
            "height": null,
            "justify_content": null,
            "justify_items": null,
            "left": null,
            "margin": null,
            "max_height": null,
            "max_width": null,
            "min_height": null,
            "min_width": null,
            "object_fit": null,
            "object_position": null,
            "order": null,
            "overflow": null,
            "overflow_x": null,
            "overflow_y": null,
            "padding": null,
            "right": null,
            "top": null,
            "visibility": null,
            "width": null
          }
        },
        "153727f1854644d1b73b88619dd03cda": {
          "model_module": "@jupyter-widgets/controls",
          "model_name": "DescriptionStyleModel",
          "model_module_version": "1.5.0",
          "state": {
            "_model_module": "@jupyter-widgets/controls",
            "_model_module_version": "1.5.0",
            "_model_name": "DescriptionStyleModel",
            "_view_count": null,
            "_view_module": "@jupyter-widgets/base",
            "_view_module_version": "1.2.0",
            "_view_name": "StyleView",
            "description_width": ""
          }
        },
        "0c330a6da7e7439999edb0540362089c": {
          "model_module": "@jupyter-widgets/base",
          "model_name": "LayoutModel",
          "model_module_version": "1.2.0",
          "state": {
            "_model_module": "@jupyter-widgets/base",
            "_model_module_version": "1.2.0",
            "_model_name": "LayoutModel",
            "_view_count": null,
            "_view_module": "@jupyter-widgets/base",
            "_view_module_version": "1.2.0",
            "_view_name": "LayoutView",
            "align_content": null,
            "align_items": null,
            "align_self": null,
            "border": null,
            "bottom": null,
            "display": null,
            "flex": null,
            "flex_flow": null,
            "grid_area": null,
            "grid_auto_columns": null,
            "grid_auto_flow": null,
            "grid_auto_rows": null,
            "grid_column": null,
            "grid_gap": null,
            "grid_row": null,
            "grid_template_areas": null,
            "grid_template_columns": null,
            "grid_template_rows": null,
            "height": null,
            "justify_content": null,
            "justify_items": null,
            "left": null,
            "margin": null,
            "max_height": null,
            "max_width": null,
            "min_height": null,
            "min_width": null,
            "object_fit": null,
            "object_position": null,
            "order": null,
            "overflow": null,
            "overflow_x": null,
            "overflow_y": null,
            "padding": null,
            "right": null,
            "top": null,
            "visibility": null,
            "width": null
          }
        },
        "cdddd76fa72d40feb5b30e43fcc158a8": {
          "model_module": "@jupyter-widgets/controls",
          "model_name": "ProgressStyleModel",
          "model_module_version": "1.5.0",
          "state": {
            "_model_module": "@jupyter-widgets/controls",
            "_model_module_version": "1.5.0",
            "_model_name": "ProgressStyleModel",
            "_view_count": null,
            "_view_module": "@jupyter-widgets/base",
            "_view_module_version": "1.2.0",
            "_view_name": "StyleView",
            "bar_color": null,
            "description_width": ""
          }
        },
        "d910ffb8708649c292312feaa8797bac": {
          "model_module": "@jupyter-widgets/base",
          "model_name": "LayoutModel",
          "model_module_version": "1.2.0",
          "state": {
            "_model_module": "@jupyter-widgets/base",
            "_model_module_version": "1.2.0",
            "_model_name": "LayoutModel",
            "_view_count": null,
            "_view_module": "@jupyter-widgets/base",
            "_view_module_version": "1.2.0",
            "_view_name": "LayoutView",
            "align_content": null,
            "align_items": null,
            "align_self": null,
            "border": null,
            "bottom": null,
            "display": null,
            "flex": null,
            "flex_flow": null,
            "grid_area": null,
            "grid_auto_columns": null,
            "grid_auto_flow": null,
            "grid_auto_rows": null,
            "grid_column": null,
            "grid_gap": null,
            "grid_row": null,
            "grid_template_areas": null,
            "grid_template_columns": null,
            "grid_template_rows": null,
            "height": null,
            "justify_content": null,
            "justify_items": null,
            "left": null,
            "margin": null,
            "max_height": null,
            "max_width": null,
            "min_height": null,
            "min_width": null,
            "object_fit": null,
            "object_position": null,
            "order": null,
            "overflow": null,
            "overflow_x": null,
            "overflow_y": null,
            "padding": null,
            "right": null,
            "top": null,
            "visibility": null,
            "width": null
          }
        },
        "5baff5417e7f4b68b2c2af9bd715e500": {
          "model_module": "@jupyter-widgets/controls",
          "model_name": "DescriptionStyleModel",
          "model_module_version": "1.5.0",
          "state": {
            "_model_module": "@jupyter-widgets/controls",
            "_model_module_version": "1.5.0",
            "_model_name": "DescriptionStyleModel",
            "_view_count": null,
            "_view_module": "@jupyter-widgets/base",
            "_view_module_version": "1.2.0",
            "_view_name": "StyleView",
            "description_width": ""
          }
        }
      }
    }
  },
  "nbformat": 4,
  "nbformat_minor": 0
}