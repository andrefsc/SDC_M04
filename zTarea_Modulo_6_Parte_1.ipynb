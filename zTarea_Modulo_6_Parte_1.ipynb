{
  "nbformat": 4,
  "nbformat_minor": 0,
  "metadata": {
    "colab": {
      "provenance": [],
      "gpuType": "T4",
      "include_colab_link": true
    },
    "kernelspec": {
      "name": "python3",
      "display_name": "Python 3"
    },
    "language_info": {
      "name": "python"
    },
    "widgets": {
      "application/vnd.jupyter.widget-state+json": {
        "af3a10fc509a4d2e80140a13b68348bd": {
          "model_module": "@jupyter-widgets/controls",
          "model_name": "HBoxModel",
          "model_module_version": "1.5.0",
          "state": {
            "_dom_classes": [],
            "_model_module": "@jupyter-widgets/controls",
            "_model_module_version": "1.5.0",
            "_model_name": "HBoxModel",
            "_view_count": null,
            "_view_module": "@jupyter-widgets/controls",
            "_view_module_version": "1.5.0",
            "_view_name": "HBoxView",
            "box_style": "",
            "children": [
              "IPY_MODEL_d7fea92f49b14846a22762feb976e4d8",
              "IPY_MODEL_0a2cbf07e0e04bd1bad0490978573f4a",
              "IPY_MODEL_5ed292cabcbf412484a0f9832cc9875c"
            ],
            "layout": "IPY_MODEL_e55ab9e718dd4fa498c1da75bc844597"
          }
        },
        "d7fea92f49b14846a22762feb976e4d8": {
          "model_module": "@jupyter-widgets/controls",
          "model_name": "HTMLModel",
          "model_module_version": "1.5.0",
          "state": {
            "_dom_classes": [],
            "_model_module": "@jupyter-widgets/controls",
            "_model_module_version": "1.5.0",
            "_model_name": "HTMLModel",
            "_view_count": null,
            "_view_module": "@jupyter-widgets/controls",
            "_view_module_version": "1.5.0",
            "_view_name": "HTMLView",
            "description": "",
            "description_tooltip": null,
            "layout": "IPY_MODEL_010e60355fc54fcbb71a77b11e472219",
            "placeholder": "​",
            "style": "IPY_MODEL_118d0f51467e4188b346954c0fc02209",
            "value": "model.safetensors: 100%"
          }
        },
        "0a2cbf07e0e04bd1bad0490978573f4a": {
          "model_module": "@jupyter-widgets/controls",
          "model_name": "FloatProgressModel",
          "model_module_version": "1.5.0",
          "state": {
            "_dom_classes": [],
            "_model_module": "@jupyter-widgets/controls",
            "_model_module_version": "1.5.0",
            "_model_name": "FloatProgressModel",
            "_view_count": null,
            "_view_module": "@jupyter-widgets/controls",
            "_view_module_version": "1.5.0",
            "_view_name": "ProgressView",
            "bar_style": "success",
            "description": "",
            "description_tooltip": null,
            "layout": "IPY_MODEL_b68da579788b4d1abf2756f34fb08ed0",
            "max": 267832558,
            "min": 0,
            "orientation": "horizontal",
            "style": "IPY_MODEL_3fbe987d80ce419e8898608370a2778e",
            "value": 267832558
          }
        },
        "5ed292cabcbf412484a0f9832cc9875c": {
          "model_module": "@jupyter-widgets/controls",
          "model_name": "HTMLModel",
          "model_module_version": "1.5.0",
          "state": {
            "_dom_classes": [],
            "_model_module": "@jupyter-widgets/controls",
            "_model_module_version": "1.5.0",
            "_model_name": "HTMLModel",
            "_view_count": null,
            "_view_module": "@jupyter-widgets/controls",
            "_view_module_version": "1.5.0",
            "_view_name": "HTMLView",
            "description": "",
            "description_tooltip": null,
            "layout": "IPY_MODEL_2eeed033cb494302baeb686fa6adfee2",
            "placeholder": "​",
            "style": "IPY_MODEL_29429f5dba18463f81f67250d2516eef",
            "value": " 268M/268M [00:00&lt;00:00, 310MB/s]"
          }
        },
        "e55ab9e718dd4fa498c1da75bc844597": {
          "model_module": "@jupyter-widgets/base",
          "model_name": "LayoutModel",
          "model_module_version": "1.2.0",
          "state": {
            "_model_module": "@jupyter-widgets/base",
            "_model_module_version": "1.2.0",
            "_model_name": "LayoutModel",
            "_view_count": null,
            "_view_module": "@jupyter-widgets/base",
            "_view_module_version": "1.2.0",
            "_view_name": "LayoutView",
            "align_content": null,
            "align_items": null,
            "align_self": null,
            "border": null,
            "bottom": null,
            "display": null,
            "flex": null,
            "flex_flow": null,
            "grid_area": null,
            "grid_auto_columns": null,
            "grid_auto_flow": null,
            "grid_auto_rows": null,
            "grid_column": null,
            "grid_gap": null,
            "grid_row": null,
            "grid_template_areas": null,
            "grid_template_columns": null,
            "grid_template_rows": null,
            "height": null,
            "justify_content": null,
            "justify_items": null,
            "left": null,
            "margin": null,
            "max_height": null,
            "max_width": null,
            "min_height": null,
            "min_width": null,
            "object_fit": null,
            "object_position": null,
            "order": null,
            "overflow": null,
            "overflow_x": null,
            "overflow_y": null,
            "padding": null,
            "right": null,
            "top": null,
            "visibility": null,
            "width": null
          }
        },
        "010e60355fc54fcbb71a77b11e472219": {
          "model_module": "@jupyter-widgets/base",
          "model_name": "LayoutModel",
          "model_module_version": "1.2.0",
          "state": {
            "_model_module": "@jupyter-widgets/base",
            "_model_module_version": "1.2.0",
            "_model_name": "LayoutModel",
            "_view_count": null,
            "_view_module": "@jupyter-widgets/base",
            "_view_module_version": "1.2.0",
            "_view_name": "LayoutView",
            "align_content": null,
            "align_items": null,
            "align_self": null,
            "border": null,
            "bottom": null,
            "display": null,
            "flex": null,
            "flex_flow": null,
            "grid_area": null,
            "grid_auto_columns": null,
            "grid_auto_flow": null,
            "grid_auto_rows": null,
            "grid_column": null,
            "grid_gap": null,
            "grid_row": null,
            "grid_template_areas": null,
            "grid_template_columns": null,
            "grid_template_rows": null,
            "height": null,
            "justify_content": null,
            "justify_items": null,
            "left": null,
            "margin": null,
            "max_height": null,
            "max_width": null,
            "min_height": null,
            "min_width": null,
            "object_fit": null,
            "object_position": null,
            "order": null,
            "overflow": null,
            "overflow_x": null,
            "overflow_y": null,
            "padding": null,
            "right": null,
            "top": null,
            "visibility": null,
            "width": null
          }
        },
        "118d0f51467e4188b346954c0fc02209": {
          "model_module": "@jupyter-widgets/controls",
          "model_name": "DescriptionStyleModel",
          "model_module_version": "1.5.0",
          "state": {
            "_model_module": "@jupyter-widgets/controls",
            "_model_module_version": "1.5.0",
            "_model_name": "DescriptionStyleModel",
            "_view_count": null,
            "_view_module": "@jupyter-widgets/base",
            "_view_module_version": "1.2.0",
            "_view_name": "StyleView",
            "description_width": ""
          }
        },
        "b68da579788b4d1abf2756f34fb08ed0": {
          "model_module": "@jupyter-widgets/base",
          "model_name": "LayoutModel",
          "model_module_version": "1.2.0",
          "state": {
            "_model_module": "@jupyter-widgets/base",
            "_model_module_version": "1.2.0",
            "_model_name": "LayoutModel",
            "_view_count": null,
            "_view_module": "@jupyter-widgets/base",
            "_view_module_version": "1.2.0",
            "_view_name": "LayoutView",
            "align_content": null,
            "align_items": null,
            "align_self": null,
            "border": null,
            "bottom": null,
            "display": null,
            "flex": null,
            "flex_flow": null,
            "grid_area": null,
            "grid_auto_columns": null,
            "grid_auto_flow": null,
            "grid_auto_rows": null,
            "grid_column": null,
            "grid_gap": null,
            "grid_row": null,
            "grid_template_areas": null,
            "grid_template_columns": null,
            "grid_template_rows": null,
            "height": null,
            "justify_content": null,
            "justify_items": null,
            "left": null,
            "margin": null,
            "max_height": null,
            "max_width": null,
            "min_height": null,
            "min_width": null,
            "object_fit": null,
            "object_position": null,
            "order": null,
            "overflow": null,
            "overflow_x": null,
            "overflow_y": null,
            "padding": null,
            "right": null,
            "top": null,
            "visibility": null,
            "width": null
          }
        },
        "3fbe987d80ce419e8898608370a2778e": {
          "model_module": "@jupyter-widgets/controls",
          "model_name": "ProgressStyleModel",
          "model_module_version": "1.5.0",
          "state": {
            "_model_module": "@jupyter-widgets/controls",
            "_model_module_version": "1.5.0",
            "_model_name": "ProgressStyleModel",
            "_view_count": null,
            "_view_module": "@jupyter-widgets/base",
            "_view_module_version": "1.2.0",
            "_view_name": "StyleView",
            "bar_color": null,
            "description_width": ""
          }
        },
        "2eeed033cb494302baeb686fa6adfee2": {
          "model_module": "@jupyter-widgets/base",
          "model_name": "LayoutModel",
          "model_module_version": "1.2.0",
          "state": {
            "_model_module": "@jupyter-widgets/base",
            "_model_module_version": "1.2.0",
            "_model_name": "LayoutModel",
            "_view_count": null,
            "_view_module": "@jupyter-widgets/base",
            "_view_module_version": "1.2.0",
            "_view_name": "LayoutView",
            "align_content": null,
            "align_items": null,
            "align_self": null,
            "border": null,
            "bottom": null,
            "display": null,
            "flex": null,
            "flex_flow": null,
            "grid_area": null,
            "grid_auto_columns": null,
            "grid_auto_flow": null,
            "grid_auto_rows": null,
            "grid_column": null,
            "grid_gap": null,
            "grid_row": null,
            "grid_template_areas": null,
            "grid_template_columns": null,
            "grid_template_rows": null,
            "height": null,
            "justify_content": null,
            "justify_items": null,
            "left": null,
            "margin": null,
            "max_height": null,
            "max_width": null,
            "min_height": null,
            "min_width": null,
            "object_fit": null,
            "object_position": null,
            "order": null,
            "overflow": null,
            "overflow_x": null,
            "overflow_y": null,
            "padding": null,
            "right": null,
            "top": null,
            "visibility": null,
            "width": null
          }
        },
        "29429f5dba18463f81f67250d2516eef": {
          "model_module": "@jupyter-widgets/controls",
          "model_name": "DescriptionStyleModel",
          "model_module_version": "1.5.0",
          "state": {
            "_model_module": "@jupyter-widgets/controls",
            "_model_module_version": "1.5.0",
            "_model_name": "DescriptionStyleModel",
            "_view_count": null,
            "_view_module": "@jupyter-widgets/base",
            "_view_module_version": "1.2.0",
            "_view_name": "StyleView",
            "description_width": ""
          }
        },
        "111cdfada59848bdab16d01e23380ea8": {
          "model_module": "@jupyter-widgets/controls",
          "model_name": "HBoxModel",
          "model_module_version": "1.5.0",
          "state": {
            "_dom_classes": [],
            "_model_module": "@jupyter-widgets/controls",
            "_model_module_version": "1.5.0",
            "_model_name": "HBoxModel",
            "_view_count": null,
            "_view_module": "@jupyter-widgets/controls",
            "_view_module_version": "1.5.0",
            "_view_name": "HBoxView",
            "box_style": "",
            "children": [
              "IPY_MODEL_aafc8febc76c40b18d81c01720f629f9",
              "IPY_MODEL_3bed634bec17491cb3bd00fca875a472",
              "IPY_MODEL_53983349bc20499f9c55396c495fa655"
            ],
            "layout": "IPY_MODEL_c1b4a7cd0fd8451789b3ef4150fb3469"
          }
        },
        "aafc8febc76c40b18d81c01720f629f9": {
          "model_module": "@jupyter-widgets/controls",
          "model_name": "HTMLModel",
          "model_module_version": "1.5.0",
          "state": {
            "_dom_classes": [],
            "_model_module": "@jupyter-widgets/controls",
            "_model_module_version": "1.5.0",
            "_model_name": "HTMLModel",
            "_view_count": null,
            "_view_module": "@jupyter-widgets/controls",
            "_view_module_version": "1.5.0",
            "_view_name": "HTMLView",
            "description": "",
            "description_tooltip": null,
            "layout": "IPY_MODEL_00f881c5dcdb4b00b0186c54e7ae0674",
            "placeholder": "​",
            "style": "IPY_MODEL_69e86b443628487ba911833d0f409f1d",
            "value": "100%"
          }
        },
        "3bed634bec17491cb3bd00fca875a472": {
          "model_module": "@jupyter-widgets/controls",
          "model_name": "FloatProgressModel",
          "model_module_version": "1.5.0",
          "state": {
            "_dom_classes": [],
            "_model_module": "@jupyter-widgets/controls",
            "_model_module_version": "1.5.0",
            "_model_name": "FloatProgressModel",
            "_view_count": null,
            "_view_module": "@jupyter-widgets/controls",
            "_view_module_version": "1.5.0",
            "_view_name": "ProgressView",
            "bar_style": "success",
            "description": "",
            "description_tooltip": null,
            "layout": "IPY_MODEL_6e745641e9d145dc8b696d5f622afac4",
            "max": 782,
            "min": 0,
            "orientation": "horizontal",
            "style": "IPY_MODEL_e1d4382cffc141869599dd372d273b8f",
            "value": 782
          }
        },
        "53983349bc20499f9c55396c495fa655": {
          "model_module": "@jupyter-widgets/controls",
          "model_name": "HTMLModel",
          "model_module_version": "1.5.0",
          "state": {
            "_dom_classes": [],
            "_model_module": "@jupyter-widgets/controls",
            "_model_module_version": "1.5.0",
            "_model_name": "HTMLModel",
            "_view_count": null,
            "_view_module": "@jupyter-widgets/controls",
            "_view_module_version": "1.5.0",
            "_view_name": "HTMLView",
            "description": "",
            "description_tooltip": null,
            "layout": "IPY_MODEL_51f48cc601494c0bb5dec7d524bd4318",
            "placeholder": "​",
            "style": "IPY_MODEL_44c7f16a10cb4c1fa3c46a1e73cbb629",
            "value": " 782/782 [14:02&lt;00:00,  1.18it/s]"
          }
        },
        "c1b4a7cd0fd8451789b3ef4150fb3469": {
          "model_module": "@jupyter-widgets/base",
          "model_name": "LayoutModel",
          "model_module_version": "1.2.0",
          "state": {
            "_model_module": "@jupyter-widgets/base",
            "_model_module_version": "1.2.0",
            "_model_name": "LayoutModel",
            "_view_count": null,
            "_view_module": "@jupyter-widgets/base",
            "_view_module_version": "1.2.0",
            "_view_name": "LayoutView",
            "align_content": null,
            "align_items": null,
            "align_self": null,
            "border": null,
            "bottom": null,
            "display": null,
            "flex": null,
            "flex_flow": null,
            "grid_area": null,
            "grid_auto_columns": null,
            "grid_auto_flow": null,
            "grid_auto_rows": null,
            "grid_column": null,
            "grid_gap": null,
            "grid_row": null,
            "grid_template_areas": null,
            "grid_template_columns": null,
            "grid_template_rows": null,
            "height": null,
            "justify_content": null,
            "justify_items": null,
            "left": null,
            "margin": null,
            "max_height": null,
            "max_width": null,
            "min_height": null,
            "min_width": null,
            "object_fit": null,
            "object_position": null,
            "order": null,
            "overflow": null,
            "overflow_x": null,
            "overflow_y": null,
            "padding": null,
            "right": null,
            "top": null,
            "visibility": null,
            "width": null
          }
        },
        "00f881c5dcdb4b00b0186c54e7ae0674": {
          "model_module": "@jupyter-widgets/base",
          "model_name": "LayoutModel",
          "model_module_version": "1.2.0",
          "state": {
            "_model_module": "@jupyter-widgets/base",
            "_model_module_version": "1.2.0",
            "_model_name": "LayoutModel",
            "_view_count": null,
            "_view_module": "@jupyter-widgets/base",
            "_view_module_version": "1.2.0",
            "_view_name": "LayoutView",
            "align_content": null,
            "align_items": null,
            "align_self": null,
            "border": null,
            "bottom": null,
            "display": null,
            "flex": null,
            "flex_flow": null,
            "grid_area": null,
            "grid_auto_columns": null,
            "grid_auto_flow": null,
            "grid_auto_rows": null,
            "grid_column": null,
            "grid_gap": null,
            "grid_row": null,
            "grid_template_areas": null,
            "grid_template_columns": null,
            "grid_template_rows": null,
            "height": null,
            "justify_content": null,
            "justify_items": null,
            "left": null,
            "margin": null,
            "max_height": null,
            "max_width": null,
            "min_height": null,
            "min_width": null,
            "object_fit": null,
            "object_position": null,
            "order": null,
            "overflow": null,
            "overflow_x": null,
            "overflow_y": null,
            "padding": null,
            "right": null,
            "top": null,
            "visibility": null,
            "width": null
          }
        },
        "69e86b443628487ba911833d0f409f1d": {
          "model_module": "@jupyter-widgets/controls",
          "model_name": "DescriptionStyleModel",
          "model_module_version": "1.5.0",
          "state": {
            "_model_module": "@jupyter-widgets/controls",
            "_model_module_version": "1.5.0",
            "_model_name": "DescriptionStyleModel",
            "_view_count": null,
            "_view_module": "@jupyter-widgets/base",
            "_view_module_version": "1.2.0",
            "_view_name": "StyleView",
            "description_width": ""
          }
        },
        "6e745641e9d145dc8b696d5f622afac4": {
          "model_module": "@jupyter-widgets/base",
          "model_name": "LayoutModel",
          "model_module_version": "1.2.0",
          "state": {
            "_model_module": "@jupyter-widgets/base",
            "_model_module_version": "1.2.0",
            "_model_name": "LayoutModel",
            "_view_count": null,
            "_view_module": "@jupyter-widgets/base",
            "_view_module_version": "1.2.0",
            "_view_name": "LayoutView",
            "align_content": null,
            "align_items": null,
            "align_self": null,
            "border": null,
            "bottom": null,
            "display": null,
            "flex": null,
            "flex_flow": null,
            "grid_area": null,
            "grid_auto_columns": null,
            "grid_auto_flow": null,
            "grid_auto_rows": null,
            "grid_column": null,
            "grid_gap": null,
            "grid_row": null,
            "grid_template_areas": null,
            "grid_template_columns": null,
            "grid_template_rows": null,
            "height": null,
            "justify_content": null,
            "justify_items": null,
            "left": null,
            "margin": null,
            "max_height": null,
            "max_width": null,
            "min_height": null,
            "min_width": null,
            "object_fit": null,
            "object_position": null,
            "order": null,
            "overflow": null,
            "overflow_x": null,
            "overflow_y": null,
            "padding": null,
            "right": null,
            "top": null,
            "visibility": null,
            "width": null
          }
        },
        "e1d4382cffc141869599dd372d273b8f": {
          "model_module": "@jupyter-widgets/controls",
          "model_name": "ProgressStyleModel",
          "model_module_version": "1.5.0",
          "state": {
            "_model_module": "@jupyter-widgets/controls",
            "_model_module_version": "1.5.0",
            "_model_name": "ProgressStyleModel",
            "_view_count": null,
            "_view_module": "@jupyter-widgets/base",
            "_view_module_version": "1.2.0",
            "_view_name": "StyleView",
            "bar_color": null,
            "description_width": ""
          }
        },
        "51f48cc601494c0bb5dec7d524bd4318": {
          "model_module": "@jupyter-widgets/base",
          "model_name": "LayoutModel",
          "model_module_version": "1.2.0",
          "state": {
            "_model_module": "@jupyter-widgets/base",
            "_model_module_version": "1.2.0",
            "_model_name": "LayoutModel",
            "_view_count": null,
            "_view_module": "@jupyter-widgets/base",
            "_view_module_version": "1.2.0",
            "_view_name": "LayoutView",
            "align_content": null,
            "align_items": null,
            "align_self": null,
            "border": null,
            "bottom": null,
            "display": null,
            "flex": null,
            "flex_flow": null,
            "grid_area": null,
            "grid_auto_columns": null,
            "grid_auto_flow": null,
            "grid_auto_rows": null,
            "grid_column": null,
            "grid_gap": null,
            "grid_row": null,
            "grid_template_areas": null,
            "grid_template_columns": null,
            "grid_template_rows": null,
            "height": null,
            "justify_content": null,
            "justify_items": null,
            "left": null,
            "margin": null,
            "max_height": null,
            "max_width": null,
            "min_height": null,
            "min_width": null,
            "object_fit": null,
            "object_position": null,
            "order": null,
            "overflow": null,
            "overflow_x": null,
            "overflow_y": null,
            "padding": null,
            "right": null,
            "top": null,
            "visibility": null,
            "width": null
          }
        },
        "44c7f16a10cb4c1fa3c46a1e73cbb629": {
          "model_module": "@jupyter-widgets/controls",
          "model_name": "DescriptionStyleModel",
          "model_module_version": "1.5.0",
          "state": {
            "_model_module": "@jupyter-widgets/controls",
            "_model_module_version": "1.5.0",
            "_model_name": "DescriptionStyleModel",
            "_view_count": null,
            "_view_module": "@jupyter-widgets/base",
            "_view_module_version": "1.2.0",
            "_view_name": "StyleView",
            "description_width": ""
          }
        }
      }
    },
    "accelerator": "GPU"
  },
  "cells": [
    {
      "cell_type": "markdown",
      "metadata": {
        "id": "view-in-github",
        "colab_type": "text"
      },
      "source": [
        "<a href=\"https://colab.research.google.com/github/andrefsc/SDC_M04/blob/main/zTarea_Modulo_6_Parte_1.ipynb\" target=\"_parent\"><img src=\"https://colab.research.google.com/assets/colab-badge.svg\" alt=\"Open In Colab\"/></a>"
      ]
    },
    {
      "cell_type": "markdown",
      "metadata": {
        "id": "itY3q17Uba-N"
      },
      "source": [
        "# **Master en Inteligência Artificial en el Deporte, Edición 8**\n",
        "\n",
        "![logo_SDC.webp](data:image/webp;base64,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)"
      ]
    },
    {
      "cell_type": "markdown",
      "source": [
        "__Tarea Individual Módulo 6 - Parte 1__\n",
        "````\n",
        "Análisis de sentimiento con BERT : Reviews de Películas\n",
        "\n",
        "La primera parte de esta tarea consiste en utilizar el modelo BERT para realizar un análisis de sentimiento de reviews de películas.\n",
        "\n",
        "Utilizaremos el notebook Tarea_Modulo_6_Parte_1.ipynb cómo plantilla, donde se necesitan completar varias celdas del notebook con\n",
        "el código necesario para realizar las tareas que se piden (Instrucciones al principio del notebook).\n",
        "Además, se deben contestar un par de preguntas sobre el desarrollo al final del notebook.\n",
        "\n",
        "---\n",
        "\n",
        "André Silveira Castanho\n",
        "April, 2024\n",
        "\n",
        "`````"
      ],
      "metadata": {
        "id": "AnKCic_lp2vH"
      }
    },
    {
      "cell_type": "markdown",
      "metadata": {
        "id": "EDvouw8R7ch2"
      },
      "source": [
        "El ambiente virtual de Google Colab ya incluye muchas de las bibliotecas comúnmente usadas en tareas de inteligencia artificial.\n",
        "No obstante, es necesario añadir la biblioteca **transformers** de Huggingface y **tqdm**, que facilita la visualización de barras de progreso en bucles for."
      ]
    },
    {
      "cell_type": "code",
      "metadata": {
        "id": "Ts4fGFUifZ54",
        "colab": {
          "base_uri": "https://localhost:8080/"
        },
        "outputId": "2138cd8b-a8b6-4120-bcdc-e7e57e27fe68"
      },
      "source": [
        "!pip install transformers\n",
        "!pip install tqdm"
      ],
      "execution_count": 38,
      "outputs": [
        {
          "output_type": "stream",
          "name": "stdout",
          "text": [
            "Requirement already satisfied: transformers in /usr/local/lib/python3.10/dist-packages (4.38.2)\n",
            "Requirement already satisfied: filelock in /usr/local/lib/python3.10/dist-packages (from transformers) (3.13.4)\n",
            "Requirement already satisfied: huggingface-hub<1.0,>=0.19.3 in /usr/local/lib/python3.10/dist-packages (from transformers) (0.20.3)\n",
            "Requirement already satisfied: numpy>=1.17 in /usr/local/lib/python3.10/dist-packages (from transformers) (1.25.2)\n",
            "Requirement already satisfied: packaging>=20.0 in /usr/local/lib/python3.10/dist-packages (from transformers) (24.0)\n",
            "Requirement already satisfied: pyyaml>=5.1 in /usr/local/lib/python3.10/dist-packages (from transformers) (6.0.1)\n",
            "Requirement already satisfied: regex!=2019.12.17 in /usr/local/lib/python3.10/dist-packages (from transformers) (2023.12.25)\n",
            "Requirement already satisfied: requests in /usr/local/lib/python3.10/dist-packages (from transformers) (2.31.0)\n",
            "Requirement already satisfied: tokenizers<0.19,>=0.14 in /usr/local/lib/python3.10/dist-packages (from transformers) (0.15.2)\n",
            "Requirement already satisfied: safetensors>=0.4.1 in /usr/local/lib/python3.10/dist-packages (from transformers) (0.4.2)\n",
            "Requirement already satisfied: tqdm>=4.27 in /usr/local/lib/python3.10/dist-packages (from transformers) (4.66.2)\n",
            "Requirement already satisfied: fsspec>=2023.5.0 in /usr/local/lib/python3.10/dist-packages (from huggingface-hub<1.0,>=0.19.3->transformers) (2023.6.0)\n",
            "Requirement already satisfied: typing-extensions>=3.7.4.3 in /usr/local/lib/python3.10/dist-packages (from huggingface-hub<1.0,>=0.19.3->transformers) (4.11.0)\n",
            "Requirement already satisfied: charset-normalizer<4,>=2 in /usr/local/lib/python3.10/dist-packages (from requests->transformers) (3.3.2)\n",
            "Requirement already satisfied: idna<4,>=2.5 in /usr/local/lib/python3.10/dist-packages (from requests->transformers) (3.6)\n",
            "Requirement already satisfied: urllib3<3,>=1.21.1 in /usr/local/lib/python3.10/dist-packages (from requests->transformers) (2.0.7)\n",
            "Requirement already satisfied: certifi>=2017.4.17 in /usr/local/lib/python3.10/dist-packages (from requests->transformers) (2024.2.2)\n",
            "Requirement already satisfied: tqdm in /usr/local/lib/python3.10/dist-packages (4.66.2)\n"
          ]
        }
      ]
    },
    {
      "cell_type": "markdown",
      "metadata": {
        "id": "BCzcGoUEf1ks"
      },
      "source": [
        "# 0. Imports\n",
        "\n",
        "En la sección **Imports** agrupamos todas las librerías y clases que debemos importar en esta tarea."
      ]
    },
    {
      "cell_type": "code",
      "metadata": {
        "id": "sF09g3M6fsNO"
      },
      "source": [
        "# import basic libraries for data science\n",
        "import pandas as pd # para manipulación y análisis de datos\n",
        "import numpy as np # para operaciones matemáticas de alto nivel\n",
        "import matplotlib.pyplot as plt # para la visualización de datos\n",
        "\n",
        "# import torch and transformers\n",
        "import torch # el framework principal para operaciones con tensores y redes neuronales\n",
        "from torch import cuda # de PyTorch, para operaciones en GPUs\n",
        "from torch.utils.data import Dataset, DataLoader # para manejar y cargar datos en formato adecuado para entrenar modelos con PyTorch\n",
        "from transformers import AutoModelForSequenceClassification, AutoTokenizer # de la biblioteca transformers, para cargar modelos preentrenados\n",
        "                                                                           # y tokenizadores que se ajustan automáticamente al modelo\n",
        "\n",
        "# import different metrics for evaluation\n",
        "# Para evaluar el rendimiento de modelos de clasificación\n",
        "from sklearn.metrics import confusion_matrix\n",
        "from sklearn.metrics import classification_report, accuracy_score, f1_score\n",
        "\n",
        "# import tqdm to track progress\n",
        "# para mostrar barras de progreso en bucles, facilitando el seguimiento de largas ejecuciones\n",
        "from tqdm import tqdm\n",
        "from tqdm.notebook import tqdm\n",
        "\n",
        "# import some python modules required for some of the utility functions\n",
        "import itertools # ofrece construcciones eficientes de bucles\n",
        "import re # para operaciones de expresiones regulares\n",
        "import os # para interactuar con el sistema operativo, como manejo de archivos y directorios"
      ],
      "execution_count": 39,
      "outputs": []
    },
    {
      "cell_type": "markdown",
      "metadata": {
        "id": "nET1o0yR9d1E"
      },
      "source": [
        "# 1. Functions Utils\n",
        "\n",
        "En la sección **Functions Utils** se encuentran varias funciones de utilidad con sus docstrings que se utilizarán a largo de la implementación para preprocesar y limpiar datos y también evaluar los resultados."
      ]
    },
    {
      "cell_type": "markdown",
      "source": [
        "**1.1. Text Processing and Cleaning Functions**"
      ],
      "metadata": {
        "id": "ulg3BZ0muznr"
      }
    },
    {
      "cell_type": "markdown",
      "source": [
        "**Función: encode_sentiment**\n",
        "\n",
        "````\n",
        "Función que codifica etiquetas de sentimiento textual a formato numérico.\n",
        "\n",
        "Recibe un argumento sentiment, que es una cadena de texto que puede ser \"positive\" o cualquier otro valor que se considerará negativo.\n",
        "\n",
        "Retorna 1 si el sentimiento es \"positive\" y 0 en cualquier otro caso.\n",
        "\n",
        "Esto es útil para convertir datos categóricos de texto en formatos numéricos que pueden ser procesados por algoritmos de aprendizaje automático.\n",
        "\n",
        "````"
      ],
      "metadata": {
        "id": "JOX0Tua6vELy"
      }
    },
    {
      "cell_type": "code",
      "source": [
        "def encode_sentiment(sentiment):\n",
        "  \"\"\"\n",
        "  Label encode sentiment.\n",
        "\n",
        "  Parameters\n",
        "  ----------\n",
        "  sentiment: str, sentiment {\"positive\", \"sentiment\"}\n",
        "\n",
        "  Returns\n",
        "  -------\n",
        "  int, 1's for positive and 0's for negative\n",
        "\n",
        "  \"\"\"\n",
        "  if sentiment == \"positive\":\n",
        "    return 1\n",
        "  else:\n",
        "    return 0"
      ],
      "metadata": {
        "id": "qpLQYX91u7fB"
      },
      "execution_count": 40,
      "outputs": []
    },
    {
      "cell_type": "markdown",
      "source": [
        "**Función: is_ascii**\n",
        "\n",
        "````\n",
        "Función que determina si un carácter es de tipo ASCII.\n",
        "Recibe como parámetro w, que es un carácter en forma de cadena de texto.\n",
        "\n",
        "Retorna True si el carácter puede ser codificado en ASCII, y False si no puede, lo cual indicaría que el carácter incluye símbolos o letras especiales que no están incluidos en la tabla ASCII estándar.\n",
        "\n",
        "Este tipo de función es útil para filtrar o validar textos que deben cumplir con ciertos estándares de codificación.\n",
        "````"
      ],
      "metadata": {
        "id": "bEDTestnvgpE"
      }
    },
    {
      "cell_type": "code",
      "source": [
        "def is_ascii(w):\n",
        "  \"\"\"\n",
        "  Check if character is ascii type.\n",
        "\n",
        "  Parameters\n",
        "  ----------\n",
        "  w: str, character\n",
        "\n",
        "  Returns\n",
        "  -------\n",
        "  bool, True if character is ascii. False otherwise.\n",
        "  \"\"\"\n",
        "  try:\n",
        "    w.encode(\"ascii\")\n",
        "    return True\n",
        "  except UnicodeEncodeError:\n",
        "    return False"
      ],
      "metadata": {
        "id": "5hoZOAu7u91r"
      },
      "execution_count": 41,
      "outputs": []
    },
    {
      "cell_type": "markdown",
      "source": [
        "**Función: text_cleaning**\n",
        "````\n",
        "Función que utiliza para limpiar un texto de símbolos, puntuación y otros elementos no deseados, facilitando su procesamiento posterior en tareas de análisis de texto. La función text_cleaning realiza las siguientes operaciones sobre el texto que recibe como parámetro text:\n",
        "\n",
        "1. Eliminar formatos de cadena como saltos de línea (\\n) y tabulaciones (\\t),reemplazándolos por un punto y espacio para mantener la separación de las sentencias.\n",
        "2. Excluir palabras con caracteres no-ASCII, es decir, filtrar palabras que contengan caracteres especiales o acentuados que no se encuentren en la codificación ASCII estándar.\n",
        "3. Eliminar direcciones de correo electrónico que comienzan con \"@\", y URLs completas que comiencen con \"http\" o \"www\".\n",
        "4. Remover puntuación, manteniendo únicamente puntos y comas para no alterar el fin de las sentencias ni los elementos decimales, y convertir todo el texto a minúsculas para homogeneizar la capitalización.\n",
        "\n",
        "El resultado es un texto limpio (cleaned_text) que solamente contiene palabras en letras minúsculas y caracteres ASCII, con puntos y comas como única puntuación, lo cual simplifica análisis posteriores como la tokenización o el modelado de lenguaje natural.\n",
        "````\n"
      ],
      "metadata": {
        "id": "WofP2NKowL3O"
      }
    },
    {
      "cell_type": "code",
      "source": [
        "def text_cleaning(text):\n",
        "  \"\"\"\n",
        "  Clean text from symbols, punctuation, etc.\n",
        "\n",
        "  Parameters\n",
        "  ----------\n",
        "  text: string, text data\n",
        "\n",
        "  Returns\n",
        "  -------\n",
        "  cleaned_text: string, cleaned text data\n",
        "  \"\"\"\n",
        "  # remove string formatting '\\n' or '\\t'\n",
        "  tmp_text = re.sub(r'\\n+', '. ', text)\n",
        "  tmp_text = re.sub(r'\\t+', '. ', text)\n",
        "  # remove words with non-ascii characters\n",
        "  tmp_text = \" \".join([word for word in tmp_text.split() if is_ascii(word)])\n",
        "  # remove email address\n",
        "  tmp_text = \" \".join([word for word in tmp_text.split() if not word.startswith(\"@\")])\n",
        "  # remove urls\n",
        "  tmp_text = re.sub(r'http\\S+', '', tmp_text, flags=re.MULTILINE)\n",
        "  tmp_text = re.sub(r'www\\S+', '', tmp_text, flags=re.MULTILINE)\n",
        "  # remove punctuation but . (to split sentences)\n",
        "  cleaned_text = re.sub('[^A-Za-z.,]+', ' ', tmp_text)\n",
        "  # lowercase\n",
        "  cleaned_text = cleaned_text.lower()\n",
        "\n",
        "  return cleaned_text"
      ],
      "metadata": {
        "id": "FaVkWnBKvBgT"
      },
      "execution_count": 42,
      "outputs": []
    },
    {
      "cell_type": "markdown",
      "source": [
        "**1.2. Evaluation Functions**"
      ],
      "metadata": {
        "id": "o-xCHmgkx_HV"
      }
    },
    {
      "cell_type": "markdown",
      "source": [
        "**Función: plot_confusion_matrix**\n",
        "\n",
        "````\n",
        "Función que permite visualizar la matriz de confusión de un modelo de clasificación, que ayuda a evaluar su precisión.\n",
        "Puede normalizar la matriz para comparar proporciones y utiliza un mapa de colores para representar los valores.\n",
        "\n",
        "Los elementos de la matriz se anotan con valores numéricos, ajustando el color del texto para mejorar la legibilidad según el fondo.\n",
        "\n",
        "Nota:\n",
        "interpolation='nearest': Este argumento especifica el método de interpolación para renderizar la imagen.\n",
        "La opción 'nearest' utiliza el valor del píxel más cercano para colorear cada píxel visualizado, lo que ayuda a mantener\n",
        "la fidelidad de los valores originales sin suavizarlos. Esto es ideal para visualizar claramente cada valor de la matriz sin efectos de interpolación entre píxeles.\n",
        "\n",
        "````"
      ],
      "metadata": {
        "id": "7sRZ0fNryQds"
      }
    },
    {
      "cell_type": "code",
      "source": [
        "def plot_confusion_matrix(cm, classes,\n",
        "                          normalize=False,\n",
        "                          title='Confusion Matrix',\n",
        "                          cmap=plt.cm.Blues):\n",
        "    \"\"\"\n",
        "    This function prints and plots the confusion matrix.\n",
        "    Normalization can be applied by setting `normalize=True`.\n",
        "    \"\"\"\n",
        "    if normalize:\n",
        "        cm = cm.astype('float') / cm.sum(axis=1)[:, np.newaxis]\n",
        "\n",
        "    plt.imshow(cm, interpolation='nearest', cmap=cmap)\n",
        "    plt.title(title)\n",
        "    plt.colorbar()\n",
        "    tick_marks = np.arange(len(classes))\n",
        "    plt.xticks(tick_marks, classes, rotation=45)\n",
        "    plt.yticks(tick_marks, classes)\n",
        "\n",
        "    fmt = '.2f' if normalize else 'd'\n",
        "    thresh = cm.max() / 2.\n",
        "    for i, j in itertools.product(range(cm.shape[0]), range(cm.shape[1])):\n",
        "        plt.text(j, i, format(cm[i, j], fmt),\n",
        "                 horizontalalignment=\"center\",\n",
        "                 color=\"white\" if cm[i, j] > thresh else \"black\")\n",
        "\n",
        "    plt.tight_layout()\n",
        "    plt.ylabel('True label',fontsize=15)\n",
        "    plt.xlabel('Predicted label',fontsize=15)"
      ],
      "metadata": {
        "id": "fWcw4HR9zBrf"
      },
      "execution_count": 43,
      "outputs": []
    },
    {
      "cell_type": "markdown",
      "metadata": {
        "id": "VosJQ0fegIjW"
      },
      "source": [
        "# 2. Settings\n",
        "\n",
        "En la sección **Settings** definimos variables y objetos que utilizaremos en el desarrollo y queremos tener agrupados en el mismo lugar."
      ]
    },
    {
      "cell_type": "markdown",
      "source": [
        "**Definición de Variables Clave:**\n",
        "\n",
        "````\n",
        "MAX_LEN = 512: Establece el número máximo de tokens a 512 para los textos que se procesarán, lo cual es importante para definir la longitud de entrada que el modelo puede manejar.\n",
        "\n",
        "BATCH_SIZE = 64: Define el tamaño del lote para el entrenamiento del modelo, lo que afecta directamente la memoria que se consumirá y la velocidad de entrenamiento.\n",
        "\n",
        "SEED = 42: Fija una semilla para el generador de números aleatorios para garantizar resultados reproducibles.\n",
        "\n",
        "````"
      ],
      "metadata": {
        "id": "0QR85w-Z0eZw"
      }
    },
    {
      "cell_type": "code",
      "source": [
        "# Defining some key variables that will be used later on\n",
        "MAX_LEN = 512 # max number of tokens\n",
        "BATCH_SIZE = 64\n",
        "SEED = 42 # for reprodudible results"
      ],
      "metadata": {
        "id": "CfmCG2tm0u11"
      },
      "execution_count": 44,
      "outputs": []
    },
    {
      "cell_type": "markdown",
      "source": [
        "**Inicialización del Tokenizador:**\n",
        "\n",
        "````\n",
        "Carga un tokenizador preentrenado del modelo 'distilbert-base-uncased-finetuned-sst-2-english', que es útil para convertir texto\n",
        "en tokens que el modelo de Transformers puede procesar`\n",
        "````"
      ],
      "metadata": {
        "id": "Xqncqhi10zx_"
      }
    },
    {
      "cell_type": "code",
      "source": [
        "# Initialiaze model tokenizer\n",
        "TOKENIZER = AutoTokenizer.from_pretrained('distilbert-base-uncased-finetuned-sst-2-english')"
      ],
      "metadata": {
        "id": "6hxMGRXx1HDn"
      },
      "execution_count": 45,
      "outputs": []
    },
    {
      "cell_type": "markdown",
      "source": [
        "**Configuración del Dispositivo:**\n",
        "\n",
        "````\n",
        "Determina si se utilizará una GPU (con CUDA) o una CPU para el entrenamiento, dependiendo de la disponibilidad.\n",
        "Esto es crucial para la eficiencia en el entrenamiento, ya que las GPUs permiten una computación más rápida.\n",
        "\n",
        "````"
      ],
      "metadata": {
        "id": "KVpAaNHF1NaX"
      }
    },
    {
      "cell_type": "code",
      "source": [
        "# Setting up the device for GPU usage if available\n",
        "DEVICE = 'cuda' if cuda.is_available() else 'cpu'\n",
        "print(DEVICE)"
      ],
      "metadata": {
        "colab": {
          "base_uri": "https://localhost:8080/"
        },
        "id": "W5g9opJQ1dnU",
        "outputId": "b9511653-fd6d-42f4-8830-ae8216204b39"
      },
      "execution_count": 46,
      "outputs": [
        {
          "output_type": "stream",
          "name": "stdout",
          "text": [
            "cuda\n"
          ]
        }
      ]
    },
    {
      "cell_type": "markdown",
      "metadata": {
        "id": "oNb4a1Gn9vGj"
      },
      "source": [
        "# 3. Data\n",
        "\n",
        "En la sección **Data** necesitamos cargar los datos en un dataframe de pandas, codificar el sentimiento y limpiar el texto.\n",
        "\n",
        "Podeis hacer uso de las funciones de utilidad **encode_sentiment()** y **text_cleaning()**."
      ]
    },
    {
      "cell_type": "markdown",
      "source": [
        "**Explicación del Código**\n",
        "\n",
        "````\n",
        "Carga un conjunto de datos desde un archivo CSV llamado '01_dataset.csv' ubicado en el directorio 'sample_data'.\n",
        "\n",
        "Luego aplica una función de codificación a la columna 'sentiment' de los datos cargados. La función encode_sentiment se utiliza\n",
        "para convertir los valores textuales de la columna 'sentiment' en valores numéricos, específicamente transformando los\n",
        "sentimientos \"positive\" en 1 y cualquier otro sentimiento en 0. Esta codificación es útil para procesos de análisis de\n",
        "datos y modelos de aprendizaje automático que requieren entradas numéricas.\n",
        "\n",
        "Cargar Datos: Se leen los datos del archivo CSV utilizando pd.read_csv() de la biblioteca Pandas y se almacenan en el DataFrame raw_data.\n",
        "\n",
        "Codificar Sentimientos: Se modifica la columna 'sentiment' del DataFrame aplicando la función encode_sentiment a cada elemento.\n",
        "Esto convierte los sentimientos textuales en valores binarios numéricos, facilitando su uso en análisis estadísticos y modelos predictivos.\n",
        "\n",
        "````"
      ],
      "metadata": {
        "id": "lRXGoHNt4wjK"
      }
    },
    {
      "cell_type": "code",
      "metadata": {
        "id": "sfEF5fxD9ubi"
      },
      "source": [
        "### 1. Escribir código para cargar los datos y codificar la columna sentiment.###\n",
        "### Sustituir None por el código necesario ###\n",
        "\n",
        "raw_data = pd.read_csv('01_dataset.csv')\n",
        "\n",
        "# Aplicar a função de codificação na coluna 'sentiment'\n",
        "raw_data['sentiment'] = raw_data['sentiment'].apply(encode_sentiment)"
      ],
      "execution_count": 69,
      "outputs": []
    },
    {
      "cell_type": "markdown",
      "source": [
        "**Explicación del Código**\n",
        "\n",
        "````\n",
        "El método raw_data.info(), se emplea para obtener un resumen conciso del DataFrame raw_data.\n",
        "Este método es extremadamente útil para obtener información fundamental sobre la estructura y las características del DataFrame,\n",
        "especialmente antes de proceder con análisis más detallados o la limpieza de datos.\n",
        "\n",
        "````"
      ],
      "metadata": {
        "id": "EGXNDAIx6dpw"
      }
    },
    {
      "cell_type": "code",
      "source": [
        "raw_data.info()"
      ],
      "metadata": {
        "colab": {
          "base_uri": "https://localhost:8080/"
        },
        "id": "-afGARNy5iAi",
        "outputId": "ffc36e36-6f03-41dd-982b-683f2b61d24e"
      },
      "execution_count": 70,
      "outputs": [
        {
          "output_type": "stream",
          "name": "stdout",
          "text": [
            "<class 'pandas.core.frame.DataFrame'>\n",
            "RangeIndex: 50000 entries, 0 to 49999\n",
            "Data columns (total 2 columns):\n",
            " #   Column     Non-Null Count  Dtype \n",
            "---  ------     --------------  ----- \n",
            " 0   review     50000 non-null  object\n",
            " 1   sentiment  50000 non-null  int64 \n",
            "dtypes: int64(1), object(1)\n",
            "memory usage: 781.4+ KB\n"
          ]
        }
      ]
    },
    {
      "cell_type": "markdown",
      "source": [
        "**Explicación del Código**\n",
        "\n",
        "````\n",
        "El método raw_data.head(10), se emplea para visualizar las primeras 10 filas del DataFrame raw_data.\n",
        "Se pretende obtener una rápida visión general de los datos, especialmente para verificar la estructura inicial del DataFrame,\n",
        "los tipos de datos y las primeras entradas.\n",
        "\n",
        "````"
      ],
      "metadata": {
        "id": "vQZZ_LBN6lb7"
      }
    },
    {
      "cell_type": "code",
      "metadata": {
        "id": "XzINJUisgVSI",
        "colab": {
          "base_uri": "https://localhost:8080/",
          "height": 359
        },
        "outputId": "b9da3390-ba19-4e42-858a-eb7a7f3b00a0"
      },
      "source": [
        "raw_data.head(10)"
      ],
      "execution_count": 71,
      "outputs": [
        {
          "output_type": "execute_result",
          "data": {
            "text/plain": [
              "                                              review  sentiment\n",
              "0  One of the other reviewers has mentioned that ...          1\n",
              "1  A wonderful little production. <br /><br />The...          1\n",
              "2  I thought this was a wonderful way to spend ti...          1\n",
              "3  Basically there's a family where a little boy ...          0\n",
              "4  Petter Mattei's \"Love in the Time of Money\" is...          1\n",
              "5  Probably my all-time favorite movie, a story o...          1\n",
              "6  I sure would like to see a resurrection of a u...          1\n",
              "7  This show was an amazing, fresh & innovative i...          0\n",
              "8  Encouraged by the positive comments about this...          0\n",
              "9  If you like original gut wrenching laughter yo...          1"
            ],
            "text/html": [
              "\n",
              "  <div id=\"df-8c2715e3-5b04-4bd5-b1e8-cbca4547e38a\" class=\"colab-df-container\">\n",
              "    <div>\n",
              "<style scoped>\n",
              "    .dataframe tbody tr th:only-of-type {\n",
              "        vertical-align: middle;\n",
              "    }\n",
              "\n",
              "    .dataframe tbody tr th {\n",
              "        vertical-align: top;\n",
              "    }\n",
              "\n",
              "    .dataframe thead th {\n",
              "        text-align: right;\n",
              "    }\n",
              "</style>\n",
              "<table border=\"1\" class=\"dataframe\">\n",
              "  <thead>\n",
              "    <tr style=\"text-align: right;\">\n",
              "      <th></th>\n",
              "      <th>review</th>\n",
              "      <th>sentiment</th>\n",
              "    </tr>\n",
              "  </thead>\n",
              "  <tbody>\n",
              "    <tr>\n",
              "      <th>0</th>\n",
              "      <td>One of the other reviewers has mentioned that ...</td>\n",
              "      <td>1</td>\n",
              "    </tr>\n",
              "    <tr>\n",
              "      <th>1</th>\n",
              "      <td>A wonderful little production. &lt;br /&gt;&lt;br /&gt;The...</td>\n",
              "      <td>1</td>\n",
              "    </tr>\n",
              "    <tr>\n",
              "      <th>2</th>\n",
              "      <td>I thought this was a wonderful way to spend ti...</td>\n",
              "      <td>1</td>\n",
              "    </tr>\n",
              "    <tr>\n",
              "      <th>3</th>\n",
              "      <td>Basically there's a family where a little boy ...</td>\n",
              "      <td>0</td>\n",
              "    </tr>\n",
              "    <tr>\n",
              "      <th>4</th>\n",
              "      <td>Petter Mattei's \"Love in the Time of Money\" is...</td>\n",
              "      <td>1</td>\n",
              "    </tr>\n",
              "    <tr>\n",
              "      <th>5</th>\n",
              "      <td>Probably my all-time favorite movie, a story o...</td>\n",
              "      <td>1</td>\n",
              "    </tr>\n",
              "    <tr>\n",
              "      <th>6</th>\n",
              "      <td>I sure would like to see a resurrection of a u...</td>\n",
              "      <td>1</td>\n",
              "    </tr>\n",
              "    <tr>\n",
              "      <th>7</th>\n",
              "      <td>This show was an amazing, fresh &amp; innovative i...</td>\n",
              "      <td>0</td>\n",
              "    </tr>\n",
              "    <tr>\n",
              "      <th>8</th>\n",
              "      <td>Encouraged by the positive comments about this...</td>\n",
              "      <td>0</td>\n",
              "    </tr>\n",
              "    <tr>\n",
              "      <th>9</th>\n",
              "      <td>If you like original gut wrenching laughter yo...</td>\n",
              "      <td>1</td>\n",
              "    </tr>\n",
              "  </tbody>\n",
              "</table>\n",
              "</div>\n",
              "    <div class=\"colab-df-buttons\">\n",
              "\n",
              "  <div class=\"colab-df-container\">\n",
              "    <button class=\"colab-df-convert\" onclick=\"convertToInteractive('df-8c2715e3-5b04-4bd5-b1e8-cbca4547e38a')\"\n",
              "            title=\"Convert this dataframe to an interactive table.\"\n",
              "            style=\"display:none;\">\n",
              "\n",
              "  <svg xmlns=\"http://www.w3.org/2000/svg\" height=\"24px\" viewBox=\"0 -960 960 960\">\n",
              "    <path d=\"M120-120v-720h720v720H120Zm60-500h600v-160H180v160Zm220 220h160v-160H400v160Zm0 220h160v-160H400v160ZM180-400h160v-160H180v160Zm440 0h160v-160H620v160ZM180-180h160v-160H180v160Zm440 0h160v-160H620v160Z\"/>\n",
              "  </svg>\n",
              "    </button>\n",
              "\n",
              "  <style>\n",
              "    .colab-df-container {\n",
              "      display:flex;\n",
              "      gap: 12px;\n",
              "    }\n",
              "\n",
              "    .colab-df-convert {\n",
              "      background-color: #E8F0FE;\n",
              "      border: none;\n",
              "      border-radius: 50%;\n",
              "      cursor: pointer;\n",
              "      display: none;\n",
              "      fill: #1967D2;\n",
              "      height: 32px;\n",
              "      padding: 0 0 0 0;\n",
              "      width: 32px;\n",
              "    }\n",
              "\n",
              "    .colab-df-convert:hover {\n",
              "      background-color: #E2EBFA;\n",
              "      box-shadow: 0px 1px 2px rgba(60, 64, 67, 0.3), 0px 1px 3px 1px rgba(60, 64, 67, 0.15);\n",
              "      fill: #174EA6;\n",
              "    }\n",
              "\n",
              "    .colab-df-buttons div {\n",
              "      margin-bottom: 4px;\n",
              "    }\n",
              "\n",
              "    [theme=dark] .colab-df-convert {\n",
              "      background-color: #3B4455;\n",
              "      fill: #D2E3FC;\n",
              "    }\n",
              "\n",
              "    [theme=dark] .colab-df-convert:hover {\n",
              "      background-color: #434B5C;\n",
              "      box-shadow: 0px 1px 3px 1px rgba(0, 0, 0, 0.15);\n",
              "      filter: drop-shadow(0px 1px 2px rgba(0, 0, 0, 0.3));\n",
              "      fill: #FFFFFF;\n",
              "    }\n",
              "  </style>\n",
              "\n",
              "    <script>\n",
              "      const buttonEl =\n",
              "        document.querySelector('#df-8c2715e3-5b04-4bd5-b1e8-cbca4547e38a button.colab-df-convert');\n",
              "      buttonEl.style.display =\n",
              "        google.colab.kernel.accessAllowed ? 'block' : 'none';\n",
              "\n",
              "      async function convertToInteractive(key) {\n",
              "        const element = document.querySelector('#df-8c2715e3-5b04-4bd5-b1e8-cbca4547e38a');\n",
              "        const dataTable =\n",
              "          await google.colab.kernel.invokeFunction('convertToInteractive',\n",
              "                                                    [key], {});\n",
              "        if (!dataTable) return;\n",
              "\n",
              "        const docLinkHtml = 'Like what you see? Visit the ' +\n",
              "          '<a target=\"_blank\" href=https://colab.research.google.com/notebooks/data_table.ipynb>data table notebook</a>'\n",
              "          + ' to learn more about interactive tables.';\n",
              "        element.innerHTML = '';\n",
              "        dataTable['output_type'] = 'display_data';\n",
              "        await google.colab.output.renderOutput(dataTable, element);\n",
              "        const docLink = document.createElement('div');\n",
              "        docLink.innerHTML = docLinkHtml;\n",
              "        element.appendChild(docLink);\n",
              "      }\n",
              "    </script>\n",
              "  </div>\n",
              "\n",
              "\n",
              "<div id=\"df-4b8c240b-877c-4b7d-83c7-b9e9755b4319\">\n",
              "  <button class=\"colab-df-quickchart\" onclick=\"quickchart('df-4b8c240b-877c-4b7d-83c7-b9e9755b4319')\"\n",
              "            title=\"Suggest charts\"\n",
              "            style=\"display:none;\">\n",
              "\n",
              "<svg xmlns=\"http://www.w3.org/2000/svg\" height=\"24px\"viewBox=\"0 0 24 24\"\n",
              "     width=\"24px\">\n",
              "    <g>\n",
              "        <path d=\"M19 3H5c-1.1 0-2 .9-2 2v14c0 1.1.9 2 2 2h14c1.1 0 2-.9 2-2V5c0-1.1-.9-2-2-2zM9 17H7v-7h2v7zm4 0h-2V7h2v10zm4 0h-2v-4h2v4z\"/>\n",
              "    </g>\n",
              "</svg>\n",
              "  </button>\n",
              "\n",
              "<style>\n",
              "  .colab-df-quickchart {\n",
              "      --bg-color: #E8F0FE;\n",
              "      --fill-color: #1967D2;\n",
              "      --hover-bg-color: #E2EBFA;\n",
              "      --hover-fill-color: #174EA6;\n",
              "      --disabled-fill-color: #AAA;\n",
              "      --disabled-bg-color: #DDD;\n",
              "  }\n",
              "\n",
              "  [theme=dark] .colab-df-quickchart {\n",
              "      --bg-color: #3B4455;\n",
              "      --fill-color: #D2E3FC;\n",
              "      --hover-bg-color: #434B5C;\n",
              "      --hover-fill-color: #FFFFFF;\n",
              "      --disabled-bg-color: #3B4455;\n",
              "      --disabled-fill-color: #666;\n",
              "  }\n",
              "\n",
              "  .colab-df-quickchart {\n",
              "    background-color: var(--bg-color);\n",
              "    border: none;\n",
              "    border-radius: 50%;\n",
              "    cursor: pointer;\n",
              "    display: none;\n",
              "    fill: var(--fill-color);\n",
              "    height: 32px;\n",
              "    padding: 0;\n",
              "    width: 32px;\n",
              "  }\n",
              "\n",
              "  .colab-df-quickchart:hover {\n",
              "    background-color: var(--hover-bg-color);\n",
              "    box-shadow: 0 1px 2px rgba(60, 64, 67, 0.3), 0 1px 3px 1px rgba(60, 64, 67, 0.15);\n",
              "    fill: var(--button-hover-fill-color);\n",
              "  }\n",
              "\n",
              "  .colab-df-quickchart-complete:disabled,\n",
              "  .colab-df-quickchart-complete:disabled:hover {\n",
              "    background-color: var(--disabled-bg-color);\n",
              "    fill: var(--disabled-fill-color);\n",
              "    box-shadow: none;\n",
              "  }\n",
              "\n",
              "  .colab-df-spinner {\n",
              "    border: 2px solid var(--fill-color);\n",
              "    border-color: transparent;\n",
              "    border-bottom-color: var(--fill-color);\n",
              "    animation:\n",
              "      spin 1s steps(1) infinite;\n",
              "  }\n",
              "\n",
              "  @keyframes spin {\n",
              "    0% {\n",
              "      border-color: transparent;\n",
              "      border-bottom-color: var(--fill-color);\n",
              "      border-left-color: var(--fill-color);\n",
              "    }\n",
              "    20% {\n",
              "      border-color: transparent;\n",
              "      border-left-color: var(--fill-color);\n",
              "      border-top-color: var(--fill-color);\n",
              "    }\n",
              "    30% {\n",
              "      border-color: transparent;\n",
              "      border-left-color: var(--fill-color);\n",
              "      border-top-color: var(--fill-color);\n",
              "      border-right-color: var(--fill-color);\n",
              "    }\n",
              "    40% {\n",
              "      border-color: transparent;\n",
              "      border-right-color: var(--fill-color);\n",
              "      border-top-color: var(--fill-color);\n",
              "    }\n",
              "    60% {\n",
              "      border-color: transparent;\n",
              "      border-right-color: var(--fill-color);\n",
              "    }\n",
              "    80% {\n",
              "      border-color: transparent;\n",
              "      border-right-color: var(--fill-color);\n",
              "      border-bottom-color: var(--fill-color);\n",
              "    }\n",
              "    90% {\n",
              "      border-color: transparent;\n",
              "      border-bottom-color: var(--fill-color);\n",
              "    }\n",
              "  }\n",
              "</style>\n",
              "\n",
              "  <script>\n",
              "    async function quickchart(key) {\n",
              "      const quickchartButtonEl =\n",
              "        document.querySelector('#' + key + ' button');\n",
              "      quickchartButtonEl.disabled = true;  // To prevent multiple clicks.\n",
              "      quickchartButtonEl.classList.add('colab-df-spinner');\n",
              "      try {\n",
              "        const charts = await google.colab.kernel.invokeFunction(\n",
              "            'suggestCharts', [key], {});\n",
              "      } catch (error) {\n",
              "        console.error('Error during call to suggestCharts:', error);\n",
              "      }\n",
              "      quickchartButtonEl.classList.remove('colab-df-spinner');\n",
              "      quickchartButtonEl.classList.add('colab-df-quickchart-complete');\n",
              "    }\n",
              "    (() => {\n",
              "      let quickchartButtonEl =\n",
              "        document.querySelector('#df-4b8c240b-877c-4b7d-83c7-b9e9755b4319 button');\n",
              "      quickchartButtonEl.style.display =\n",
              "        google.colab.kernel.accessAllowed ? 'block' : 'none';\n",
              "    })();\n",
              "  </script>\n",
              "</div>\n",
              "    </div>\n",
              "  </div>\n"
            ],
            "application/vnd.google.colaboratory.intrinsic+json": {
              "type": "dataframe",
              "variable_name": "raw_data",
              "summary": "{\n  \"name\": \"raw_data\",\n  \"rows\": 50000,\n  \"fields\": [\n    {\n      \"column\": \"review\",\n      \"properties\": {\n        \"dtype\": \"string\",\n        \"num_unique_values\": 49582,\n        \"samples\": [\n          \"\\\"Soul Plane\\\" is a horrible attempt at comedy that only should appeal people with thick skulls, bloodshot eyes and furry pawns. <br /><br />The plot is not only incoherent but also non-existent, acting is mostly sub sub-par with a gang of highly moronic and dreadful characters thrown in for bad measure, jokes are often spotted miles ahead and almost never even a bit amusing. This movie lacks any structure and is full of racial stereotypes that must have seemed old even in the fifties, the only thing it really has going for it is some pretty ladies, but really, if you want that you can rent something from the \\\"Adult\\\" section. OK?<br /><br />I can hardly see anything here to recommend since you'll probably have a lot a better and productive time chasing rats with a sledgehammer or inventing waterproof teabags or whatever.<br /><br />2/10\",\n          \"Guest from the Future tells a fascinating story of time travel, friendship, battle of good and evil -- all with a small budget, child actors, and few special effects. Something for Spielberg and Lucas to learn from. ;) A sixth-grader Kolya \\\"Nick\\\" Gerasimov finds a time machine in the basement of a decrepit building and travels 100 years into the future. He discovers a near-perfect, utopian society where robots play guitars and write poetry, everyone is kind to each other and people enjoy everything technology has to offer. Alice is the daughter of a prominent scientist who invented a device called Mielophone that allows to read minds of humans and animals. The device can be put to both good and bad use, depending on whose hands it falls into. When two evil space pirates from Saturn who want to rule the universe attempt to steal Mielophone, it falls into the hands of 20th century school boy Nick. With the pirates hot on his tracks, he travels back to his time, followed by the pirates, and Alice. Chaos, confusion and funny situations follow as the luckless pirates try to blend in with the earthlings. Alice enrolls in the same school Nick goes to and demonstrates superhuman abilities in PE class. The catch is, Alice doesn't know what Nick looks like, while the pirates do. Also, the pirates are able to change their appearance and turn literally into anyone. (Hmm, I wonder if this is where James Cameron got the idea for Terminator...) Who gets to Nick -- and Mielophone -- first? Excellent plot, non-stop adventures, and great soundtrack. I wish Hollywood made kid movies like this one...\",\n          \"\\\"National Treasure\\\" (2004) is a thoroughly misguided hodge-podge of plot entanglements that borrow from nearly every cloak and dagger government conspiracy clich\\u00e9 that has ever been written. The film stars Nicholas Cage as Benjamin Franklin Gates (how precious is that, I ask you?); a seemingly normal fellow who, for no other reason than being of a lineage of like-minded misguided fortune hunters, decides to steal a 'national treasure' that has been hidden by the United States founding fathers. After a bit of subtext and background that plays laughably (unintentionally) like Indiana Jones meets The Patriot, the film degenerates into one misguided whimsy after another \\u0096 attempting to create a 'Stanley Goodspeed' regurgitation of Nicholas Cage and launch the whole convoluted mess forward with a series of high octane, but disconnected misadventures.<br /><br />The relevancy and logic to having George Washington and his motley crew of patriots burying a king's ransom someplace on native soil, and then, going through the meticulous plan of leaving clues scattered throughout U.S. currency art work, is something that director Jon Turteltaub never quite gets around to explaining. Couldn't Washington found better usage for such wealth during the start up of the country? Hence, we are left with a mystery built on top of an enigma that is already on shaky ground by the time Ben appoints himself the new custodian of this untold wealth. Ben's intentions are noble \\u0096 if confusing. He's set on protecting the treasure. For who and when?\\u0085your guess is as good as mine.<br /><br />But there are a few problems with Ben's crusade. First up, his friend, Ian Holmes (Sean Bean) decides that he can't wait for Ben to make up his mind about stealing the Declaration of Independence from the National Archives (oh, yeah \\u0096 brilliant idea!). Presumably, the back of that famous document holds the secret answer to the ultimate fortune. So Ian tries to kill Ben. The assassination attempt is, of course, unsuccessful, if overly melodramatic. It also affords Ben the opportunity to pick up, and pick on, the very sultry curator of the archives, Abigail Chase (Diane Kruger). She thinks Ben is clearly a nut \\u0096 at least at the beginning. But true to action/romance form, Abby's resolve melts quicker than you can say, \\\"is that the Hope Diamond?\\\" The film moves into full X-File-ish mode, as the FBI, mistakenly believing that Ben is behind the theft, retaliate in various benign ways that lead to a multi-layering of action sequences reminiscent of Mission Impossible meets The Fugitive. Honestly, don't those guys ever get 'intelligence' information that is correct? In the final analysis, \\\"National Treasure\\\" isn't great film making, so much as it's a patchwork rehash of tired old bits from other movies, woven together from scraps, the likes of which would make IL' Betsy Ross blush.<br /><br />The Buena Vista DVD delivers a far more generous treatment than this film is deserving of. The anamorphic widescreen picture exhibits a very smooth and finely detailed image with very rich colors, natural flesh tones, solid blacks and clean whites. The stylized image is also free of blemishes and digital enhancements. The audio is 5.1 and delivers a nice sonic boom to your side and rear speakers with intensity and realism. Extras include a host of promotional junket material that is rather deep and over the top in its explanation of how and why this film was made. If only, as an audience, we had had more clarification as to why Ben and co. were chasing after an illusive treasure, this might have been one good flick. Extras conclude with the theatrical trailer, audio commentary and deleted scenes. Not for the faint-hearted \\u0096 just the thick-headed.\"\n        ],\n        \"semantic_type\": \"\",\n        \"description\": \"\"\n      }\n    },\n    {\n      \"column\": \"sentiment\",\n      \"properties\": {\n        \"dtype\": \"number\",\n        \"std\": 0,\n        \"min\": 0,\n        \"max\": 1,\n        \"num_unique_values\": 2,\n        \"samples\": [\n          0,\n          1\n        ],\n        \"semantic_type\": \"\",\n        \"description\": \"\"\n      }\n    }\n  ]\n}"
            }
          },
          "metadata": {},
          "execution_count": 71
        }
      ]
    },
    {
      "cell_type": "markdown",
      "source": [
        "**Explicación del Código**\n",
        "\n",
        "````\n",
        "Para contar cuántos sentimientos son representados por 0 (negativos) y cuántos por 1 (positivos) en un DataFrame de pandas,\n",
        "se utiliza el método value_counts() aplicado a la columna correspondiente, que en tu caso es 'sentiment'.\n",
        "\n",
        "````"
      ],
      "metadata": {
        "id": "mxVu99Id6nMc"
      }
    },
    {
      "cell_type": "code",
      "source": [
        "df = pd.DataFrame(raw_data)\n",
        "\n",
        "# Aplicando value_counts() na coluna 'sentiment'\n",
        "sentiment_counts = df['sentiment'].value_counts()\n",
        "\n",
        "# Imprimindo o resultado\n",
        "print(sentiment_counts)"
      ],
      "metadata": {
        "colab": {
          "base_uri": "https://localhost:8080/"
        },
        "id": "5nfHA3Yz59LZ",
        "outputId": "ee2af4bd-058f-4eae-ebda-7e50dcc19a2c"
      },
      "execution_count": 72,
      "outputs": [
        {
          "output_type": "stream",
          "name": "stdout",
          "text": [
            "sentiment\n",
            "1    25000\n",
            "0    25000\n",
            "Name: count, dtype: int64\n"
          ]
        }
      ]
    },
    {
      "cell_type": "markdown",
      "source": [
        "**Explicación del Código**\n",
        "\n",
        "````\n",
        "Copia un DataFrame, limpia la columna 'review' usando la función text_cleaning() para eliminar caracteres indeseados\n",
        "y normalizar el texto, y muestra las primeras 10 filas del resultado para verificar la limpieza aplicada.\n",
        "\n",
        "````"
      ],
      "metadata": {
        "id": "YITEhyJo9_rh"
      }
    },
    {
      "cell_type": "code",
      "metadata": {
        "id": "bf70PkZF_ikL",
        "colab": {
          "base_uri": "https://localhost:8080/",
          "height": 359
        },
        "outputId": "39b50871-2f09-4ca1-c199-b83c1aa5c892"
      },
      "source": [
        "### 2. Escribir código para limpiar el texto utilizando la función text_cleaning() ###\n",
        "### Sustituir None por el código necesario ###\n",
        "\n",
        "# Crear una copia del DataFrame original para aplicar la limpieza\n",
        "cleaned_data = raw_data.copy()\n",
        "\n",
        "# Aplicar la función 'text_cleaning' en la columna 'review'\n",
        "cleaned_data[\"review\"] = cleaned_data[\"review\"].apply(text_cleaning)\n",
        "\n",
        "cleaned_data.head(10)"
      ],
      "execution_count": 73,
      "outputs": [
        {
          "output_type": "execute_result",
          "data": {
            "text/plain": [
              "                                              review  sentiment\n",
              "0  one of the other reviewers has mentioned that ...          1\n",
              "1  a wonderful little production. br br the filmi...          1\n",
              "2  i thought this was a wonderful way to spend ti...          1\n",
              "3  basically there s a family where a little boy ...          0\n",
              "4  petter mattei s love in the time of money is a...          1\n",
              "5  probably my all time favorite movie, a story o...          1\n",
              "6  i sure would like to see a resurrection of a u...          1\n",
              "7  this show was an amazing, fresh innovative ide...          0\n",
              "8  encouraged by the positive comments about this...          0\n",
              "9  if you like original gut wrenching laughter yo...          1"
            ],
            "text/html": [
              "\n",
              "  <div id=\"df-61824c9b-8dfd-4204-a23d-fe8c6b0ec275\" class=\"colab-df-container\">\n",
              "    <div>\n",
              "<style scoped>\n",
              "    .dataframe tbody tr th:only-of-type {\n",
              "        vertical-align: middle;\n",
              "    }\n",
              "\n",
              "    .dataframe tbody tr th {\n",
              "        vertical-align: top;\n",
              "    }\n",
              "\n",
              "    .dataframe thead th {\n",
              "        text-align: right;\n",
              "    }\n",
              "</style>\n",
              "<table border=\"1\" class=\"dataframe\">\n",
              "  <thead>\n",
              "    <tr style=\"text-align: right;\">\n",
              "      <th></th>\n",
              "      <th>review</th>\n",
              "      <th>sentiment</th>\n",
              "    </tr>\n",
              "  </thead>\n",
              "  <tbody>\n",
              "    <tr>\n",
              "      <th>0</th>\n",
              "      <td>one of the other reviewers has mentioned that ...</td>\n",
              "      <td>1</td>\n",
              "    </tr>\n",
              "    <tr>\n",
              "      <th>1</th>\n",
              "      <td>a wonderful little production. br br the filmi...</td>\n",
              "      <td>1</td>\n",
              "    </tr>\n",
              "    <tr>\n",
              "      <th>2</th>\n",
              "      <td>i thought this was a wonderful way to spend ti...</td>\n",
              "      <td>1</td>\n",
              "    </tr>\n",
              "    <tr>\n",
              "      <th>3</th>\n",
              "      <td>basically there s a family where a little boy ...</td>\n",
              "      <td>0</td>\n",
              "    </tr>\n",
              "    <tr>\n",
              "      <th>4</th>\n",
              "      <td>petter mattei s love in the time of money is a...</td>\n",
              "      <td>1</td>\n",
              "    </tr>\n",
              "    <tr>\n",
              "      <th>5</th>\n",
              "      <td>probably my all time favorite movie, a story o...</td>\n",
              "      <td>1</td>\n",
              "    </tr>\n",
              "    <tr>\n",
              "      <th>6</th>\n",
              "      <td>i sure would like to see a resurrection of a u...</td>\n",
              "      <td>1</td>\n",
              "    </tr>\n",
              "    <tr>\n",
              "      <th>7</th>\n",
              "      <td>this show was an amazing, fresh innovative ide...</td>\n",
              "      <td>0</td>\n",
              "    </tr>\n",
              "    <tr>\n",
              "      <th>8</th>\n",
              "      <td>encouraged by the positive comments about this...</td>\n",
              "      <td>0</td>\n",
              "    </tr>\n",
              "    <tr>\n",
              "      <th>9</th>\n",
              "      <td>if you like original gut wrenching laughter yo...</td>\n",
              "      <td>1</td>\n",
              "    </tr>\n",
              "  </tbody>\n",
              "</table>\n",
              "</div>\n",
              "    <div class=\"colab-df-buttons\">\n",
              "\n",
              "  <div class=\"colab-df-container\">\n",
              "    <button class=\"colab-df-convert\" onclick=\"convertToInteractive('df-61824c9b-8dfd-4204-a23d-fe8c6b0ec275')\"\n",
              "            title=\"Convert this dataframe to an interactive table.\"\n",
              "            style=\"display:none;\">\n",
              "\n",
              "  <svg xmlns=\"http://www.w3.org/2000/svg\" height=\"24px\" viewBox=\"0 -960 960 960\">\n",
              "    <path d=\"M120-120v-720h720v720H120Zm60-500h600v-160H180v160Zm220 220h160v-160H400v160Zm0 220h160v-160H400v160ZM180-400h160v-160H180v160Zm440 0h160v-160H620v160ZM180-180h160v-160H180v160Zm440 0h160v-160H620v160Z\"/>\n",
              "  </svg>\n",
              "    </button>\n",
              "\n",
              "  <style>\n",
              "    .colab-df-container {\n",
              "      display:flex;\n",
              "      gap: 12px;\n",
              "    }\n",
              "\n",
              "    .colab-df-convert {\n",
              "      background-color: #E8F0FE;\n",
              "      border: none;\n",
              "      border-radius: 50%;\n",
              "      cursor: pointer;\n",
              "      display: none;\n",
              "      fill: #1967D2;\n",
              "      height: 32px;\n",
              "      padding: 0 0 0 0;\n",
              "      width: 32px;\n",
              "    }\n",
              "\n",
              "    .colab-df-convert:hover {\n",
              "      background-color: #E2EBFA;\n",
              "      box-shadow: 0px 1px 2px rgba(60, 64, 67, 0.3), 0px 1px 3px 1px rgba(60, 64, 67, 0.15);\n",
              "      fill: #174EA6;\n",
              "    }\n",
              "\n",
              "    .colab-df-buttons div {\n",
              "      margin-bottom: 4px;\n",
              "    }\n",
              "\n",
              "    [theme=dark] .colab-df-convert {\n",
              "      background-color: #3B4455;\n",
              "      fill: #D2E3FC;\n",
              "    }\n",
              "\n",
              "    [theme=dark] .colab-df-convert:hover {\n",
              "      background-color: #434B5C;\n",
              "      box-shadow: 0px 1px 3px 1px rgba(0, 0, 0, 0.15);\n",
              "      filter: drop-shadow(0px 1px 2px rgba(0, 0, 0, 0.3));\n",
              "      fill: #FFFFFF;\n",
              "    }\n",
              "  </style>\n",
              "\n",
              "    <script>\n",
              "      const buttonEl =\n",
              "        document.querySelector('#df-61824c9b-8dfd-4204-a23d-fe8c6b0ec275 button.colab-df-convert');\n",
              "      buttonEl.style.display =\n",
              "        google.colab.kernel.accessAllowed ? 'block' : 'none';\n",
              "\n",
              "      async function convertToInteractive(key) {\n",
              "        const element = document.querySelector('#df-61824c9b-8dfd-4204-a23d-fe8c6b0ec275');\n",
              "        const dataTable =\n",
              "          await google.colab.kernel.invokeFunction('convertToInteractive',\n",
              "                                                    [key], {});\n",
              "        if (!dataTable) return;\n",
              "\n",
              "        const docLinkHtml = 'Like what you see? Visit the ' +\n",
              "          '<a target=\"_blank\" href=https://colab.research.google.com/notebooks/data_table.ipynb>data table notebook</a>'\n",
              "          + ' to learn more about interactive tables.';\n",
              "        element.innerHTML = '';\n",
              "        dataTable['output_type'] = 'display_data';\n",
              "        await google.colab.output.renderOutput(dataTable, element);\n",
              "        const docLink = document.createElement('div');\n",
              "        docLink.innerHTML = docLinkHtml;\n",
              "        element.appendChild(docLink);\n",
              "      }\n",
              "    </script>\n",
              "  </div>\n",
              "\n",
              "\n",
              "<div id=\"df-5c58774d-4fbf-4535-99cd-9a5c94c5a5e6\">\n",
              "  <button class=\"colab-df-quickchart\" onclick=\"quickchart('df-5c58774d-4fbf-4535-99cd-9a5c94c5a5e6')\"\n",
              "            title=\"Suggest charts\"\n",
              "            style=\"display:none;\">\n",
              "\n",
              "<svg xmlns=\"http://www.w3.org/2000/svg\" height=\"24px\"viewBox=\"0 0 24 24\"\n",
              "     width=\"24px\">\n",
              "    <g>\n",
              "        <path d=\"M19 3H5c-1.1 0-2 .9-2 2v14c0 1.1.9 2 2 2h14c1.1 0 2-.9 2-2V5c0-1.1-.9-2-2-2zM9 17H7v-7h2v7zm4 0h-2V7h2v10zm4 0h-2v-4h2v4z\"/>\n",
              "    </g>\n",
              "</svg>\n",
              "  </button>\n",
              "\n",
              "<style>\n",
              "  .colab-df-quickchart {\n",
              "      --bg-color: #E8F0FE;\n",
              "      --fill-color: #1967D2;\n",
              "      --hover-bg-color: #E2EBFA;\n",
              "      --hover-fill-color: #174EA6;\n",
              "      --disabled-fill-color: #AAA;\n",
              "      --disabled-bg-color: #DDD;\n",
              "  }\n",
              "\n",
              "  [theme=dark] .colab-df-quickchart {\n",
              "      --bg-color: #3B4455;\n",
              "      --fill-color: #D2E3FC;\n",
              "      --hover-bg-color: #434B5C;\n",
              "      --hover-fill-color: #FFFFFF;\n",
              "      --disabled-bg-color: #3B4455;\n",
              "      --disabled-fill-color: #666;\n",
              "  }\n",
              "\n",
              "  .colab-df-quickchart {\n",
              "    background-color: var(--bg-color);\n",
              "    border: none;\n",
              "    border-radius: 50%;\n",
              "    cursor: pointer;\n",
              "    display: none;\n",
              "    fill: var(--fill-color);\n",
              "    height: 32px;\n",
              "    padding: 0;\n",
              "    width: 32px;\n",
              "  }\n",
              "\n",
              "  .colab-df-quickchart:hover {\n",
              "    background-color: var(--hover-bg-color);\n",
              "    box-shadow: 0 1px 2px rgba(60, 64, 67, 0.3), 0 1px 3px 1px rgba(60, 64, 67, 0.15);\n",
              "    fill: var(--button-hover-fill-color);\n",
              "  }\n",
              "\n",
              "  .colab-df-quickchart-complete:disabled,\n",
              "  .colab-df-quickchart-complete:disabled:hover {\n",
              "    background-color: var(--disabled-bg-color);\n",
              "    fill: var(--disabled-fill-color);\n",
              "    box-shadow: none;\n",
              "  }\n",
              "\n",
              "  .colab-df-spinner {\n",
              "    border: 2px solid var(--fill-color);\n",
              "    border-color: transparent;\n",
              "    border-bottom-color: var(--fill-color);\n",
              "    animation:\n",
              "      spin 1s steps(1) infinite;\n",
              "  }\n",
              "\n",
              "  @keyframes spin {\n",
              "    0% {\n",
              "      border-color: transparent;\n",
              "      border-bottom-color: var(--fill-color);\n",
              "      border-left-color: var(--fill-color);\n",
              "    }\n",
              "    20% {\n",
              "      border-color: transparent;\n",
              "      border-left-color: var(--fill-color);\n",
              "      border-top-color: var(--fill-color);\n",
              "    }\n",
              "    30% {\n",
              "      border-color: transparent;\n",
              "      border-left-color: var(--fill-color);\n",
              "      border-top-color: var(--fill-color);\n",
              "      border-right-color: var(--fill-color);\n",
              "    }\n",
              "    40% {\n",
              "      border-color: transparent;\n",
              "      border-right-color: var(--fill-color);\n",
              "      border-top-color: var(--fill-color);\n",
              "    }\n",
              "    60% {\n",
              "      border-color: transparent;\n",
              "      border-right-color: var(--fill-color);\n",
              "    }\n",
              "    80% {\n",
              "      border-color: transparent;\n",
              "      border-right-color: var(--fill-color);\n",
              "      border-bottom-color: var(--fill-color);\n",
              "    }\n",
              "    90% {\n",
              "      border-color: transparent;\n",
              "      border-bottom-color: var(--fill-color);\n",
              "    }\n",
              "  }\n",
              "</style>\n",
              "\n",
              "  <script>\n",
              "    async function quickchart(key) {\n",
              "      const quickchartButtonEl =\n",
              "        document.querySelector('#' + key + ' button');\n",
              "      quickchartButtonEl.disabled = true;  // To prevent multiple clicks.\n",
              "      quickchartButtonEl.classList.add('colab-df-spinner');\n",
              "      try {\n",
              "        const charts = await google.colab.kernel.invokeFunction(\n",
              "            'suggestCharts', [key], {});\n",
              "      } catch (error) {\n",
              "        console.error('Error during call to suggestCharts:', error);\n",
              "      }\n",
              "      quickchartButtonEl.classList.remove('colab-df-spinner');\n",
              "      quickchartButtonEl.classList.add('colab-df-quickchart-complete');\n",
              "    }\n",
              "    (() => {\n",
              "      let quickchartButtonEl =\n",
              "        document.querySelector('#df-5c58774d-4fbf-4535-99cd-9a5c94c5a5e6 button');\n",
              "      quickchartButtonEl.style.display =\n",
              "        google.colab.kernel.accessAllowed ? 'block' : 'none';\n",
              "    })();\n",
              "  </script>\n",
              "</div>\n",
              "    </div>\n",
              "  </div>\n"
            ],
            "application/vnd.google.colaboratory.intrinsic+json": {
              "type": "dataframe",
              "variable_name": "cleaned_data",
              "summary": "{\n  \"name\": \"cleaned_data\",\n  \"rows\": 50000,\n  \"fields\": [\n    {\n      \"column\": \"review\",\n      \"properties\": {\n        \"dtype\": \"string\",\n        \"num_unique_values\": 49580,\n        \"samples\": [\n          \"this movie was a modern day scarface.it had me on my toes.this movie is one of those rare epic films that makes you want a sequel.i especially liked damian chapa his performance deserved an academy award,which he deserved for his performance in blood in blood out.the only thing i didn t like was the behind the scenes because it didn t show the intensity that the movie had,and i would have like to have seen less narrated scenes.but the movie was great and it is in my top ten movies of all time.plus the acting was great there wasn t a bad scene in the movie,i loved it ,jennifer tilly was perfect as well as all of the cast.i can t see how anyone wouldn t like this movie it was a great.definitely a must see.\",\n          \" extreme makeover home edition is yet another feel goody , so called heart warming , and out for ratings show that abc has had the time to put together. br br i understand the troubles that these families go through. for that, i am sorry. but wouldn t you think that putting four wide screen plasma televisions, three flat screen desktop computers, an inground pool taking up half of a backyard, and closets full of expensive designer clothing is a bit too excessive for any family sure, these families have been through a lot. sure, they deserve nicer things that what they had previously had. br br but honestly, the things that ty pennington and his crew put into these houses are enough to suit an entire neighborhood. br br another thing that really irks me about this show is how ty and his crew always have something good to say about every little thing that relates to the family, or the family s condition. telling a wheelchair bound person that he or she is so strong , or very brave really does get old after a while. that may sound rude, but believe me watch this show, and you ll see what i mean. br br all in all, this show is overrated. if you want to watch it, go ahead. this comment is just a heads up for what you d be watching.\",\n          \"whale hunters pick on the wrong freaking whale. br br a group of yahoo whale exploitists capture a female and string her up by her tail fin. the whale s mate sees the whole thing including the moment the female s unborn baby slips out and slops onto the deck. captain nolan richard harris could tell that the big male is really mad by the way it stared him down as if to say, get out of town before high tide. br br this story of revenge has harris presence and bo s beauty, but not much else. this was bo s first released film, though her first acting job was four years previous in and once upon a love released in as fantasies directed by john derek . br br p.s. today, the date of this review november , is bo derek s birthday. i hope bo has a whale of a good time..... get it ..... whale ..... hee hee.\"\n        ],\n        \"semantic_type\": \"\",\n        \"description\": \"\"\n      }\n    },\n    {\n      \"column\": \"sentiment\",\n      \"properties\": {\n        \"dtype\": \"number\",\n        \"std\": 0,\n        \"min\": 0,\n        \"max\": 1,\n        \"num_unique_values\": 2,\n        \"samples\": [\n          0,\n          1\n        ],\n        \"semantic_type\": \"\",\n        \"description\": \"\"\n      }\n    }\n  ]\n}"
            }
          },
          "metadata": {},
          "execution_count": 73
        }
      ]
    },
    {
      "cell_type": "markdown",
      "metadata": {
        "id": "fYFL3kpfhGfY"
      },
      "source": [
        "# 4. Dataset and Dataloader\n",
        "\n",
        "En la sección **Dataset and Dataloader** vamos a crear un dataset de Pytorch del tipo map-iterable que utilizaremos para almacenar los datos y procesarlos de acuerdo a los requirimientos del modelo.\n",
        "\n",
        "Después creamos un objeto **DataLoader** de Pytorch que toma el dataset para poder pasar ejemplos al modelo en lotes o batches.\n",
        "\n",
        "---\n",
        "\n",
        "__Clase DistilBertDataset__\n",
        "\n",
        "La clase **DistilBertDataset** toma como argumentos un dataframe con los datos, el tokenizador del modelo y el número de máximo de tokens que definimos en la sección **Config**.\n",
        "\n",
        "El método **__getitem__()** toma como parámetro un índice de los datos en el dataset, extrae el ejemplo correspondiente del dataframe y utiliza la función **encode_plus()** del tokenizador para procesar los inputs de acuerdo a los requerimientos de DistilBERT ( special tokens [CLS] y [SEP], truncation, padding, etc.). Este método devuelve un diccionario de python con los tensores que continen los inputs ids, los attention masks y el sentimiento codificado.\n",
        "\n",
        "El método **__len__()** simplemente devuelve el número de ejemplos en el dataset.\n",
        "\n",
        "---\n",
        "\n",
        "__DataLoader__\n",
        "\n",
        "El **DataLoader** viene a ser un generador que devulve lotes de tamaño `BATCH_SIZE` para alimentar el modelo.\n",
        "\n",
        "En sus parámetros podemos definir el tamaño de lote o batch size, si seleccionar de forma aleatoria los ejemplos a incluir en el batch o no (recomendable al realizar un entrenamiento) y también el número de workers a utilizar (2 para Google Colab).\n",
        "\n",
        "---"
      ]
    },
    {
      "cell_type": "code",
      "metadata": {
        "id": "QgA9BXnjhlAj"
      },
      "source": [
        "class DistilBertDataset(Dataset):\n",
        "    \"\"\"Custom pytorch map-iterable dataset for sentiment analysis with DistilBERT.\"\"\"\n",
        "\n",
        "    def __init__(self, dataframe, tokenizer, max_len):\n",
        "        # Initialize the dataset with the input dataframe, tokenizer, and maximum token length\n",
        "        self.len = len(dataframe)  # Stores the number of rows in the dataframe\n",
        "        self.data = dataframe  # Stores the dataframe passed as a parameter\n",
        "        self.tokenizer = tokenizer  # Stores the tokenizer passed as a parameter\n",
        "        self.max_len = max_len  # Stores the maximum length of tokenization allowed\n",
        "\n",
        "    def __getitem__(self, index):\n",
        "        # Return a tokenized and tensor-converted item from the dataset by index\n",
        "        text = str(self.data['review'].loc[index])  # Extract the text of the review at the specified index\n",
        "        text = \" \".join(text.split())  # Remove extra spaces from the text\n",
        "        inputs = self.tokenizer.encode_plus(\n",
        "            text,\n",
        "            None,\n",
        "            add_special_tokens=True,  # Adds special tokens for BERT (CLS, SEP)\n",
        "            max_length=self.max_len,  # Sets the maximum length for tokenization\n",
        "            padding='max_length',  # Adds padding to reach `max_len` if the text is shorter\n",
        "            return_token_type_ids=False,  # Does not return token type IDs (DistilBERT does not use them)\n",
        "            truncation=True  # Truncates the text if it exceeds the maximum length allowed\n",
        "        )\n",
        "        ids = inputs['input_ids']  # Token IDs\n",
        "        mask = inputs['attention_mask']  # Attention mask where `1` indicates real tokens and `0` indicates padding\n",
        "\n",
        "        return {\n",
        "            'ids': torch.tensor(ids, dtype=torch.long),  # Converts token IDs to PyTorch tensors\n",
        "            'mask': torch.tensor(mask, dtype=torch.long),  # Converts the attention mask to a tensor\n",
        "            'targets': torch.tensor(self.data['sentiment'].loc[index], dtype=torch.long)  # Converts the sentiment to a tensor\n",
        "        }\n",
        "\n",
        "    def __len__(self):\n",
        "        # Returns the number of items in the dataset\n",
        "        return self.len  # Returns the length stored during initialization\n"
      ],
      "execution_count": 74,
      "outputs": []
    },
    {
      "cell_type": "markdown",
      "source": [
        "**Explicación del Código**\n",
        "\n",
        "````\n",
        "Se inicializa una instancia de DistilBertDataset utilizando datos preprocesados, un tokenizador y una longitud máxima\n",
        "de tokens definida. Se emplea cleaned_data como el DataFrame que contiene los textos ya limpios y normalizados.\n",
        "El TOKENIZER utilizado es específico para DistilBERT, preparando los textos adecuadamente para este modelo.\n",
        "\n",
        "La longitud máxima de tokens, MAX_LEN, asegura que todos los inputs tengan el mismo tamaño, aplicando truncamiento o padding\n",
        "según sea necesario. Este objeto dataset es ahora adecuado para usar en entrenamientos de modelos o evaluaciones,\n",
        "manteniendo la consistencia y la calidad de los datos para el procesamiento de lenguaje natural con DistilBERT.\n",
        "````"
      ],
      "metadata": {
        "id": "2pqAVzoBAXgV"
      }
    },
    {
      "cell_type": "code",
      "metadata": {
        "id": "maPFdrm-RStd"
      },
      "source": [
        "### 3. Escribir código para crear un objeto DistilBertDataset con los inputs ###\n",
        "### limpios, el tokenizador del modelo y el máximo número de tokens ###\n",
        "\n",
        "# Crea una instancia de DistilBertDataset con los datos limpios, el tokenizador y el número máximo de tokens\n",
        "dataset = DistilBertDataset(dataframe=cleaned_data, tokenizer=TOKENIZER, max_len=MAX_LEN)"
      ],
      "execution_count": 75,
      "outputs": []
    },
    {
      "cell_type": "markdown",
      "source": [
        "**Explicación del Código**\n",
        "\n",
        "````\n",
        "Imprime información sobre el sexto elemento del conjunto de datos dataset. Muestra los IDs de entrada, las máscaras\n",
        "de atención y el objetivo (sentimiento) para ese elemento en particular. Esto permite una rápida verificación de cómo están\n",
        "estructurados y almacenados los datos en el conjunto de datos personalizado para el análisis de sentimientos con DistilBERT.\n",
        "````"
      ],
      "metadata": {
        "id": "zj3tV-QUA-Zq"
      }
    },
    {
      "cell_type": "code",
      "metadata": {
        "id": "lXjuKL1AGYCS",
        "colab": {
          "base_uri": "https://localhost:8080/"
        },
        "outputId": "8bcac8df-8e58-473b-f63f-9b966935f4f4"
      },
      "source": [
        "print(\"---- Visually inspecting 5th element ----\")\n",
        "print(\"\\n\")\n",
        "print(f\"Input ids: {dataset[4]['ids']}\")\n",
        "print(\"\\n\")\n",
        "print(f\"Attention masks: {dataset[4]['mask']}\")\n",
        "print(\"\\n\")\n",
        "print(f\"Target: {dataset[4]['targets']}\")\n",
        "print(\"------------------------------------------\")"
      ],
      "execution_count": 76,
      "outputs": [
        {
          "output_type": "stream",
          "name": "stdout",
          "text": [
            "---- Visually inspecting 5th element ----\n",
            "\n",
            "\n",
            "Input ids: tensor([  101,  9004,  3334,  4717,  7416,  1055,  2293,  1999,  1996,  2051,\n",
            "         1997,  2769,  2003,  1037, 17453, 14726,  2143,  2000,  3422,  1012,\n",
            "         2720,  1012,  4717,  7416,  4107,  2149,  1037, 14954,  6533,  2055,\n",
            "         2529,  4262,  1012,  2023,  2003,  1037,  3185,  2008,  3849,  2000,\n",
            "         2022,  4129,  2149,  2054,  2769,  1010,  2373,  1998,  3112,  2079,\n",
            "         2000,  2111,  1999,  1996,  2367,  8146,  2057,  8087,  1012,  7987,\n",
            "         7987,  2023,  2108,  1037,  8386,  2006,  1996,  4300,  8040,  7295,\n",
            "         8838,  3917,  1055,  2377,  2055,  1996,  2168,  4323,  1010,  1996,\n",
            "         2472, 15210,  1996,  2895,  2000,  1996,  2556,  2051,  2047,  2259,\n",
            "         2073,  2035,  2122,  2367,  3494,  3113,  1998,  7532,  1012,  2169,\n",
            "         2028,  2003,  4198,  1999,  2028,  2126,  1010,  2030,  2178,  2000,\n",
            "         1996,  2279,  2711,  1010,  2021,  2053,  2028,  3849,  2000,  2113,\n",
            "         1996,  3025,  2391,  1997,  3967,  1012,  2358,  8516, 19983,  1010,\n",
            "         1996,  2143,  2038,  1037, 12138, 20783,  2298,  1012,  2057,  2024,\n",
            "         2579,  2000,  2156,  2129,  2122,  2111,  2444,  1998,  1996,  2088,\n",
            "         2027,  2444,  1999,  2037,  2219,  6552,  1012,  7987,  7987,  1996,\n",
            "         2069,  2518,  2028,  4152,  2041,  1997,  2035,  2122,  9293,  1999,\n",
            "         1996,  3861,  2003,  1996,  2367,  5711,  1997, 20334,  2169,  2028,\n",
            "        21490,  2015,  1012,  1037,  2502,  2103,  2003,  2025,  3599,  1996,\n",
            "         2190,  2173,  1999,  2029,  2529,  4262,  2424, 18006, 29362,  1010,\n",
            "         2004,  2028,  5860, 11795,  2015,  2003,  1996,  2553,  2007,  2087,\n",
            "         1997,  1996,  2111,  2057,  8087,  1012,  7987,  7987,  1996,  3772,\n",
            "         2003,  2204,  2104,  2720,  1012,  4717,  7416,  1055,  3257,  1012,\n",
            "         3889,  3902,  3401,  4328,  1010, 17496, 11026,  1010,  8594,  8472,\n",
            "         1010,  2745, 17727, 11124, 10893,  1010,  7918, 24665, 18595,  2121,\n",
            "         1010,  1998,  1996,  2717,  1997,  1996, 10904,  3459,  1010,  2191,\n",
            "         2122,  3494,  2272,  4142,  1012,  7987,  7987,  2057,  4299,  2720,\n",
            "         1012,  4717,  7416,  2204,  6735,  1998, 26751, 23403,  2005,  2010,\n",
            "         2279,  2147,  1012,   102,     0,     0,     0,     0,     0,     0,\n",
            "            0,     0,     0,     0,     0,     0,     0,     0,     0,     0,\n",
            "            0,     0,     0,     0,     0,     0,     0,     0,     0,     0,\n",
            "            0,     0,     0,     0,     0,     0,     0,     0,     0,     0,\n",
            "            0,     0,     0,     0,     0,     0,     0,     0,     0,     0,\n",
            "            0,     0,     0,     0,     0,     0,     0,     0,     0,     0,\n",
            "            0,     0,     0,     0,     0,     0,     0,     0,     0,     0,\n",
            "            0,     0,     0,     0,     0,     0,     0,     0,     0,     0,\n",
            "            0,     0,     0,     0,     0,     0,     0,     0,     0,     0,\n",
            "            0,     0,     0,     0,     0,     0,     0,     0,     0,     0,\n",
            "            0,     0,     0,     0,     0,     0,     0,     0,     0,     0,\n",
            "            0,     0,     0,     0,     0,     0,     0,     0,     0,     0,\n",
            "            0,     0,     0,     0,     0,     0,     0,     0,     0,     0,\n",
            "            0,     0,     0,     0,     0,     0,     0,     0,     0,     0,\n",
            "            0,     0,     0,     0,     0,     0,     0,     0,     0,     0,\n",
            "            0,     0,     0,     0,     0,     0,     0,     0,     0,     0,\n",
            "            0,     0,     0,     0,     0,     0,     0,     0,     0,     0,\n",
            "            0,     0,     0,     0,     0,     0,     0,     0,     0,     0,\n",
            "            0,     0,     0,     0,     0,     0,     0,     0,     0,     0,\n",
            "            0,     0,     0,     0,     0,     0,     0,     0,     0,     0,\n",
            "            0,     0,     0,     0,     0,     0,     0,     0,     0,     0,\n",
            "            0,     0,     0,     0,     0,     0,     0,     0,     0,     0,\n",
            "            0,     0,     0,     0,     0,     0,     0,     0,     0,     0,\n",
            "            0,     0])\n",
            "\n",
            "\n",
            "Attention masks: tensor([1, 1, 1, 1, 1, 1, 1, 1, 1, 1, 1, 1, 1, 1, 1, 1, 1, 1, 1, 1, 1, 1, 1, 1,\n",
            "        1, 1, 1, 1, 1, 1, 1, 1, 1, 1, 1, 1, 1, 1, 1, 1, 1, 1, 1, 1, 1, 1, 1, 1,\n",
            "        1, 1, 1, 1, 1, 1, 1, 1, 1, 1, 1, 1, 1, 1, 1, 1, 1, 1, 1, 1, 1, 1, 1, 1,\n",
            "        1, 1, 1, 1, 1, 1, 1, 1, 1, 1, 1, 1, 1, 1, 1, 1, 1, 1, 1, 1, 1, 1, 1, 1,\n",
            "        1, 1, 1, 1, 1, 1, 1, 1, 1, 1, 1, 1, 1, 1, 1, 1, 1, 1, 1, 1, 1, 1, 1, 1,\n",
            "        1, 1, 1, 1, 1, 1, 1, 1, 1, 1, 1, 1, 1, 1, 1, 1, 1, 1, 1, 1, 1, 1, 1, 1,\n",
            "        1, 1, 1, 1, 1, 1, 1, 1, 1, 1, 1, 1, 1, 1, 1, 1, 1, 1, 1, 1, 1, 1, 1, 1,\n",
            "        1, 1, 1, 1, 1, 1, 1, 1, 1, 1, 1, 1, 1, 1, 1, 1, 1, 1, 1, 1, 1, 1, 1, 1,\n",
            "        1, 1, 1, 1, 1, 1, 1, 1, 1, 1, 1, 1, 1, 1, 1, 1, 1, 1, 1, 1, 1, 1, 1, 1,\n",
            "        1, 1, 1, 1, 1, 1, 1, 1, 1, 1, 1, 1, 1, 1, 1, 1, 1, 1, 1, 1, 1, 1, 1, 1,\n",
            "        1, 1, 1, 1, 1, 1, 1, 1, 1, 1, 1, 1, 1, 1, 1, 1, 1, 1, 1, 1, 1, 1, 1, 1,\n",
            "        1, 1, 1, 1, 1, 1, 1, 1, 1, 1, 1, 1, 1, 1, 1, 1, 1, 1, 1, 1, 0, 0, 0, 0,\n",
            "        0, 0, 0, 0, 0, 0, 0, 0, 0, 0, 0, 0, 0, 0, 0, 0, 0, 0, 0, 0, 0, 0, 0, 0,\n",
            "        0, 0, 0, 0, 0, 0, 0, 0, 0, 0, 0, 0, 0, 0, 0, 0, 0, 0, 0, 0, 0, 0, 0, 0,\n",
            "        0, 0, 0, 0, 0, 0, 0, 0, 0, 0, 0, 0, 0, 0, 0, 0, 0, 0, 0, 0, 0, 0, 0, 0,\n",
            "        0, 0, 0, 0, 0, 0, 0, 0, 0, 0, 0, 0, 0, 0, 0, 0, 0, 0, 0, 0, 0, 0, 0, 0,\n",
            "        0, 0, 0, 0, 0, 0, 0, 0, 0, 0, 0, 0, 0, 0, 0, 0, 0, 0, 0, 0, 0, 0, 0, 0,\n",
            "        0, 0, 0, 0, 0, 0, 0, 0, 0, 0, 0, 0, 0, 0, 0, 0, 0, 0, 0, 0, 0, 0, 0, 0,\n",
            "        0, 0, 0, 0, 0, 0, 0, 0, 0, 0, 0, 0, 0, 0, 0, 0, 0, 0, 0, 0, 0, 0, 0, 0,\n",
            "        0, 0, 0, 0, 0, 0, 0, 0, 0, 0, 0, 0, 0, 0, 0, 0, 0, 0, 0, 0, 0, 0, 0, 0,\n",
            "        0, 0, 0, 0, 0, 0, 0, 0, 0, 0, 0, 0, 0, 0, 0, 0, 0, 0, 0, 0, 0, 0, 0, 0,\n",
            "        0, 0, 0, 0, 0, 0, 0, 0])\n",
            "\n",
            "\n",
            "Target: 1\n",
            "------------------------------------------\n"
          ]
        }
      ]
    },
    {
      "cell_type": "markdown",
      "source": [
        "**Explicación del Código**\n",
        "\n",
        "````\n",
        "Establece los parámetros para el DataLoader, que se utiliza para cargar datos en lotes durante el entrenamiento\n",
        "de un modelo de aprendizaje automático.\n",
        "\n",
        "Se definen tres parámetros principales: el tamaño del lote (batch_size), si se deben mezclar los datos (shuffle),\n",
        "y el número de subprocesos (num_workers) que se utilizarán para cargar los datos en paralelo.\n",
        "\n",
        "Luego, se crea el DataLoader usando estos parámetros junto con el conjunto de datos previamente creado dataset.\n",
        "Esto facilita la carga eficiente y escalable de datos para el entrenamiento del modelo.\n",
        "````"
      ],
      "metadata": {
        "id": "8qaIPaL2B8Mp"
      }
    },
    {
      "cell_type": "code",
      "metadata": {
        "id": "DF9X4qSqiXzK"
      },
      "source": [
        "# define dataloader params\n",
        "dataloader_params = {'batch_size': BATCH_SIZE,\n",
        "                'shuffle': False,\n",
        "                'num_workers': 2\n",
        "                }\n",
        "\n",
        "# create dataloader\n",
        "data_loader = DataLoader(dataset, **dataloader_params)"
      ],
      "execution_count": 77,
      "outputs": []
    },
    {
      "cell_type": "markdown",
      "metadata": {
        "id": "VYipI3FDigJZ"
      },
      "source": [
        "# 5. Model\n",
        "\n",
        "En la sección **Model** creamos la **clase DistilBERTClass()** con el modelo ya ajustado que se encuentra en el hub de modelos de Huggingface.\n",
        "\n",
        "El método **forward()** de la clase toma los inputs ids y attention mask que devuelve el método **__getitem__()** de la clase **DistilBertDataset**.\n",
        "\n",
        "\n",
        "````\n",
        "Se define una clase personalizada en PyTorch llamada DistilBERTClass para un modelo de clasificación de secuencias\n",
        "utilizando DistilBERT pre-entrenado. En el método __init__, se carga el modelo DistilBERT pre-entrenado utilizando\n",
        "la biblioteca Hugging Face Transformers. En el método forward, se pasan los IDs de entrada y la máscara de atención al modelo,\n",
        "y las salidas del modelo son las probabilidades de clasificación para cada clase en la tarea de clasificación de secuencias.\n",
        "Este modelo puede ser utilizado para realizar tareas de clasificación de texto de manera eficiente, aprovechando el poder\n",
        "del modelo DistilBERT pre-entrenado\n",
        "````"
      ]
    },
    {
      "cell_type": "code",
      "metadata": {
        "id": "yY14bx9Cie9Z"
      },
      "source": [
        "class DistilBERTClass(torch.nn.Module):\n",
        "  \"\"\"Custom class for DilstilBERT model for Sequence Classification.\"\"\"\n",
        "\n",
        "  def __init__(self):\n",
        "      super(DistilBERTClass, self).__init__()\n",
        "      # Inicializa el modelo DistilBERT pre-entrenado para clasificación de secuencias\n",
        "      self.model = AutoModelForSequenceClassification \\\n",
        "        .from_pretrained(\"distilbert-base-uncased-finetuned-sst-2-english\")\n",
        "\n",
        "  def forward(self, input_ids, attention_mask):\n",
        "      # Pasa los IDs de entrada y la máscara de atención al modelo\n",
        "      output = self.model(input_ids=input_ids, attention_mask=attention_mask)\n",
        "      # Extrae las predicciones del modelo\n",
        "      logits = output.logits\n",
        "\n",
        "      return logits"
      ],
      "execution_count": 78,
      "outputs": []
    },
    {
      "cell_type": "markdown",
      "metadata": {
        "id": "iv-5Vd4b98iH"
      },
      "source": [
        "# 6. Inference\n",
        "\n",
        "En la sección **Inference** vamos a utilizar el modelo para realizar inferencia y obtener los sentimientos de las reviews.\n",
        "\n",
        "Después utilizamos la función **inference()** para obtener las predicciones.\n"
      ]
    },
    {
      "cell_type": "markdown",
      "source": [
        "**Explicación del Código**\n",
        "\n",
        "````\n",
        "Se descarga y carga un modelo DistilBERT pre-entrenado utilizando la clase DistilBERTClass,\n",
        "y luego mueve el modelo a la GPU si está disponible (DEVICE).\n",
        "\n",
        "Se presenta una representación de la arquitectura del modelo DistilBERT para clasificación de secuencias,\n",
        "presentada en formato de árbol, mostrando las capas y subcapas del modelo.\n",
        "\n",
        "> DistilBERTClass: Es la clase definida que envuelve al modelo DistilBERT.\n",
        "> DistilBertForSequenceClassification: Es la arquitectura específica de DistilBERT utilizada para tareas de clasificación de secuencias.\n",
        "> distilbert: Representa la parte principal del modelo, que incluye la capa de embeddings, el transformador y las capas de clasificación.\n",
        "> embeddings: Contiene las capas de embeddings, como embeddings de palabras y embeddings de posición.\n",
        "> transformer: Es la parte del modelo que ejecuta la transformación de los embeddings.\n",
        "> layer: Contiene las capas del transformador, cada una consistiendo en un bloque de transformador.\n",
        "> attention: Representa la capa de atención multi-cabeza dentro de cada bloque de transformador.\n",
        "> sa_layer_norm: Capa de normalización después de la atención.\n",
        "> ffn: Capa de feedforward dentro de cada bloque de transformador.\n",
        "> pre_classifier: Capa lineal antes de la capa de clasificación final.\n",
        "> classifier: Capa lineal de clasificación final.\n",
        "> dropout: Capa de dropout utilizada para regularización.\n",
        "````"
      ],
      "metadata": {
        "id": "HBMi81guDojz"
      }
    },
    {
      "cell_type": "code",
      "metadata": {
        "id": "yM-4udy2D8Jx",
        "colab": {
          "base_uri": "https://localhost:8080/",
          "height": 661,
          "referenced_widgets": [
            "af3a10fc509a4d2e80140a13b68348bd",
            "d7fea92f49b14846a22762feb976e4d8",
            "0a2cbf07e0e04bd1bad0490978573f4a",
            "5ed292cabcbf412484a0f9832cc9875c",
            "e55ab9e718dd4fa498c1da75bc844597",
            "010e60355fc54fcbb71a77b11e472219",
            "118d0f51467e4188b346954c0fc02209",
            "b68da579788b4d1abf2756f34fb08ed0",
            "3fbe987d80ce419e8898608370a2778e",
            "2eeed033cb494302baeb686fa6adfee2",
            "29429f5dba18463f81f67250d2516eef"
          ]
        },
        "outputId": "5a271fbb-29c0-417f-a8ca-d0f1931ab641"
      },
      "source": [
        "# Download and load trained DistilBERT model\n",
        "model = DistilBERTClass()\n",
        "model.to(DEVICE)"
      ],
      "execution_count": 79,
      "outputs": [
        {
          "output_type": "display_data",
          "data": {
            "text/plain": [
              "model.safetensors:   0%|          | 0.00/268M [00:00<?, ?B/s]"
            ],
            "application/vnd.jupyter.widget-view+json": {
              "version_major": 2,
              "version_minor": 0,
              "model_id": "af3a10fc509a4d2e80140a13b68348bd"
            }
          },
          "metadata": {}
        },
        {
          "output_type": "execute_result",
          "data": {
            "text/plain": [
              "DistilBERTClass(\n",
              "  (model): DistilBertForSequenceClassification(\n",
              "    (distilbert): DistilBertModel(\n",
              "      (embeddings): Embeddings(\n",
              "        (word_embeddings): Embedding(30522, 768, padding_idx=0)\n",
              "        (position_embeddings): Embedding(512, 768)\n",
              "        (LayerNorm): LayerNorm((768,), eps=1e-12, elementwise_affine=True)\n",
              "        (dropout): Dropout(p=0.1, inplace=False)\n",
              "      )\n",
              "      (transformer): Transformer(\n",
              "        (layer): ModuleList(\n",
              "          (0-5): 6 x TransformerBlock(\n",
              "            (attention): MultiHeadSelfAttention(\n",
              "              (dropout): Dropout(p=0.1, inplace=False)\n",
              "              (q_lin): Linear(in_features=768, out_features=768, bias=True)\n",
              "              (k_lin): Linear(in_features=768, out_features=768, bias=True)\n",
              "              (v_lin): Linear(in_features=768, out_features=768, bias=True)\n",
              "              (out_lin): Linear(in_features=768, out_features=768, bias=True)\n",
              "            )\n",
              "            (sa_layer_norm): LayerNorm((768,), eps=1e-12, elementwise_affine=True)\n",
              "            (ffn): FFN(\n",
              "              (dropout): Dropout(p=0.1, inplace=False)\n",
              "              (lin1): Linear(in_features=768, out_features=3072, bias=True)\n",
              "              (lin2): Linear(in_features=3072, out_features=768, bias=True)\n",
              "              (activation): GELUActivation()\n",
              "            )\n",
              "            (output_layer_norm): LayerNorm((768,), eps=1e-12, elementwise_affine=True)\n",
              "          )\n",
              "        )\n",
              "      )\n",
              "    )\n",
              "    (pre_classifier): Linear(in_features=768, out_features=768, bias=True)\n",
              "    (classifier): Linear(in_features=768, out_features=2, bias=True)\n",
              "    (dropout): Dropout(p=0.2, inplace=False)\n",
              "  )\n",
              ")"
            ]
          },
          "metadata": {},
          "execution_count": 79
        }
      ]
    },
    {
      "cell_type": "markdown",
      "source": [
        "**Explicación del Código**\n",
        "\n",
        "````\n",
        "Define una función llamada inference que realiza la inferencia (predicción) utilizando un modelo DistilBERT para clasificación binaria.\n",
        "\n",
        "El modelo se coloca en modo de evaluación y luego se itera sobre los lotes de datos de entrada.\n",
        "\n",
        "Para cada lote, se envían los IDs de entrada y la máscara de atención al dispositivo de computación (CPU o GPU), y se obtienen las predicciones del modelo.\n",
        "\n",
        "Los resultados y los objetivos se almacenan en listas y se devuelven al final de la función.\n",
        "````"
      ],
      "metadata": {
        "id": "bdGujGxKFG5L"
      }
    },
    {
      "cell_type": "code",
      "metadata": {
        "id": "dWsImXd8aJVH"
      },
      "source": [
        "def inference(data_loader, model, device):\n",
        "    \"\"\"\n",
        "    Clasificación binaria utilizando el modelo DistilBERT.\n",
        "\n",
        "    Parámetros\n",
        "    ----------\n",
        "    data_loader: objeto DataLoader de Pytorch\n",
        "    model: Objeto DistilBERTClass\n",
        "    device: str, dispositivo\n",
        "\n",
        "    Devoluciones\n",
        "    -------\n",
        "    listas, logits de las salidas y objetivos\n",
        "    \"\"\"\n",
        "    # poner el modelo en modo de evaluación\n",
        "    model.eval()\n",
        "    # crear listas para ser pobladas con predicciones y objetivos correspondientes\n",
        "    fin_targets = []\n",
        "    fin_outputs = []\n",
        "    # no calcular gradientes ya que no son necesarios para inferencia\n",
        "    with torch.no_grad():\n",
        "        # iterar sobre lotes y obtener predicciones\n",
        "        for bi, d in tqdm(enumerate(data_loader), total=len(data_loader)):\n",
        "            ids = d['ids']\n",
        "            mask = d['mask']\n",
        "            targets = d['targets']\n",
        "\n",
        "            # enviarlos al dispositivo cuda que estamos usando\n",
        "            ids = ids.to(device, dtype=torch.long)\n",
        "            mask = mask.to(device, dtype=torch.long)\n",
        "            targets = targets.to(device, dtype=torch.long)\n",
        "            # obtener los logits de las salidas\n",
        "            outputs = model(\n",
        "                input_ids=ids,\n",
        "                attention_mask=mask\n",
        "            )\n",
        "            # Normalizar logits y almacenar resultados y objetivos en listas\n",
        "            fin_targets.extend(targets.cpu().detach().numpy().tolist())\n",
        "            fin_outputs.extend(torch.sigmoid(outputs).cpu().detach().numpy().tolist())\n",
        "\n",
        "    return fin_outputs, fin_targets\n"
      ],
      "execution_count": 80,
      "outputs": []
    },
    {
      "cell_type": "markdown",
      "source": [
        "**Explicación del Código**\n",
        "\n",
        "````\n",
        "Se realiza la inferencia para análisis de sentimiento.\n",
        "Utiliza la función inference para obtener las salidas (predicciones) y los objetivos (etiquetas reales) del modelo\n",
        "para un conjunto de datos de entrada, utilizando un DataLoader y un modelo previamente definidos.\n",
        "\n",
        "Los resultados de la inferencia se almacenan en las variables outputs y targets.\n",
        "````"
      ],
      "metadata": {
        "id": "vYSJFFm7FjBr"
      }
    },
    {
      "cell_type": "code",
      "metadata": {
        "id": "n_h3497nHqNV",
        "colab": {
          "base_uri": "https://localhost:8080/",
          "height": 137,
          "referenced_widgets": [
            "111cdfada59848bdab16d01e23380ea8",
            "aafc8febc76c40b18d81c01720f629f9",
            "3bed634bec17491cb3bd00fca875a472",
            "53983349bc20499f9c55396c495fa655",
            "c1b4a7cd0fd8451789b3ef4150fb3469",
            "00f881c5dcdb4b00b0186c54e7ae0674",
            "69e86b443628487ba911833d0f409f1d",
            "6e745641e9d145dc8b696d5f622afac4",
            "e1d4382cffc141869599dd372d273b8f",
            "51f48cc601494c0bb5dec7d524bd4318",
            "44c7f16a10cb4c1fa3c46a1e73cbb629"
          ]
        },
        "outputId": "165756b4-d38d-4b9c-b939-43b425977f7b"
      },
      "source": [
        "# run inference -> sentiment analysis\n",
        "\n",
        "# Realiza la inferencia en los datos de entrada utilizando la función 'inference'\n",
        "# Se espera que 'inference' devuelva las salidas (predicciones) y los objetivos (etiquetas reales) del modelo\n",
        "\n",
        "outputs, targets = inference(\n",
        "    data_loader=data_loader,  # DataLoader que contiene los datos de entrada\n",
        "    model=model,              # Modelo utilizado para la inferencia\n",
        "    device=DEVICE             # Dispositivo en el que se realizará la inferencia (CPU o GPU)\n",
        ")\n"
      ],
      "execution_count": 81,
      "outputs": [
        {
          "output_type": "stream",
          "name": "stderr",
          "text": [
            "/usr/lib/python3.10/multiprocessing/popen_fork.py:66: RuntimeWarning: os.fork() was called. os.fork() is incompatible with multithreaded code, and JAX is multithreaded, so this will likely lead to a deadlock.\n",
            "  self.pid = os.fork()\n"
          ]
        },
        {
          "output_type": "display_data",
          "data": {
            "text/plain": [
              "  0%|          | 0/782 [00:00<?, ?it/s]"
            ],
            "application/vnd.jupyter.widget-view+json": {
              "version_major": 2,
              "version_minor": 0,
              "model_id": "111cdfada59848bdab16d01e23380ea8"
            }
          },
          "metadata": {}
        },
        {
          "output_type": "stream",
          "name": "stderr",
          "text": [
            "/usr/lib/python3.10/multiprocessing/popen_fork.py:66: RuntimeWarning: os.fork() was called. os.fork() is incompatible with multithreaded code, and JAX is multithreaded, so this will likely lead to a deadlock.\n",
            "  self.pid = os.fork()\n"
          ]
        }
      ]
    },
    {
      "cell_type": "markdown",
      "source": [
        "**Explicación del Código**\n",
        "\n",
        "````\n",
        "Utiliza np.argmax() para obtener las predicciones a partir de las logits normalizadas.\n",
        "La función np.argmax() devuelve el índice del valor máximo a lo largo del eje especificado.\n",
        "En este caso, especificamos axis=1 para obtener el índice de la clase más probable para cada ejemplo..\n",
        "````"
      ],
      "metadata": {
        "id": "Mq40iZygNpbw"
      }
    },
    {
      "cell_type": "code",
      "metadata": {
        "id": "lFdIcfRsHt4S"
      },
      "source": [
        "### 4. Escribir código obtener las predicciónes a partir de las logits normalizadas ###\n",
        "### Criterio: Elegir la clase más probable ###\n",
        "### La función de numpy np.argmax() puede ser de gran ayuda ;) ###\n",
        "### Sustituir None por el código necesario ###\n",
        "\n",
        "predicted_classes = np.argmax(outputs, axis=1)"
      ],
      "execution_count": 82,
      "outputs": []
    },
    {
      "cell_type": "markdown",
      "metadata": {
        "id": "7mBJtMTWEdq8"
      },
      "source": [
        "# 7. Evaluation\n",
        "\n",
        "En la sección **Evaluation** calculamos métricas típicas de un poblema de clasificación binario: Accuracy y F1 Score.\n",
        "\n",
        "También graficamos la matriz de confusión utlizando la función de utilidad **plot_confusion_matrix()**.\n",
        "\n",
        "Finalmente, hacemos una pequeña evaluación visual de los inputs, los targets y las predicciones."
      ]
    },
    {
      "cell_type": "markdown",
      "source": [
        "**Explicación del Código**\n",
        "\n",
        "````\n",
        "Se calcula la precisión (accuracy) y la puntuación F1 (f_score) utilizando las etiquetas reales (targets) y las clases predichas (predicted_classes).\n",
        "Utiliza las funciones accuracy_score() y f1_score() de la biblioteca scikit-learn para realizar los cálculos.\n",
        "Luego, imprime los resultados de la precisión y la puntuación F1 para evaluar el rendimiento del modelo en los datos de entrenamiento.\n",
        "````"
      ],
      "metadata": {
        "id": "7eroxlSWPjch"
      }
    },
    {
      "cell_type": "code",
      "metadata": {
        "id": "ejQLUp8UHt2G",
        "colab": {
          "base_uri": "https://localhost:8080/"
        },
        "outputId": "a924a862-a96d-4152-b34d-8503b79b99d3"
      },
      "source": [
        "### 5. Calcular accuracy y f1_score ###\n",
        "\n",
        "# Calcula la precisión (accuracy) y la puntuación F1 (f_score) utilizando los valores reales (targets) y las clases predichas (predicted_classes).\n",
        "# Utiliza accuracy_score() para calcular la precisión y f1_score() para calcular la puntuación F1.\n",
        "\n",
        "accuracy = accuracy_score(targets, predicted_classes)\n",
        "f_score = f1_score(targets, predicted_classes)\n",
        "\n",
        "# Imprime la precisión y la puntuación F1.\n",
        "print(f\"Precisión del entrenamiento = {accuracy}\")\n",
        "print(f\"Puntuación F1 del entrenamiento = {f_score}\")"
      ],
      "execution_count": 83,
      "outputs": [
        {
          "output_type": "stream",
          "name": "stdout",
          "text": [
            "Precisión del entrenamiento = 0.88854\n",
            "Puntuación F1 del entrenamiento = 0.885024034989994\n"
          ]
        }
      ]
    },
    {
      "cell_type": "markdown",
      "source": [
        "**Explicación del Código**\n",
        "\n",
        "````\n",
        "Se genera un informe de clasificación utilizando las etiquetas reales (targets) y las clases predichas (outputs).\n",
        "Utiliza la función classification_report() de la biblioteca scikit-learn para calcular y mostrar métricas como precisión, recall, puntuación F1 y soporte para cada clase (en este caso, \"Negative\" y \"Positive\").\n",
        "El informe proporciona una evaluación detallada del rendimiento del modelo para cada clase en los datos de prueba.\n",
        "````"
      ],
      "metadata": {
        "id": "ALceIGxYP-LF"
      }
    },
    {
      "cell_type": "code",
      "metadata": {
        "id": "JGYALx53QSPO",
        "colab": {
          "base_uri": "https://localhost:8080/"
        },
        "outputId": "ded74c24-5f5a-470f-d4c6-a8e90262fd8b"
      },
      "source": [
        "# classification report\n",
        "print(classification_report(targets, predicted_classes, target_names=[\"Negative\", \"Positive\"]))"
      ],
      "execution_count": 85,
      "outputs": [
        {
          "output_type": "stream",
          "name": "stdout",
          "text": [
            "              precision    recall  f1-score   support\n",
            "\n",
            "    Negative       0.87      0.92      0.89     25000\n",
            "    Positive       0.91      0.86      0.89     25000\n",
            "\n",
            "    accuracy                           0.89     50000\n",
            "   macro avg       0.89      0.89      0.89     50000\n",
            "weighted avg       0.89      0.89      0.89     50000\n",
            "\n"
          ]
        }
      ]
    },
    {
      "cell_type": "markdown",
      "source": [
        "**Explicación del Código**\n",
        "\n",
        "````\n",
        "Se calcula y muestra la matriz de confusión, que es una representación visual de las predicciones del modelo en comparación con las etiquetas reales.\n",
        "Utiliza las funciones confusion_matrix() y plot_confusion_matrix() para generar y mostrar la matriz respectivamente.\n",
        "La matriz se normaliza para resaltar las proporciones y mejorar la interpretación.\n",
        "````"
      ],
      "metadata": {
        "id": "UF-9W-NJP_hr"
      }
    },
    {
      "cell_type": "code",
      "metadata": {
        "id": "DfHfKlYFHtzv",
        "colab": {
          "base_uri": "https://localhost:8080/",
          "height": 632
        },
        "outputId": "4614fa25-b31e-4772-e016-99354568255e"
      },
      "source": [
        "# print the confusion matrix\n",
        "cnf_matrix = confusion_matrix(targets, predicted_classes, labels=[0, 1])\n",
        "plt.figure(figsize=(8,6))\n",
        "plot_confusion_matrix(\n",
        "    cnf_matrix,classes=['Negative','Positive'],\n",
        "    normalize=True,\n",
        "    title='Confusion matrix'\n",
        ")"
      ],
      "execution_count": 86,
      "outputs": [
        {
          "output_type": "display_data",
          "data": {
            "text/plain": [
              "<Figure size 800x600 with 2 Axes>"
            ],
            "image/png": "[encoded data removed]"
          },
          "metadata": {}
        }
      ]
    },
    {
      "cell_type": "markdown",
      "source": [
        "**Explicación del Código**\n",
        "\n",
        "````\n",
        "Realiza una evaluación visual mostrando una muestra de las primeras 10 revisiones limpiadas junto con sus etiquetas reales y las salidas del modelo.\n",
        "Utiliza un bucle for para iterar sobre las revisiones, las etiquetas reales (targets) y las salidas del modelo (outputs).\n",
        "Para cada iteración, imprime el texto de la revisión, su etiqueta real y la salida predicha por el modelo.\n",
        "Esto proporciona una forma rápida de inspeccionar visualmente cómo el modelo está clasificando las revisiones en comparación con las etiquetas reales.\n",
        "````"
      ],
      "metadata": {
        "id": "HCiZk1n7QA7g"
      }
    },
    {
      "cell_type": "code",
      "metadata": {
        "id": "wlwlH4rdQt5w",
        "colab": {
          "base_uri": "https://localhost:8080/"
        },
        "outputId": "8f9c1582-36ae-4d96-a31a-692c27b300b2"
      },
      "source": [
        "#visual evalution\n",
        "for review, target, output in zip(cleaned_data.review.values[:10], targets, predicted_classes):\n",
        "  print(f\"Text: {review}\")\n",
        "  print(f\"Target: {target}\\tOutput: {output}\\n\")"
      ],
      "execution_count": 87,
      "outputs": [
        {
          "output_type": "stream",
          "name": "stdout",
          "text": [
            "Text: one of the other reviewers has mentioned that after watching just oz episode you ll be hooked. they are right, as this is exactly what happened with me. br br the first thing that struck me about oz was its brutality and unflinching scenes of violence, which set in right from the word go. trust me, this is not a show for the faint hearted or timid. this show pulls no punches with regards to drugs, sex or violence. its is hardcore, in the classic use of the word. br br it is called oz as that is the nickname given to the oswald maximum security state penitentary. it focuses mainly on emerald city, an experimental section of the prison where all the cells have glass fronts and face inwards, so privacy is not high on the agenda. em city is home to many..aryans, muslims, gangstas, latinos, christians, italians, irish and more....so scuffles, death stares, dodgy dealings and shady agreements are never far away. br br i would say the main appeal of the show is due to the fact that it goes where other shows wouldn t dare. forget pretty pictures painted for mainstream audiences, forget charm, forget romance...oz doesn t mess around. the first episode i ever saw struck me as so nasty it was surreal, i couldn t say i was ready for it, but as i watched more, i developed a taste for oz, and got accustomed to the high levels of graphic violence. not just violence, but injustice crooked guards who ll be sold out for a nickel, inmates who ll kill on order and get away with it, well mannered, middle class inmates being turned into prison bitches due to their lack of street skills or prison experience watching oz, you may become comfortable with what is uncomfortable viewing....thats if you can get in touch with your darker side.\n",
            "Target: 1\tOutput: 0\n",
            "\n",
            "Text: a wonderful little production. br br the filming technique is very unassuming very old time bbc fashion and gives a comforting, and sometimes discomforting, sense of realism to the entire piece. br br the actors are extremely well chosen michael sheen not only has got all the polari but he has all the voices down pat too you can truly see the seamless editing guided by the references to williams diary entries, not only is it well worth the watching but it is a terrificly written and performed piece. a masterful production about one of the great master s of comedy and his life. br br the realism really comes home with the little things the fantasy of the guard which, rather than use the traditional dream techniques remains solid then disappears. it plays on our knowledge and our senses, particularly with the scenes concerning orton and halliwell and the sets particularly of their flat with halliwell s murals decorating every surface are terribly well done.\n",
            "Target: 1\tOutput: 1\n",
            "\n",
            "Text: i thought this was a wonderful way to spend time on a too hot summer weekend, sitting in the air conditioned theater and watching a light hearted comedy. the plot is simplistic, but the dialogue is witty and the characters are likable even the well bread suspected serial killer . while some may be disappointed when they realize this is not match point risk addiction, i thought it was proof that woody allen is still fully in control of the style many of us have grown to love. br br this was the most i d laughed at one of woody s comedies in years dare i say a decade . while i ve never been impressed with scarlet johanson, in this she managed to tone down her sexy image and jumped right into a average, but spirited young woman. br br this may not be the crown jewel of his career, but it was wittier than devil wears prada and more interesting than superman a great comedy to go see with friends.\n",
            "Target: 1\tOutput: 1\n",
            "\n",
            "Text: basically there s a family where a little boy jake thinks there s a zombie in his closet his parents are fighting all the time. br br this movie is slower than a soap opera... and suddenly, jake decides to become rambo and kill the zombie. br br ok, first of all when you re going to make a film you must decide if its a thriller or a drama as a drama the movie is watchable. parents are divorcing arguing like in real life. and then we have jake with his closet which totally ruins all the film i expected to see a boogeyman similar movie, and instead i watched a drama with some meaningless thriller spots. br br out of just for the well playing parents descent dialogs. as for the shots with jake just ignore them.\n",
            "Target: 0\tOutput: 0\n",
            "\n",
            "Text: petter mattei s love in the time of money is a visually stunning film to watch. mr. mattei offers us a vivid portrait about human relations. this is a movie that seems to be telling us what money, power and success do to people in the different situations we encounter. br br this being a variation on the arthur schnitzler s play about the same theme, the director transfers the action to the present time new york where all these different characters meet and connect. each one is connected in one way, or another to the next person, but no one seems to know the previous point of contact. stylishly, the film has a sophisticated luxurious look. we are taken to see how these people live and the world they live in their own habitat. br br the only thing one gets out of all these souls in the picture is the different stages of loneliness each one inhabits. a big city is not exactly the best place in which human relations find sincere fulfillment, as one discerns is the case with most of the people we encounter. br br the acting is good under mr. mattei s direction. steve buscemi, rosario dawson, carol kane, michael imperioli, adrian grenier, and the rest of the talented cast, make these characters come alive. br br we wish mr. mattei good luck and await anxiously for his next work.\n",
            "Target: 1\tOutput: 1\n",
            "\n",
            "Text: probably my all time favorite movie, a story of selflessness, sacrifice and dedication to a noble cause, but it s not preachy or boring. it just never gets old, despite my having seen it some or more times in the last years. paul lukas performance brings tears to my eyes, and bette davis, in one of her very few truly sympathetic roles, is a delight. the kids are, as grandma says, more like dressed up midgets than children, but that only makes them more fun to watch. and the mother s slow awakening to what s happening in the world and under her own roof is believable and startling. if i had a dozen thumbs, they d all be up for this movie.\n",
            "Target: 1\tOutput: 1\n",
            "\n",
            "Text: i sure would like to see a resurrection of a up dated seahunt series with the tech they have today it would bring back the kid excitement in me.i grew up on black and white tv and seahunt with gunsmoke were my hero s every week.you have my vote for a comeback of a new sea hunt.we need a change of pace in tv and this would work for a world of under water adventure.oh by the way thank you for an outlet like this to view many viewpoints about tv and the many movies.so any ole way i believe i ve got what i wanna say.would be nice to read some more plus points about sea hunt.if my rhymes would be lines would you let me submit,or leave me out to be in doubt and have me to quit,if this is so then i must go so lets do it.\n",
            "Target: 1\tOutput: 1\n",
            "\n",
            "Text: this show was an amazing, fresh innovative idea in the s when it first aired. the first or years were brilliant, but things dropped off after that. by , the show was not really funny anymore, and it s continued its decline further to the complete waste of time it is today. br br it s truly disgraceful how far this show has fallen. the writing is painfully bad, the performances are almost as bad if not for the mildly entertaining respite of the guest hosts, this show probably wouldn t still be on the air. i find it so hard to believe that the same creator that hand selected the original cast also chose the band of hacks that followed. how can one recognize such brilliance and then see fit to replace it with such mediocrity i felt i must give stars out of respect for the original cast that made this show such a huge success. as it is now, the show is just awful. i can t believe it s still on the air.\n",
            "Target: 0\tOutput: 0\n",
            "\n",
            "Text: encouraged by the positive comments about this film on here i was looking forward to watching this film. bad mistake. i ve seen films and this is truly one of the worst of them it s awful in almost every way editing, pacing, storyline, acting, soundtrack the film s only song a lame country tune is played no less than four times . the film looks cheap and nasty and is boring in the extreme. rarely have i been so happy to see the end credits of a film. br br the only thing that prevents me giving this a score is harvey keitel while this is far from his best performance he at least seems to be making a bit of an effort. one for keitel obsessives only.\n",
            "Target: 0\tOutput: 0\n",
            "\n",
            "Text: if you like original gut wrenching laughter you will like this movie. if you are young or old then you will love this movie, hell even my mom liked it. br br great camp \n",
            "Target: 1\tOutput: 1\n",
            "\n"
          ]
        }
      ]
    },
    {
      "cell_type": "markdown",
      "metadata": {
        "id": "PiCLHHuxw07M"
      },
      "source": [
        "# 8. Preguntas\n",
        "\n",
        "8.1. La función **text_cleaning** se utiliza para limpiar el texto de caracteres, puntuación, etc. que añaden ruido a los datos y dificultan el aprendizaje. ¿Cuál crees que ha sido el proceso para identificar los requerimientos de limpieza de los datos y que se ven reflejados es esta función?\n",
        "¿Crees que se podría mejorar esta función?"
      ]
    },
    {
      "cell_type": "markdown",
      "metadata": {
        "id": "f3yuLBnlw75T"
      },
      "source": [
        "**< Respuesta >**\n",
        "\n",
        "````\n",
        "Realiza una evaluación visual mostrando una muestra de las primeras 10 revisiones limpiadas junto con sus etiquetas reales y las salidas del modelo.\n",
        "Utiliza un bucle for para iterar sobre las revisiones, las etiquetas reales (targets) y las salidas del modelo (outputs).\n",
        "Para cada iteración, imprime el texto de la revisión, su etiqueta real y la salida predicha por el modelo.\n",
        "Esto proporciona una forma rápida de inspeccionar visualmente cómo el modelo está clasificando las revisiones en comparación con las etiquetas reales.\n",
        "````"
      ]
    },
    {
      "cell_type": "markdown",
      "metadata": {
        "id": "e2J6wcluw-Fn"
      },
      "source": [
        "8.2. En la plantilla, ¿Cuál es el propósito de la siguiente línea de código?\n",
        "\n",
        "**model.to(DEVICE)**"
      ]
    },
    {
      "cell_type": "markdown",
      "metadata": {
        "id": "NZJD9rtdw_Ns"
      },
      "source": [
        "**< Respuesta >**\n",
        "\n",
        "````\n",
        "Realiza una evaluación visual mostrando una muestra de las primeras 10 revisiones limpiadas junto con sus etiquetas reales y las salidas del modelo.\n",
        "Utiliza un bucle for para iterar sobre las revisiones, las etiquetas reales (targets) y las salidas del modelo (outputs).\n",
        "Para cada iteración, imprime el texto de la revisión, su etiqueta real y la salida predicha por el modelo.\n",
        "Esto proporciona una forma rápida de inspeccionar visualmente cómo el modelo está clasificando las revisiones en comparación con las etiquetas reales.\n",
        "````"
      ]
    }
  ]
}