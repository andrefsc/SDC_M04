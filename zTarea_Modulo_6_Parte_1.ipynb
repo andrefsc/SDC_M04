{
  "nbformat": 4,
  "nbformat_minor": 0,
  "metadata": {
    "colab": {
      "provenance": [],
      "gpuType": "T4",
      "include_colab_link": true
    },
    "kernelspec": {
      "name": "python3",
      "display_name": "Python 3"
    },
    "language_info": {
      "name": "python"
    },
    "widgets": {
      "application/vnd.jupyter.widget-state+json": {
        "e8f5ab4703e84ed797f37941d877171f": {
          "model_module": "@jupyter-widgets/controls",
          "model_name": "HBoxModel",
          "model_module_version": "1.5.0",
          "state": {
            "_view_name": "HBoxView",
            "_dom_classes": [],
            "_model_name": "HBoxModel",
            "_view_module": "@jupyter-widgets/controls",
            "_model_module_version": "1.5.0",
            "_view_count": null,
            "_view_module_version": "1.5.0",
            "box_style": "",
            "layout": "IPY_MODEL_79ab54a0f97b4325a5e998b0e285096a",
            "_model_module": "@jupyter-widgets/controls",
            "children": [
              "IPY_MODEL_91f318cc7ce747ec97683710d1e8a317",
              "IPY_MODEL_7597ced1e2a14cebb338f0ed312932d1",
              "IPY_MODEL_4145715f58b845cb9c2fade1e751ef6c"
            ]
          }
        },
        "79ab54a0f97b4325a5e998b0e285096a": {
          "model_module": "@jupyter-widgets/base",
          "model_name": "LayoutModel",
          "model_module_version": "1.2.0",
          "state": {
            "_view_name": "LayoutView",
            "grid_template_rows": null,
            "right": null,
            "justify_content": null,
            "_view_module": "@jupyter-widgets/base",
            "overflow": null,
            "_model_module_version": "1.2.0",
            "_view_count": null,
            "flex_flow": null,
            "width": null,
            "min_width": null,
            "border": null,
            "align_items": null,
            "bottom": null,
            "_model_module": "@jupyter-widgets/base",
            "top": null,
            "grid_column": null,
            "overflow_y": null,
            "overflow_x": null,
            "grid_auto_flow": null,
            "grid_area": null,
            "grid_template_columns": null,
            "flex": null,
            "_model_name": "LayoutModel",
            "justify_items": null,
            "grid_row": null,
            "max_height": null,
            "align_content": null,
            "visibility": null,
            "align_self": null,
            "height": null,
            "min_height": null,
            "padding": null,
            "grid_auto_rows": null,
            "grid_gap": null,
            "max_width": null,
            "order": null,
            "_view_module_version": "1.2.0",
            "grid_template_areas": null,
            "object_position": null,
            "object_fit": null,
            "grid_auto_columns": null,
            "margin": null,
            "display": null,
            "left": null
          }
        },
        "91f318cc7ce747ec97683710d1e8a317": {
          "model_module": "@jupyter-widgets/controls",
          "model_name": "HTMLModel",
          "model_module_version": "1.5.0",
          "state": {
            "_view_name": "HTMLView",
            "style": "IPY_MODEL_567607c676e2485696d9e482d87b8def",
            "_dom_classes": [],
            "description": "",
            "_model_name": "HTMLModel",
            "placeholder": "​",
            "_view_module": "@jupyter-widgets/controls",
            "_model_module_version": "1.5.0",
            "value": "Downloading: 100%",
            "_view_count": null,
            "_view_module_version": "1.5.0",
            "description_tooltip": null,
            "_model_module": "@jupyter-widgets/controls",
            "layout": "IPY_MODEL_45097ddc188d4224976128140c2fb9b9"
          }
        },
        "7597ced1e2a14cebb338f0ed312932d1": {
          "model_module": "@jupyter-widgets/controls",
          "model_name": "FloatProgressModel",
          "model_module_version": "1.5.0",
          "state": {
            "_view_name": "ProgressView",
            "style": "IPY_MODEL_9d84ff1e36074dc5afc7dc75173927c3",
            "_dom_classes": [],
            "description": "",
            "_model_name": "FloatProgressModel",
            "bar_style": "success",
            "max": 48,
            "_view_module": "@jupyter-widgets/controls",
            "_model_module_version": "1.5.0",
            "value": 48,
            "_view_count": null,
            "_view_module_version": "1.5.0",
            "orientation": "horizontal",
            "min": 0,
            "description_tooltip": null,
            "_model_module": "@jupyter-widgets/controls",
            "layout": "IPY_MODEL_f8c2780240884e108fcb91a11a3692b1"
          }
        },
        "4145715f58b845cb9c2fade1e751ef6c": {
          "model_module": "@jupyter-widgets/controls",
          "model_name": "HTMLModel",
          "model_module_version": "1.5.0",
          "state": {
            "_view_name": "HTMLView",
            "style": "IPY_MODEL_a542b4dd77a64cebbe1f931bd81c23ad",
            "_dom_classes": [],
            "description": "",
            "_model_name": "HTMLModel",
            "placeholder": "​",
            "_view_module": "@jupyter-widgets/controls",
            "_model_module_version": "1.5.0",
            "value": " 48.0/48.0 [00:00&lt;00:00, 1.31kB/s]",
            "_view_count": null,
            "_view_module_version": "1.5.0",
            "description_tooltip": null,
            "_model_module": "@jupyter-widgets/controls",
            "layout": "IPY_MODEL_a5f474dfa15143bfaf370c012251f096"
          }
        },
        "567607c676e2485696d9e482d87b8def": {
          "model_module": "@jupyter-widgets/controls",
          "model_name": "DescriptionStyleModel",
          "model_module_version": "1.5.0",
          "state": {
            "_view_name": "StyleView",
            "_model_name": "DescriptionStyleModel",
            "description_width": "",
            "_view_module": "@jupyter-widgets/base",
            "_model_module_version": "1.5.0",
            "_view_count": null,
            "_view_module_version": "1.2.0",
            "_model_module": "@jupyter-widgets/controls"
          }
        },
        "45097ddc188d4224976128140c2fb9b9": {
          "model_module": "@jupyter-widgets/base",
          "model_name": "LayoutModel",
          "model_module_version": "1.2.0",
          "state": {
            "_view_name": "LayoutView",
            "grid_template_rows": null,
            "right": null,
            "justify_content": null,
            "_view_module": "@jupyter-widgets/base",
            "overflow": null,
            "_model_module_version": "1.2.0",
            "_view_count": null,
            "flex_flow": null,
            "width": null,
            "min_width": null,
            "border": null,
            "align_items": null,
            "bottom": null,
            "_model_module": "@jupyter-widgets/base",
            "top": null,
            "grid_column": null,
            "overflow_y": null,
            "overflow_x": null,
            "grid_auto_flow": null,
            "grid_area": null,
            "grid_template_columns": null,
            "flex": null,
            "_model_name": "LayoutModel",
            "justify_items": null,
            "grid_row": null,
            "max_height": null,
            "align_content": null,
            "visibility": null,
            "align_self": null,
            "height": null,
            "min_height": null,
            "padding": null,
            "grid_auto_rows": null,
            "grid_gap": null,
            "max_width": null,
            "order": null,
            "_view_module_version": "1.2.0",
            "grid_template_areas": null,
            "object_position": null,
            "object_fit": null,
            "grid_auto_columns": null,
            "margin": null,
            "display": null,
            "left": null
          }
        },
        "9d84ff1e36074dc5afc7dc75173927c3": {
          "model_module": "@jupyter-widgets/controls",
          "model_name": "ProgressStyleModel",
          "model_module_version": "1.5.0",
          "state": {
            "_view_name": "StyleView",
            "_model_name": "ProgressStyleModel",
            "description_width": "",
            "_view_module": "@jupyter-widgets/base",
            "_model_module_version": "1.5.0",
            "_view_count": null,
            "_view_module_version": "1.2.0",
            "bar_color": null,
            "_model_module": "@jupyter-widgets/controls"
          }
        },
        "f8c2780240884e108fcb91a11a3692b1": {
          "model_module": "@jupyter-widgets/base",
          "model_name": "LayoutModel",
          "model_module_version": "1.2.0",
          "state": {
            "_view_name": "LayoutView",
            "grid_template_rows": null,
            "right": null,
            "justify_content": null,
            "_view_module": "@jupyter-widgets/base",
            "overflow": null,
            "_model_module_version": "1.2.0",
            "_view_count": null,
            "flex_flow": null,
            "width": null,
            "min_width": null,
            "border": null,
            "align_items": null,
            "bottom": null,
            "_model_module": "@jupyter-widgets/base",
            "top": null,
            "grid_column": null,
            "overflow_y": null,
            "overflow_x": null,
            "grid_auto_flow": null,
            "grid_area": null,
            "grid_template_columns": null,
            "flex": null,
            "_model_name": "LayoutModel",
            "justify_items": null,
            "grid_row": null,
            "max_height": null,
            "align_content": null,
            "visibility": null,
            "align_self": null,
            "height": null,
            "min_height": null,
            "padding": null,
            "grid_auto_rows": null,
            "grid_gap": null,
            "max_width": null,
            "order": null,
            "_view_module_version": "1.2.0",
            "grid_template_areas": null,
            "object_position": null,
            "object_fit": null,
            "grid_auto_columns": null,
            "margin": null,
            "display": null,
            "left": null
          }
        },
        "a542b4dd77a64cebbe1f931bd81c23ad": {
          "model_module": "@jupyter-widgets/controls",
          "model_name": "DescriptionStyleModel",
          "model_module_version": "1.5.0",
          "state": {
            "_view_name": "StyleView",
            "_model_name": "DescriptionStyleModel",
            "description_width": "",
            "_view_module": "@jupyter-widgets/base",
            "_model_module_version": "1.5.0",
            "_view_count": null,
            "_view_module_version": "1.2.0",
            "_model_module": "@jupyter-widgets/controls"
          }
        },
        "a5f474dfa15143bfaf370c012251f096": {
          "model_module": "@jupyter-widgets/base",
          "model_name": "LayoutModel",
          "model_module_version": "1.2.0",
          "state": {
            "_view_name": "LayoutView",
            "grid_template_rows": null,
            "right": null,
            "justify_content": null,
            "_view_module": "@jupyter-widgets/base",
            "overflow": null,
            "_model_module_version": "1.2.0",
            "_view_count": null,
            "flex_flow": null,
            "width": null,
            "min_width": null,
            "border": null,
            "align_items": null,
            "bottom": null,
            "_model_module": "@jupyter-widgets/base",
            "top": null,
            "grid_column": null,
            "overflow_y": null,
            "overflow_x": null,
            "grid_auto_flow": null,
            "grid_area": null,
            "grid_template_columns": null,
            "flex": null,
            "_model_name": "LayoutModel",
            "justify_items": null,
            "grid_row": null,
            "max_height": null,
            "align_content": null,
            "visibility": null,
            "align_self": null,
            "height": null,
            "min_height": null,
            "padding": null,
            "grid_auto_rows": null,
            "grid_gap": null,
            "max_width": null,
            "order": null,
            "_view_module_version": "1.2.0",
            "grid_template_areas": null,
            "object_position": null,
            "object_fit": null,
            "grid_auto_columns": null,
            "margin": null,
            "display": null,
            "left": null
          }
        },
        "8b525a952cde4dcb891da03be654c6e9": {
          "model_module": "@jupyter-widgets/controls",
          "model_name": "HBoxModel",
          "model_module_version": "1.5.0",
          "state": {
            "_view_name": "HBoxView",
            "_dom_classes": [],
            "_model_name": "HBoxModel",
            "_view_module": "@jupyter-widgets/controls",
            "_model_module_version": "1.5.0",
            "_view_count": null,
            "_view_module_version": "1.5.0",
            "box_style": "",
            "layout": "IPY_MODEL_1d98a5c9774f457d9361c5afa9c09ff6",
            "_model_module": "@jupyter-widgets/controls",
            "children": [
              "IPY_MODEL_ec0070c995ea4632a9c2c98184b03ecc",
              "IPY_MODEL_319f135c42c94b5598be1d94d92893cf",
              "IPY_MODEL_d48ebe9577f64db1b3e4f4f99c87946f"
            ]
          }
        },
        "1d98a5c9774f457d9361c5afa9c09ff6": {
          "model_module": "@jupyter-widgets/base",
          "model_name": "LayoutModel",
          "model_module_version": "1.2.0",
          "state": {
            "_view_name": "LayoutView",
            "grid_template_rows": null,
            "right": null,
            "justify_content": null,
            "_view_module": "@jupyter-widgets/base",
            "overflow": null,
            "_model_module_version": "1.2.0",
            "_view_count": null,
            "flex_flow": null,
            "width": null,
            "min_width": null,
            "border": null,
            "align_items": null,
            "bottom": null,
            "_model_module": "@jupyter-widgets/base",
            "top": null,
            "grid_column": null,
            "overflow_y": null,
            "overflow_x": null,
            "grid_auto_flow": null,
            "grid_area": null,
            "grid_template_columns": null,
            "flex": null,
            "_model_name": "LayoutModel",
            "justify_items": null,
            "grid_row": null,
            "max_height": null,
            "align_content": null,
            "visibility": null,
            "align_self": null,
            "height": null,
            "min_height": null,
            "padding": null,
            "grid_auto_rows": null,
            "grid_gap": null,
            "max_width": null,
            "order": null,
            "_view_module_version": "1.2.0",
            "grid_template_areas": null,
            "object_position": null,
            "object_fit": null,
            "grid_auto_columns": null,
            "margin": null,
            "display": null,
            "left": null
          }
        },
        "ec0070c995ea4632a9c2c98184b03ecc": {
          "model_module": "@jupyter-widgets/controls",
          "model_name": "HTMLModel",
          "model_module_version": "1.5.0",
          "state": {
            "_view_name": "HTMLView",
            "style": "IPY_MODEL_1390bcebd2a44989a9734a3d69227fad",
            "_dom_classes": [],
            "description": "",
            "_model_name": "HTMLModel",
            "placeholder": "​",
            "_view_module": "@jupyter-widgets/controls",
            "_model_module_version": "1.5.0",
            "value": "Downloading: 100%",
            "_view_count": null,
            "_view_module_version": "1.5.0",
            "description_tooltip": null,
            "_model_module": "@jupyter-widgets/controls",
            "layout": "IPY_MODEL_66e1c27fd06149c1939d1a1c2d9c4ab2"
          }
        },
        "319f135c42c94b5598be1d94d92893cf": {
          "model_module": "@jupyter-widgets/controls",
          "model_name": "FloatProgressModel",
          "model_module_version": "1.5.0",
          "state": {
            "_view_name": "ProgressView",
            "style": "IPY_MODEL_5bd37374b57349cbbd0a9493adeab639",
            "_dom_classes": [],
            "description": "",
            "_model_name": "FloatProgressModel",
            "bar_style": "success",
            "max": 629,
            "_view_module": "@jupyter-widgets/controls",
            "_model_module_version": "1.5.0",
            "value": 629,
            "_view_count": null,
            "_view_module_version": "1.5.0",
            "orientation": "horizontal",
            "min": 0,
            "description_tooltip": null,
            "_model_module": "@jupyter-widgets/controls",
            "layout": "IPY_MODEL_9b3e64518a8a4fd1bed00004bc4a941a"
          }
        },
        "d48ebe9577f64db1b3e4f4f99c87946f": {
          "model_module": "@jupyter-widgets/controls",
          "model_name": "HTMLModel",
          "model_module_version": "1.5.0",
          "state": {
            "_view_name": "HTMLView",
            "style": "IPY_MODEL_e9d8d4b07fc8476c9cec1a970f51c94c",
            "_dom_classes": [],
            "description": "",
            "_model_name": "HTMLModel",
            "placeholder": "​",
            "_view_module": "@jupyter-widgets/controls",
            "_model_module_version": "1.5.0",
            "value": " 629/629 [00:00&lt;00:00, 17.9kB/s]",
            "_view_count": null,
            "_view_module_version": "1.5.0",
            "description_tooltip": null,
            "_model_module": "@jupyter-widgets/controls",
            "layout": "IPY_MODEL_95560b55ff3b434cb0c385119d742b9f"
          }
        },
        "1390bcebd2a44989a9734a3d69227fad": {
          "model_module": "@jupyter-widgets/controls",
          "model_name": "DescriptionStyleModel",
          "model_module_version": "1.5.0",
          "state": {
            "_view_name": "StyleView",
            "_model_name": "DescriptionStyleModel",
            "description_width": "",
            "_view_module": "@jupyter-widgets/base",
            "_model_module_version": "1.5.0",
            "_view_count": null,
            "_view_module_version": "1.2.0",
            "_model_module": "@jupyter-widgets/controls"
          }
        },
        "66e1c27fd06149c1939d1a1c2d9c4ab2": {
          "model_module": "@jupyter-widgets/base",
          "model_name": "LayoutModel",
          "model_module_version": "1.2.0",
          "state": {
            "_view_name": "LayoutView",
            "grid_template_rows": null,
            "right": null,
            "justify_content": null,
            "_view_module": "@jupyter-widgets/base",
            "overflow": null,
            "_model_module_version": "1.2.0",
            "_view_count": null,
            "flex_flow": null,
            "width": null,
            "min_width": null,
            "border": null,
            "align_items": null,
            "bottom": null,
            "_model_module": "@jupyter-widgets/base",
            "top": null,
            "grid_column": null,
            "overflow_y": null,
            "overflow_x": null,
            "grid_auto_flow": null,
            "grid_area": null,
            "grid_template_columns": null,
            "flex": null,
            "_model_name": "LayoutModel",
            "justify_items": null,
            "grid_row": null,
            "max_height": null,
            "align_content": null,
            "visibility": null,
            "align_self": null,
            "height": null,
            "min_height": null,
            "padding": null,
            "grid_auto_rows": null,
            "grid_gap": null,
            "max_width": null,
            "order": null,
            "_view_module_version": "1.2.0",
            "grid_template_areas": null,
            "object_position": null,
            "object_fit": null,
            "grid_auto_columns": null,
            "margin": null,
            "display": null,
            "left": null
          }
        },
        "5bd37374b57349cbbd0a9493adeab639": {
          "model_module": "@jupyter-widgets/controls",
          "model_name": "ProgressStyleModel",
          "model_module_version": "1.5.0",
          "state": {
            "_view_name": "StyleView",
            "_model_name": "ProgressStyleModel",
            "description_width": "",
            "_view_module": "@jupyter-widgets/base",
            "_model_module_version": "1.5.0",
            "_view_count": null,
            "_view_module_version": "1.2.0",
            "bar_color": null,
            "_model_module": "@jupyter-widgets/controls"
          }
        },
        "9b3e64518a8a4fd1bed00004bc4a941a": {
          "model_module": "@jupyter-widgets/base",
          "model_name": "LayoutModel",
          "model_module_version": "1.2.0",
          "state": {
            "_view_name": "LayoutView",
            "grid_template_rows": null,
            "right": null,
            "justify_content": null,
            "_view_module": "@jupyter-widgets/base",
            "overflow": null,
            "_model_module_version": "1.2.0",
            "_view_count": null,
            "flex_flow": null,
            "width": null,
            "min_width": null,
            "border": null,
            "align_items": null,
            "bottom": null,
            "_model_module": "@jupyter-widgets/base",
            "top": null,
            "grid_column": null,
            "overflow_y": null,
            "overflow_x": null,
            "grid_auto_flow": null,
            "grid_area": null,
            "grid_template_columns": null,
            "flex": null,
            "_model_name": "LayoutModel",
            "justify_items": null,
            "grid_row": null,
            "max_height": null,
            "align_content": null,
            "visibility": null,
            "align_self": null,
            "height": null,
            "min_height": null,
            "padding": null,
            "grid_auto_rows": null,
            "grid_gap": null,
            "max_width": null,
            "order": null,
            "_view_module_version": "1.2.0",
            "grid_template_areas": null,
            "object_position": null,
            "object_fit": null,
            "grid_auto_columns": null,
            "margin": null,
            "display": null,
            "left": null
          }
        },
        "e9d8d4b07fc8476c9cec1a970f51c94c": {
          "model_module": "@jupyter-widgets/controls",
          "model_name": "DescriptionStyleModel",
          "model_module_version": "1.5.0",
          "state": {
            "_view_name": "StyleView",
            "_model_name": "DescriptionStyleModel",
            "description_width": "",
            "_view_module": "@jupyter-widgets/base",
            "_model_module_version": "1.5.0",
            "_view_count": null,
            "_view_module_version": "1.2.0",
            "_model_module": "@jupyter-widgets/controls"
          }
        },
        "95560b55ff3b434cb0c385119d742b9f": {
          "model_module": "@jupyter-widgets/base",
          "model_name": "LayoutModel",
          "model_module_version": "1.2.0",
          "state": {
            "_view_name": "LayoutView",
            "grid_template_rows": null,
            "right": null,
            "justify_content": null,
            "_view_module": "@jupyter-widgets/base",
            "overflow": null,
            "_model_module_version": "1.2.0",
            "_view_count": null,
            "flex_flow": null,
            "width": null,
            "min_width": null,
            "border": null,
            "align_items": null,
            "bottom": null,
            "_model_module": "@jupyter-widgets/base",
            "top": null,
            "grid_column": null,
            "overflow_y": null,
            "overflow_x": null,
            "grid_auto_flow": null,
            "grid_area": null,
            "grid_template_columns": null,
            "flex": null,
            "_model_name": "LayoutModel",
            "justify_items": null,
            "grid_row": null,
            "max_height": null,
            "align_content": null,
            "visibility": null,
            "align_self": null,
            "height": null,
            "min_height": null,
            "padding": null,
            "grid_auto_rows": null,
            "grid_gap": null,
            "max_width": null,
            "order": null,
            "_view_module_version": "1.2.0",
            "grid_template_areas": null,
            "object_position": null,
            "object_fit": null,
            "grid_auto_columns": null,
            "margin": null,
            "display": null,
            "left": null
          }
        },
        "ec1e87edb4ea4c5bb4c2098a1c0d637d": {
          "model_module": "@jupyter-widgets/controls",
          "model_name": "HBoxModel",
          "model_module_version": "1.5.0",
          "state": {
            "_view_name": "HBoxView",
            "_dom_classes": [],
            "_model_name": "HBoxModel",
            "_view_module": "@jupyter-widgets/controls",
            "_model_module_version": "1.5.0",
            "_view_count": null,
            "_view_module_version": "1.5.0",
            "box_style": "",
            "layout": "IPY_MODEL_b2a9e64cbef345079e388ecac6acde60",
            "_model_module": "@jupyter-widgets/controls",
            "children": [
              "IPY_MODEL_4d5a7bfe612f49f8844d7709986b540e",
              "IPY_MODEL_cff65f289cc749f09140ada67d93e08f",
              "IPY_MODEL_fdd97ae3ead34a2abf6c396f6f116865"
            ]
          }
        },
        "b2a9e64cbef345079e388ecac6acde60": {
          "model_module": "@jupyter-widgets/base",
          "model_name": "LayoutModel",
          "model_module_version": "1.2.0",
          "state": {
            "_view_name": "LayoutView",
            "grid_template_rows": null,
            "right": null,
            "justify_content": null,
            "_view_module": "@jupyter-widgets/base",
            "overflow": null,
            "_model_module_version": "1.2.0",
            "_view_count": null,
            "flex_flow": null,
            "width": null,
            "min_width": null,
            "border": null,
            "align_items": null,
            "bottom": null,
            "_model_module": "@jupyter-widgets/base",
            "top": null,
            "grid_column": null,
            "overflow_y": null,
            "overflow_x": null,
            "grid_auto_flow": null,
            "grid_area": null,
            "grid_template_columns": null,
            "flex": null,
            "_model_name": "LayoutModel",
            "justify_items": null,
            "grid_row": null,
            "max_height": null,
            "align_content": null,
            "visibility": null,
            "align_self": null,
            "height": null,
            "min_height": null,
            "padding": null,
            "grid_auto_rows": null,
            "grid_gap": null,
            "max_width": null,
            "order": null,
            "_view_module_version": "1.2.0",
            "grid_template_areas": null,
            "object_position": null,
            "object_fit": null,
            "grid_auto_columns": null,
            "margin": null,
            "display": null,
            "left": null
          }
        },
        "4d5a7bfe612f49f8844d7709986b540e": {
          "model_module": "@jupyter-widgets/controls",
          "model_name": "HTMLModel",
          "model_module_version": "1.5.0",
          "state": {
            "_view_name": "HTMLView",
            "style": "IPY_MODEL_72b460490264420e8f44ccc405199e32",
            "_dom_classes": [],
            "description": "",
            "_model_name": "HTMLModel",
            "placeholder": "​",
            "_view_module": "@jupyter-widgets/controls",
            "_model_module_version": "1.5.0",
            "value": "Downloading: 100%",
            "_view_count": null,
            "_view_module_version": "1.5.0",
            "description_tooltip": null,
            "_model_module": "@jupyter-widgets/controls",
            "layout": "IPY_MODEL_58477d0058f443d1abf80f0160852c6a"
          }
        },
        "cff65f289cc749f09140ada67d93e08f": {
          "model_module": "@jupyter-widgets/controls",
          "model_name": "FloatProgressModel",
          "model_module_version": "1.5.0",
          "state": {
            "_view_name": "ProgressView",
            "style": "IPY_MODEL_b284717960c94796b68d9ad0222f9ee3",
            "_dom_classes": [],
            "description": "",
            "_model_name": "FloatProgressModel",
            "bar_style": "success",
            "max": 231508,
            "_view_module": "@jupyter-widgets/controls",
            "_model_module_version": "1.5.0",
            "value": 231508,
            "_view_count": null,
            "_view_module_version": "1.5.0",
            "orientation": "horizontal",
            "min": 0,
            "description_tooltip": null,
            "_model_module": "@jupyter-widgets/controls",
            "layout": "IPY_MODEL_50b543f7ffb048c69060644bfd552d83"
          }
        },
        "fdd97ae3ead34a2abf6c396f6f116865": {
          "model_module": "@jupyter-widgets/controls",
          "model_name": "HTMLModel",
          "model_module_version": "1.5.0",
          "state": {
            "_view_name": "HTMLView",
            "style": "IPY_MODEL_9101089119f54900bb00ae5fa7c5131f",
            "_dom_classes": [],
            "description": "",
            "_model_name": "HTMLModel",
            "placeholder": "​",
            "_view_module": "@jupyter-widgets/controls",
            "_model_module_version": "1.5.0",
            "value": " 226k/226k [00:00&lt;00:00, 1.02MB/s]",
            "_view_count": null,
            "_view_module_version": "1.5.0",
            "description_tooltip": null,
            "_model_module": "@jupyter-widgets/controls",
            "layout": "IPY_MODEL_cd92caf168554b4a905996ad4dd80bf5"
          }
        },
        "72b460490264420e8f44ccc405199e32": {
          "model_module": "@jupyter-widgets/controls",
          "model_name": "DescriptionStyleModel",
          "model_module_version": "1.5.0",
          "state": {
            "_view_name": "StyleView",
            "_model_name": "DescriptionStyleModel",
            "description_width": "",
            "_view_module": "@jupyter-widgets/base",
            "_model_module_version": "1.5.0",
            "_view_count": null,
            "_view_module_version": "1.2.0",
            "_model_module": "@jupyter-widgets/controls"
          }
        },
        "58477d0058f443d1abf80f0160852c6a": {
          "model_module": "@jupyter-widgets/base",
          "model_name": "LayoutModel",
          "model_module_version": "1.2.0",
          "state": {
            "_view_name": "LayoutView",
            "grid_template_rows": null,
            "right": null,
            "justify_content": null,
            "_view_module": "@jupyter-widgets/base",
            "overflow": null,
            "_model_module_version": "1.2.0",
            "_view_count": null,
            "flex_flow": null,
            "width": null,
            "min_width": null,
            "border": null,
            "align_items": null,
            "bottom": null,
            "_model_module": "@jupyter-widgets/base",
            "top": null,
            "grid_column": null,
            "overflow_y": null,
            "overflow_x": null,
            "grid_auto_flow": null,
            "grid_area": null,
            "grid_template_columns": null,
            "flex": null,
            "_model_name": "LayoutModel",
            "justify_items": null,
            "grid_row": null,
            "max_height": null,
            "align_content": null,
            "visibility": null,
            "align_self": null,
            "height": null,
            "min_height": null,
            "padding": null,
            "grid_auto_rows": null,
            "grid_gap": null,
            "max_width": null,
            "order": null,
            "_view_module_version": "1.2.0",
            "grid_template_areas": null,
            "object_position": null,
            "object_fit": null,
            "grid_auto_columns": null,
            "margin": null,
            "display": null,
            "left": null
          }
        },
        "b284717960c94796b68d9ad0222f9ee3": {
          "model_module": "@jupyter-widgets/controls",
          "model_name": "ProgressStyleModel",
          "model_module_version": "1.5.0",
          "state": {
            "_view_name": "StyleView",
            "_model_name": "ProgressStyleModel",
            "description_width": "",
            "_view_module": "@jupyter-widgets/base",
            "_model_module_version": "1.5.0",
            "_view_count": null,
            "_view_module_version": "1.2.0",
            "bar_color": null,
            "_model_module": "@jupyter-widgets/controls"
          }
        },
        "50b543f7ffb048c69060644bfd552d83": {
          "model_module": "@jupyter-widgets/base",
          "model_name": "LayoutModel",
          "model_module_version": "1.2.0",
          "state": {
            "_view_name": "LayoutView",
            "grid_template_rows": null,
            "right": null,
            "justify_content": null,
            "_view_module": "@jupyter-widgets/base",
            "overflow": null,
            "_model_module_version": "1.2.0",
            "_view_count": null,
            "flex_flow": null,
            "width": null,
            "min_width": null,
            "border": null,
            "align_items": null,
            "bottom": null,
            "_model_module": "@jupyter-widgets/base",
            "top": null,
            "grid_column": null,
            "overflow_y": null,
            "overflow_x": null,
            "grid_auto_flow": null,
            "grid_area": null,
            "grid_template_columns": null,
            "flex": null,
            "_model_name": "LayoutModel",
            "justify_items": null,
            "grid_row": null,
            "max_height": null,
            "align_content": null,
            "visibility": null,
            "align_self": null,
            "height": null,
            "min_height": null,
            "padding": null,
            "grid_auto_rows": null,
            "grid_gap": null,
            "max_width": null,
            "order": null,
            "_view_module_version": "1.2.0",
            "grid_template_areas": null,
            "object_position": null,
            "object_fit": null,
            "grid_auto_columns": null,
            "margin": null,
            "display": null,
            "left": null
          }
        },
        "9101089119f54900bb00ae5fa7c5131f": {
          "model_module": "@jupyter-widgets/controls",
          "model_name": "DescriptionStyleModel",
          "model_module_version": "1.5.0",
          "state": {
            "_view_name": "StyleView",
            "_model_name": "DescriptionStyleModel",
            "description_width": "",
            "_view_module": "@jupyter-widgets/base",
            "_model_module_version": "1.5.0",
            "_view_count": null,
            "_view_module_version": "1.2.0",
            "_model_module": "@jupyter-widgets/controls"
          }
        },
        "cd92caf168554b4a905996ad4dd80bf5": {
          "model_module": "@jupyter-widgets/base",
          "model_name": "LayoutModel",
          "model_module_version": "1.2.0",
          "state": {
            "_view_name": "LayoutView",
            "grid_template_rows": null,
            "right": null,
            "justify_content": null,
            "_view_module": "@jupyter-widgets/base",
            "overflow": null,
            "_model_module_version": "1.2.0",
            "_view_count": null,
            "flex_flow": null,
            "width": null,
            "min_width": null,
            "border": null,
            "align_items": null,
            "bottom": null,
            "_model_module": "@jupyter-widgets/base",
            "top": null,
            "grid_column": null,
            "overflow_y": null,
            "overflow_x": null,
            "grid_auto_flow": null,
            "grid_area": null,
            "grid_template_columns": null,
            "flex": null,
            "_model_name": "LayoutModel",
            "justify_items": null,
            "grid_row": null,
            "max_height": null,
            "align_content": null,
            "visibility": null,
            "align_self": null,
            "height": null,
            "min_height": null,
            "padding": null,
            "grid_auto_rows": null,
            "grid_gap": null,
            "max_width": null,
            "order": null,
            "_view_module_version": "1.2.0",
            "grid_template_areas": null,
            "object_position": null,
            "object_fit": null,
            "grid_auto_columns": null,
            "margin": null,
            "display": null,
            "left": null
          }
        }
      }
    },
    "accelerator": "GPU"
  },
  "cells": [
    {
      "cell_type": "markdown",
      "metadata": {
        "id": "view-in-github",
        "colab_type": "text"
      },
      "source": [
        "<a href=\"https://colab.research.google.com/github/andrefsc/SDC_M04/blob/main/zTarea_Modulo_6_Parte_1.ipynb\" target=\"_parent\"><img src=\"https://colab.research.google.com/assets/colab-badge.svg\" alt=\"Open In Colab\"/></a>"
      ]
    },
    {
      "cell_type": "markdown",
      "metadata": {
        "id": "itY3q17Uba-N"
      },
      "source": [
        "# **Master en Inteligência Artificial en el Deporte, Edición 8**\n",
        "\n",
        "![logo_SDC.webp](data:image/webp;base64,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)"
      ]
    },
    {
      "cell_type": "markdown",
      "source": [
        "__Tarea Individual Módulo 6 - Parte 1__\n",
        "````\n",
        "Análisis de sentimiento con BERT : Reviews de Películas\n",
        "\n",
        "La primera parte de esta tarea consiste en utilizar el modelo BERT para realizar un análisis de sentimiento de reviews de películas.\n",
        "\n",
        "Utilizaremos el notebook Tarea_Modulo_6_Parte_1.ipynb cómo plantilla, donde se necesitan completar varias celdas del notebook con\n",
        "el código necesario para realizar las tareas que se piden (Instrucciones al principio del notebook).\n",
        "Además, se deben contestar un par de preguntas sobre el desarrollo al final del notebook.\n",
        "\n",
        "---\n",
        "\n",
        "André Silveira Castanho\n",
        "April, 2024\n",
        "\n",
        "`````"
      ],
      "metadata": {
        "id": "AnKCic_lp2vH"
      }
    },
    {
      "cell_type": "markdown",
      "metadata": {
        "id": "EDvouw8R7ch2"
      },
      "source": [
        "El ambiente virtual de Google Colab ya incluye muchas de las bibliotecas comúnmente usadas en tareas de inteligencia artificial. No obstante, es necesario añadir la biblioteca **transformers** de Huggingface y **tqdm**, que facilita la visualización de barras de progreso en bucles for."
      ]
    },
    {
      "cell_type": "code",
      "metadata": {
        "id": "Ts4fGFUifZ54",
        "colab": {
          "base_uri": "https://localhost:8080/"
        },
        "outputId": "24946526-eebc-4760-9f10-7303c986c320"
      },
      "source": [
        "!pip install transformers\n",
        "!pip install tqdm"
      ],
      "execution_count": 1,
      "outputs": [
        {
          "output_type": "stream",
          "name": "stdout",
          "text": [
            "Requirement already satisfied: transformers in /usr/local/lib/python3.10/dist-packages (4.38.2)\n",
            "Requirement already satisfied: filelock in /usr/local/lib/python3.10/dist-packages (from transformers) (3.13.4)\n",
            "Requirement already satisfied: huggingface-hub<1.0,>=0.19.3 in /usr/local/lib/python3.10/dist-packages (from transformers) (0.20.3)\n",
            "Requirement already satisfied: numpy>=1.17 in /usr/local/lib/python3.10/dist-packages (from transformers) (1.25.2)\n",
            "Requirement already satisfied: packaging>=20.0 in /usr/local/lib/python3.10/dist-packages (from transformers) (24.0)\n",
            "Requirement already satisfied: pyyaml>=5.1 in /usr/local/lib/python3.10/dist-packages (from transformers) (6.0.1)\n",
            "Requirement already satisfied: regex!=2019.12.17 in /usr/local/lib/python3.10/dist-packages (from transformers) (2023.12.25)\n",
            "Requirement already satisfied: requests in /usr/local/lib/python3.10/dist-packages (from transformers) (2.31.0)\n",
            "Requirement already satisfied: tokenizers<0.19,>=0.14 in /usr/local/lib/python3.10/dist-packages (from transformers) (0.15.2)\n",
            "Requirement already satisfied: safetensors>=0.4.1 in /usr/local/lib/python3.10/dist-packages (from transformers) (0.4.2)\n",
            "Requirement already satisfied: tqdm>=4.27 in /usr/local/lib/python3.10/dist-packages (from transformers) (4.66.2)\n",
            "Requirement already satisfied: fsspec>=2023.5.0 in /usr/local/lib/python3.10/dist-packages (from huggingface-hub<1.0,>=0.19.3->transformers) (2023.6.0)\n",
            "Requirement already satisfied: typing-extensions>=3.7.4.3 in /usr/local/lib/python3.10/dist-packages (from huggingface-hub<1.0,>=0.19.3->transformers) (4.11.0)\n",
            "Requirement already satisfied: charset-normalizer<4,>=2 in /usr/local/lib/python3.10/dist-packages (from requests->transformers) (3.3.2)\n",
            "Requirement already satisfied: idna<4,>=2.5 in /usr/local/lib/python3.10/dist-packages (from requests->transformers) (3.6)\n",
            "Requirement already satisfied: urllib3<3,>=1.21.1 in /usr/local/lib/python3.10/dist-packages (from requests->transformers) (2.0.7)\n",
            "Requirement already satisfied: certifi>=2017.4.17 in /usr/local/lib/python3.10/dist-packages (from requests->transformers) (2024.2.2)\n",
            "Requirement already satisfied: tqdm in /usr/local/lib/python3.10/dist-packages (4.66.2)\n"
          ]
        }
      ]
    },
    {
      "cell_type": "markdown",
      "metadata": {
        "id": "BCzcGoUEf1ks"
      },
      "source": [
        "# 0. Imports\n",
        "\n",
        "En la sección `Imports` agrupamos todas las librerías y clases que debemos importar en esta tarea."
      ]
    },
    {
      "cell_type": "markdown",
      "source": [],
      "metadata": {
        "id": "p_boEyMxs5b6"
      }
    },
    {
      "cell_type": "code",
      "metadata": {
        "id": "sF09g3M6fsNO"
      },
      "source": [
        "# import basic libraries for data science\n",
        "import pandas as pd # para manipulación y análisis de datos\n",
        "import numpy as np # para operaciones matemáticas de alto nivel\n",
        "import matplotlib.pyplot as plt # para la visualización de datos\n",
        "\n",
        "# import torch and transformers\n",
        "import torch # el framework principal para operaciones con tensores y redes neuronales\n",
        "from torch import cuda # de PyTorch, para operaciones en GPUs\n",
        "from torch.utils.data import Dataset, DataLoader # para manejar y cargar datos en formato adecuado para entrenar modelos con PyTorch\n",
        "from transformers import AutoModelForSequenceClassification, AutoTokenizer # de la biblioteca transformers, para cargar modelos preentrenados\n",
        "                                                                           # y tokenizadores que se ajustan automáticamente al modelo\n",
        "\n",
        "# import different metrics for evaluation\n",
        "# Para evaluar el rendimiento de modelos de clasificación\n",
        "from sklearn.metrics import confusion_matrix\n",
        "from sklearn.metrics import classification_report, accuracy_score, f1_score\n",
        "\n",
        "# import tqdm to track progress\n",
        "from tqdm import tqdm # para mostrar barras de progreso en bucles, facilitando el seguimiento de largas ejecuciones\n",
        "\n",
        "# import some python modules required for some of the utility functions\n",
        "import itertools # ofrece construcciones eficientes de bucles\n",
        "import re # para operaciones de expresiones regulares\n",
        "import os # para interactuar con el sistema operativo, como manejo de archivos y directorios"
      ],
      "execution_count": null,
      "outputs": []
    },
    {
      "cell_type": "markdown",
      "metadata": {
        "id": "nET1o0yR9d1E"
      },
      "source": [
        "# 1. Utils\n",
        "\n",
        "En la sección `Utils` se encuentran varias funciones de utilidad con sus docstrings que se utilizarán a largo de la implementación para preprocesar y limpiar datos y también evaluar los resultados.\n",
        "\n",
        "Aquí encontrais la función `text_cleaning()` sobre la que teneis que responder unas preguntas."
      ]
    },
    {
      "cell_type": "code",
      "metadata": {
        "id": "oO-4gPPE9fUV"
      },
      "source": [
        "################################\n",
        "# text processing and cleaning #\n",
        "################################\n",
        "\n",
        "def encode_sentiment(sentiment):\n",
        "  \"\"\"\n",
        "  Label encode sentiment.\n",
        "\n",
        "  Parameters\n",
        "  ----------\n",
        "  sentiment: str, sentiment {\"positive\", \"sentiment\"}\n",
        "\n",
        "  Returns\n",
        "  -------\n",
        "  int, 1's for positive and 0's for negative\n",
        "\n",
        "  \"\"\"\n",
        "  if sentiment == \"positive\":\n",
        "    return 1\n",
        "  else:\n",
        "    return 0\n",
        "\n",
        "def is_ascii(w):\n",
        "  \"\"\"\n",
        "  Check if character is ascii type.\n",
        "\n",
        "  Parameters\n",
        "  ----------\n",
        "  w: str, character\n",
        "\n",
        "  Returns\n",
        "  -------\n",
        "  bool, True if character is ascii. False otherwise.\n",
        "  \"\"\"\n",
        "  try:\n",
        "    w.encode(\"ascii\")\n",
        "    return True\n",
        "  except UnicodeEncodeError:\n",
        "    return False\n",
        "\n",
        "def text_cleaning(text):\n",
        "  \"\"\"\n",
        "  Clean text from symbols, punctuation, etc.\n",
        "\n",
        "  Parameters\n",
        "  ----------\n",
        "  text: string, text data\n",
        "\n",
        "  Returns\n",
        "  -------\n",
        "  cleaned_text: string, cleaned text data\n",
        "  \"\"\"\n",
        "  # remove string formatting '\\n' or '\\t'\n",
        "  tmp_text = re.sub(r'\\n+', '. ', text)\n",
        "  tmp_text = re.sub(r'\\t+', '. ', text)\n",
        "  # remove words with non-ascii characters\n",
        "  tmp_text = \" \".join([word for word in tmp_text.split() if is_ascii(word)])\n",
        "  # remove email address\n",
        "  tmp_text = \" \".join([word for word in tmp_text.split() if not word.startswith(\"@\")])\n",
        "  # remove urls\n",
        "  tmp_text = re.sub(r'http\\S+', '', tmp_text, flags=re.MULTILINE)\n",
        "  tmp_text = re.sub(r'www\\S+', '', tmp_text, flags=re.MULTILINE)\n",
        "  # remove punctuation but . (to split sentences)\n",
        "  cleaned_text = re.sub('[^A-Za-z.,]+', ' ', tmp_text)\n",
        "  # lowercase\n",
        "  cleaned_text = cleaned_text.lower()\n",
        "\n",
        "  return cleaned_text\n",
        "\n",
        "##############\n",
        "# Evaluation #\n",
        "##############\n",
        "\n",
        "def plot_confusion_matrix(cm, classes,\n",
        "                          normalize=False,\n",
        "                          title='Confusion matrix',\n",
        "                          cmap=plt.cm.Blues):\n",
        "    \"\"\"\n",
        "    This function prints and plots the confusion matrix.\n",
        "    Normalization can be applied by setting `normalize=True`.\n",
        "    \"\"\"\n",
        "    if normalize:\n",
        "        cm = cm.astype('float') / cm.sum(axis=1)[:, np.newaxis]\n",
        "\n",
        "    plt.imshow(cm, interpolation='nearest', cmap=cmap)\n",
        "    plt.title(title)\n",
        "    plt.colorbar()\n",
        "    tick_marks = np.arange(len(classes))\n",
        "    plt.xticks(tick_marks, classes, rotation=45)\n",
        "    plt.yticks(tick_marks, classes)\n",
        "\n",
        "    fmt = '.2f' if normalize else 'd'\n",
        "    thresh = cm.max() / 2.\n",
        "    for i, j in itertools.product(range(cm.shape[0]), range(cm.shape[1])):\n",
        "        plt.text(j, i, format(cm[i, j], fmt),\n",
        "                 horizontalalignment=\"center\",\n",
        "                 color=\"white\" if cm[i, j] > thresh else \"black\")\n",
        "\n",
        "    plt.tight_layout()\n",
        "    plt.ylabel('True label',fontsize=15)\n",
        "    plt.xlabel('Predicted label',fontsize=15)"
      ],
      "execution_count": null,
      "outputs": []
    },
    {
      "cell_type": "markdown",
      "metadata": {
        "id": "VosJQ0fegIjW"
      },
      "source": [
        "# 2. Config\n",
        "\n",
        "En la sección `Config` definimos variables y objetos que utilizaremos en el desarrollo y queremos tener agrupados en el mismo lugar."
      ]
    },
    {
      "cell_type": "code",
      "metadata": {
        "id": "f7kdLbAqQIi0",
        "colab": {
          "base_uri": "https://localhost:8080/",
          "height": 130,
          "referenced_widgets": [
            "e8f5ab4703e84ed797f37941d877171f",
            "79ab54a0f97b4325a5e998b0e285096a",
            "91f318cc7ce747ec97683710d1e8a317",
            "7597ced1e2a14cebb338f0ed312932d1",
            "4145715f58b845cb9c2fade1e751ef6c",
            "567607c676e2485696d9e482d87b8def",
            "45097ddc188d4224976128140c2fb9b9",
            "9d84ff1e36074dc5afc7dc75173927c3",
            "f8c2780240884e108fcb91a11a3692b1",
            "a542b4dd77a64cebbe1f931bd81c23ad",
            "a5f474dfa15143bfaf370c012251f096",
            "8b525a952cde4dcb891da03be654c6e9",
            "1d98a5c9774f457d9361c5afa9c09ff6",
            "ec0070c995ea4632a9c2c98184b03ecc",
            "319f135c42c94b5598be1d94d92893cf",
            "d48ebe9577f64db1b3e4f4f99c87946f",
            "1390bcebd2a44989a9734a3d69227fad",
            "66e1c27fd06149c1939d1a1c2d9c4ab2",
            "5bd37374b57349cbbd0a9493adeab639",
            "9b3e64518a8a4fd1bed00004bc4a941a",
            "e9d8d4b07fc8476c9cec1a970f51c94c",
            "95560b55ff3b434cb0c385119d742b9f",
            "ec1e87edb4ea4c5bb4c2098a1c0d637d",
            "b2a9e64cbef345079e388ecac6acde60",
            "4d5a7bfe612f49f8844d7709986b540e",
            "cff65f289cc749f09140ada67d93e08f",
            "fdd97ae3ead34a2abf6c396f6f116865",
            "72b460490264420e8f44ccc405199e32",
            "58477d0058f443d1abf80f0160852c6a",
            "b284717960c94796b68d9ad0222f9ee3",
            "50b543f7ffb048c69060644bfd552d83",
            "9101089119f54900bb00ae5fa7c5131f",
            "cd92caf168554b4a905996ad4dd80bf5"
          ]
        },
        "outputId": "a852bb70-b88e-4620-be53-727b66993b12"
      },
      "source": [
        "# Defining some key variables that will be used later on\n",
        "MAX_LEN = 512 # max number of tokens\n",
        "BATCH_SIZE = 64\n",
        "SEED = 42 # for reprodudible results\n",
        "\n",
        "# Initialiaze model tokenizer\n",
        "TOKENIZER = AutoTokenizer.from_pretrained('distilbert-base-uncased-finetuned-sst-2-english')\n",
        "\n",
        "# Setting up the device for GPU usage if available\n",
        "DEVICE = 'cuda' if cuda.is_available() else 'cpu'\n",
        "print(DEVICE)"
      ],
      "execution_count": null,
      "outputs": [
        {
          "output_type": "display_data",
          "data": {
            "application/vnd.jupyter.widget-view+json": {
              "model_id": "e8f5ab4703e84ed797f37941d877171f",
              "version_minor": 0,
              "version_major": 2
            },
            "text/plain": [
              "Downloading:   0%|          | 0.00/48.0 [00:00<?, ?B/s]"
            ]
          },
          "metadata": {}
        },
        {
          "output_type": "display_data",
          "data": {
            "application/vnd.jupyter.widget-view+json": {
              "model_id": "8b525a952cde4dcb891da03be654c6e9",
              "version_minor": 0,
              "version_major": 2
            },
            "text/plain": [
              "Downloading:   0%|          | 0.00/629 [00:00<?, ?B/s]"
            ]
          },
          "metadata": {}
        },
        {
          "output_type": "display_data",
          "data": {
            "application/vnd.jupyter.widget-view+json": {
              "model_id": "ec1e87edb4ea4c5bb4c2098a1c0d637d",
              "version_minor": 0,
              "version_major": 2
            },
            "text/plain": [
              "Downloading:   0%|          | 0.00/226k [00:00<?, ?B/s]"
            ]
          },
          "metadata": {}
        },
        {
          "output_type": "stream",
          "name": "stdout",
          "text": [
            "cpu\n"
          ]
        }
      ]
    },
    {
      "cell_type": "markdown",
      "metadata": {
        "id": "oNb4a1Gn9vGj"
      },
      "source": [
        "# 3. Data\n",
        "\n",
        "En la sección `Data` necesitamos cargar los datos en un dataframe de pandas, codificar el sentimiento y limpiar el texto.\n",
        "\n",
        "Podeis hacer uso de las funciones de utilidad `encode_sentiment()` y `text_cleaning()`."
      ]
    },
    {
      "cell_type": "code",
      "metadata": {
        "id": "sfEF5fxD9ubi"
      },
      "source": [
        "### 1. Escribir código para cargar los datos y codificar la columna sentiment.###\n",
        "### Sustituir None por el código necesario ###\n",
        "raw_data = None"
      ],
      "execution_count": null,
      "outputs": []
    },
    {
      "cell_type": "code",
      "metadata": {
        "id": "XzINJUisgVSI"
      },
      "source": [
        "raw_data.head()"
      ],
      "execution_count": null,
      "outputs": []
    },
    {
      "cell_type": "code",
      "metadata": {
        "id": "bf70PkZF_ikL"
      },
      "source": [
        "### 2. Escribir código para limpiar el texto utilizando la función text_cleaning() ###\n",
        "### Sustituir None por el código necesario ###\n",
        "cleaned_data = raw_data.copy()\n",
        "cleaned_data[\"review\"] = None"
      ],
      "execution_count": null,
      "outputs": []
    },
    {
      "cell_type": "markdown",
      "metadata": {
        "id": "fYFL3kpfhGfY"
      },
      "source": [
        "# 4. Dataset and Dataloader\n",
        "\n",
        "En la sección `Dataset and Dataloader` vamos a crear un dataset de Pytorch del tipo map-iterable que utilizaremos para almacenar los datos y procesarlos de acuerdo a los requirimientos del modelo.\n",
        "\n",
        "Después creamos un objeto `DataLoader` de Pytorch que toma el dataset para poder pasar ejemplos al modelo en lotes o batches.\n",
        "\n",
        "__Clase DistilBertDataset__\n",
        "\n",
        "La clase `DistilBertDataset` toma como argumentos un dataframe con los datos, el tokenizador del modelo y el número de máximo de tokens que definimos en la sección `Config`.\n",
        "\n",
        "El método `__getitem__()` toma como parámetro un índice de los datos en el dataset, extrae el ejemplo correspondiente del dataframe y utiliza la función `encode_plus()` del tokenizador para procesar los inputs de acuerdo a los requerimientos de DistilBERT ( special tokens [CLS] y [SEP], truncation, padding, etc.). Este método devuelve un diccionario de python con los tensores que continen los inputs ids, los attention masks y el sentimiento codificado.\n",
        "\n",
        "El método `__len__()` simplemente devuelve el número de ejemplos en el dataset.\n",
        "\n",
        "__DataLoader__\n",
        "\n",
        "El `DataLoader` viene a ser un generador que devulve lotes de tamaño `BATCH_SIZE` para alimentar el modelo.\n",
        "\n",
        "En sus parámetros podemos definir el tamaño de lote o batch size, si seleccionar de forma aleatoria los ejemplos a incluir en el batch o no (recomendable al realizar un entrenamiento) y también el número de workers a utilizar (2 para Google Colab)."
      ]
    },
    {
      "cell_type": "code",
      "metadata": {
        "id": "QgA9BXnjhlAj"
      },
      "source": [
        "class DistilBertDataset(Dataset):\n",
        "  \"\"\"Custom pytorch map-iterable dataset for sentiment analysis with DistilBERT.\"\"\"\n",
        "  def __init__(self, dataframe, tokenizer, max_len):\n",
        "      self.len = len(dataframe)\n",
        "      self.data = dataframe\n",
        "      self.tokenizer = tokenizer\n",
        "      self.max_len = max_len\n",
        "\n",
        "  def __getitem__(self, index):\n",
        "      text = str(self.data['review'].loc[index])\n",
        "      text = \" \".join(text.split())\n",
        "      inputs = self.tokenizer.encode_plus(\n",
        "          text,\n",
        "          None,\n",
        "          add_special_tokens=True,\n",
        "          max_length=self.max_len,\n",
        "          padding='max_length',\n",
        "          return_token_type_ids=False,\n",
        "          truncation=True\n",
        "      )\n",
        "      ids = inputs['input_ids']\n",
        "      mask = inputs['attention_mask']\n",
        "\n",
        "      return {\n",
        "          'ids': torch.tensor(ids, dtype=torch.long),\n",
        "          'mask': torch.tensor(mask, dtype=torch.long),\n",
        "          'targets': torch.tensor(self.data['sentiment'].loc[index], dtype=torch.long)\n",
        "      }\n",
        "\n",
        "  def __len__(self):\n",
        "      return self.len"
      ],
      "execution_count": null,
      "outputs": []
    },
    {
      "cell_type": "code",
      "metadata": {
        "id": "maPFdrm-RStd"
      },
      "source": [
        "### 3. Escribir código para crear un objeto DistilBertDataset con los inputs ###\n",
        "### limpios, el tokenizador del modelo y el máximo número de tokens ###\n",
        "### Sustituir None por el código necesario ###\n",
        "dataset = None"
      ],
      "execution_count": null,
      "outputs": []
    },
    {
      "cell_type": "code",
      "metadata": {
        "id": "lXjuKL1AGYCS"
      },
      "source": [
        "print(\"---- Visually inspecting 5th element ----\")\n",
        "print(f\"Input ids: {dataset[6]['ids']}\")\n",
        "print(f\"Attention masks: {dataset[6]['mask']}\")\n",
        "print(f\"Target: {dataset[6]['targets']}\")\n",
        "print(\"------------------------------------------\")"
      ],
      "execution_count": null,
      "outputs": []
    },
    {
      "cell_type": "code",
      "metadata": {
        "id": "DF9X4qSqiXzK"
      },
      "source": [
        "# define dataloader params\n",
        "dataloader_params = {'batch_size': BATCH_SIZE,\n",
        "                'shuffle': False,\n",
        "                'num_workers': 2\n",
        "                }\n",
        "\n",
        "# create dataloader\n",
        "data_loader = DataLoader(dataset, **dataloader_params)"
      ],
      "execution_count": null,
      "outputs": []
    },
    {
      "cell_type": "markdown",
      "metadata": {
        "id": "VYipI3FDigJZ"
      },
      "source": [
        "# 5. Model\n",
        "\n",
        "En la sección `Model` creamos la clase DistilBERTClass() con el modelo ya ajustado que se encuentra en el hub de modelos de Huggingface.\n",
        "\n",
        "El método `forward()` de la clase toma los inputs ids y attention mask que devuelve el método `__getitem__()` de la clase `DistilBertDataset`."
      ]
    },
    {
      "cell_type": "code",
      "metadata": {
        "id": "yY14bx9Cie9Z"
      },
      "source": [
        "class DistilBERTClass(torch.nn.Module):\n",
        "  \"\"\"Custom class for DilstilBERT model for Sequence Classification.\"\"\"\n",
        "  def __init__(self):\n",
        "      super(DistilBERTClass, self).__init__()\n",
        "      self.model = AutoModelForSequenceClassification \\\n",
        "        .from_pretrained(\"distilbert-base-uncased-finetuned-sst-2-english\")\n",
        "\n",
        "  def forward(self, input_ids, attention_mask):\n",
        "      output = self.model(input_ids=input_ids, attention_mask=attention_mask)\n",
        "      logits = output.logits\n",
        "\n",
        "      return logits"
      ],
      "execution_count": null,
      "outputs": []
    },
    {
      "cell_type": "markdown",
      "metadata": {
        "id": "iv-5Vd4b98iH"
      },
      "source": [
        "# 6. Inference\n",
        "\n",
        "En la sección `Inference` vamos a utilizar el modelo para realizar inferencia y obtener los sentimientos de las reviews.\n",
        "\n",
        "Después utilizamos la función `inference()` para obtener las predicciones.\n"
      ]
    },
    {
      "cell_type": "code",
      "metadata": {
        "id": "yM-4udy2D8Jx"
      },
      "source": [
        "# Download and load trained DistilBERT model\n",
        "model = DistilBERTClass()\n",
        "model.to(DEVICE)"
      ],
      "execution_count": null,
      "outputs": []
    },
    {
      "cell_type": "code",
      "metadata": {
        "id": "dWsImXd8aJVH"
      },
      "source": [
        "def inference(data_loader, model, device):\n",
        "    \"\"\"\n",
        "    Binary classification using DistilBERT model.\n",
        "\n",
        "    Parameters\n",
        "    ----------\n",
        "    data_loader: Pytorch DataLoader object\n",
        "    model: DistilBERTClass Object\n",
        "    device: str, device\n",
        "\n",
        "    Returns\n",
        "    -------\n",
        "    lists, outputs logits and targets\n",
        "    \"\"\"\n",
        "    # put model in evaluation mode\n",
        "    model.eval()\n",
        "    # create lists to be populated with predictions and corresponding targets\n",
        "    fin_targets = []\n",
        "    fin_outputs = []\n",
        "    # do not calculate gradients as not required for inference\n",
        "    with torch.no_grad():\n",
        "        # loop over batches and get predictions\n",
        "        for bi, d in tqdm(enumerate(data_loader), total=len(data_loader)):\n",
        "            ids = d['ids']\n",
        "            mask = d['mask']\n",
        "            targets = d['targets']\n",
        "\n",
        "            # send them to the cuda device we are using\n",
        "            ids = ids.to(device, dtype=torch.long)\n",
        "            mask = mask.to(device, dtype=torch.long)\n",
        "            targets = targets.to(device, dtype=torch.long)\n",
        "            # get outputs logits\n",
        "            outputs = model(\n",
        "                input_ids=ids,\n",
        "                attention_mask=mask\n",
        "            )\n",
        "            # Normalize logits and store results and targets in lists\n",
        "            fin_targets.extend(targets.cpu().detach().numpy().tolist())\n",
        "            fin_outputs.extend(torch.sigmoid(outputs).cpu().detach().numpy().tolist())\n",
        "\n",
        "    return fin_outputs, fin_targets"
      ],
      "execution_count": null,
      "outputs": []
    },
    {
      "cell_type": "code",
      "metadata": {
        "id": "n_h3497nHqNV"
      },
      "source": [
        "# run inference -> sentiment analysis\n",
        "outputs, targets = inference(\n",
        "    data_loader=data_loader,\n",
        "    model=model,\n",
        "    device=DEVICE\n",
        ")"
      ],
      "execution_count": null,
      "outputs": []
    },
    {
      "cell_type": "code",
      "metadata": {
        "id": "lFdIcfRsHt4S"
      },
      "source": [
        "### 4. Escribir código obtener las predicciónes a partir de las logits normalizadas ###\n",
        "### Criterio: Elegir la clase más probable ###\n",
        "### La función de numpy np.argmax() puede ser de gran ayuda ;) ###\n",
        "### Sustituir None por el código necesario ###\n",
        "outputs = None"
      ],
      "execution_count": null,
      "outputs": []
    },
    {
      "cell_type": "markdown",
      "metadata": {
        "id": "7mBJtMTWEdq8"
      },
      "source": [
        "# 7. Evaluation\n",
        "\n",
        "En la sección `Evaluation` calculamos métricas típicas de un poblema de clasificación binario: Accuracy y F1 Score.\n",
        "\n",
        "También graficamos la matriz de confusión utlizando la función de utilidad `plot_confusion_matrix()`.\n",
        "\n",
        "Finalmente, hacemos una pequeña evaluación visual de los inputs, los targets y las predicciones."
      ]
    },
    {
      "cell_type": "code",
      "metadata": {
        "id": "ejQLUp8UHt2G"
      },
      "source": [
        "### 5. Escribir código para calcular accuracy y f1_score ###\n",
        "### Sustituir None por el código necesario ###\n",
        "accuracy = None\n",
        "f_score = None\n",
        "print(f\"Training Accuracy Score = {accuracy}\")\n",
        "print(f\"Training F1-Score = {f_score}\")"
      ],
      "execution_count": null,
      "outputs": []
    },
    {
      "cell_type": "code",
      "metadata": {
        "id": "JGYALx53QSPO"
      },
      "source": [
        "# classification report\n",
        "print(classification_report(targets, outputs, target_names=[\"Negative\", \"Positive\"]))"
      ],
      "execution_count": null,
      "outputs": []
    },
    {
      "cell_type": "code",
      "metadata": {
        "id": "DfHfKlYFHtzv"
      },
      "source": [
        "# print the confusion matrix\n",
        "cnf_matrix = confusion_matrix(targets, outputs, labels=[0, 1])\n",
        "plt.figure(figsize=(8,6))\n",
        "plot_confusion_matrix(\n",
        "    cnf_matrix,classes=['Negative','Positive'],\n",
        "    normalize=True,\n",
        "    title='Confusion matrix'\n",
        ")"
      ],
      "execution_count": null,
      "outputs": []
    },
    {
      "cell_type": "code",
      "metadata": {
        "id": "wlwlH4rdQt5w"
      },
      "source": [
        "#visual evalution\n",
        "for review, target, output in zip(cleaned_data.review.values[:10], targets, outputs):\n",
        "  print(f\"Text: {review}\")\n",
        "  print(f\"Target: {target}\\tOutput: {output}\\n\")"
      ],
      "execution_count": null,
      "outputs": []
    },
    {
      "cell_type": "markdown",
      "metadata": {
        "id": "PiCLHHuxw07M"
      },
      "source": [
        "# 8. Preguntas\n",
        "\n",
        "### 8.1. La función `text_cleaning` se utiliza para limpiar el texto de caracteres, puntuación, etc. que añaden ruido a los datos y dificultan el aprendizaje. ¿Cuál crees que ha sido el proceso para identificar los requerimientos de limpieza de los datos y que se ven reflejados es esta función? ¿Crees que se podría mejorar esta función?"
      ]
    },
    {
      "cell_type": "markdown",
      "metadata": {
        "id": "f3yuLBnlw75T"
      },
      "source": [
        "Respuesta:"
      ]
    },
    {
      "cell_type": "markdown",
      "metadata": {
        "id": "e2J6wcluw-Fn"
      },
      "source": [
        "### 8.2. En la plantilla, ¿Cuál es el propósito de la siguiente línea de código?\n",
        "\n",
        "`model.to(DEVICE)`"
      ]
    },
    {
      "cell_type": "markdown",
      "metadata": {
        "id": "NZJD9rtdw_Ns"
      },
      "source": [
        "Respuesta:"
      ]
    }
  ]
}